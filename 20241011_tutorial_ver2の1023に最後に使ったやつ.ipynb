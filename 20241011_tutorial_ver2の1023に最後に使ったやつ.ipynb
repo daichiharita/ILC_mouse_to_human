{
 "cells": [
  {
   "cell_type": "markdown",
   "id": "fb29c4f8",
   "metadata": {},
   "source": [
    "## このtutorialの目標\n",
    "- 遺伝子リストからBed fileをGRCh37で作成する\n",
    "\n",
    "- gencode Release 26 (GRCh37)\n",
    "- Comprehensive gene annotationの\"transcript\"行かつ\"basic\" tagの最初から最後までをgene領域と定義した"
   ]
  },
  {
   "cell_type": "markdown",
   "id": "f6019030",
   "metadata": {},
   "source": [
    "## 準備\n",
    "gene_listを作成\n",
    "gene_list例： (注意①タブ区切り、②1行目のcolumnの名前は必ず\"gene\"とする。2行目はあってもなくてもいい。)\n",
    "gene\tscore\n",
    "ENSG00000160460\t-0.0286259792308088\n",
    "ENSG00000174684\t-0.0279487738205304\n",
    "ENSG00000105696\t-0.0274671499207989\n",
    "ENSG00000036530\t-0.0273632439634759\n",
    "ENSG00000167971\t-0.0272309033221084\n",
    "ENSG00000171160\t-0.0270953559492696\n",
    "ENSG00000154118\t-0.0270406160704988\n",
    "ENSG00000213023\t-0.0270396538281061\n",
    "ENSG00000162188\t-0.027008457209436\n",
    "ENSG00000196361\t-0.026997114013352\n",
    "ENSG00000167733\t-0.0269925008951092\n",
    "ENSG00000167654\t-0.0269833655151878\n",
    "ENSG00000177108\t-0.0268820364014152\n",
    "ENSG00000148408\t-0.0268771859571707"
   ]
  },
  {
   "cell_type": "code",
   "execution_count": 1,
   "id": "6646766d-9874-4d27-9f62-e16bd7e8a0b4",
   "metadata": {},
   "outputs": [
    {
     "name": "stderr",
     "output_type": "stream",
     "text": [
      "\n",
      " 次のパッケージを付け加えます: ‘dplyr’ \n",
      "\n",
      "\n",
      " 以下のオブジェクトは ‘package:stats’ からマスクされています:\n",
      "\n",
      "    filter, lag\n",
      "\n",
      "\n",
      " 以下のオブジェクトは ‘package:base’ からマスクされています:\n",
      "\n",
      "    intersect, setdiff, setequal, union\n",
      "\n",
      "\n"
     ]
    },
    {
     "name": "stdout",
     "output_type": "stream",
     "text": [
      "gene_list.txtにGene_stableNAIDのリストを作成しました。\n"
     ]
    }
   ],
   "source": [
    "# 必要なライブラリを読み込む（もし未インストールなら、install.packages()でインストール）\n",
    "library(dplyr)\n",
    "\n",
    "# ファイルが保存されているディレクトリのパス\n",
    "directory <- \"~/work/scRNA-seq/result/mousetohuman2/\"\n",
    "\n",
    "# geneリストを格納するためのデータフレーム\n",
    "gene_list <- data.frame(gene = character())\n",
    "\n",
    "# gene_cluster_0.txt から gene_cluster_7.txt までのファイルを処理\n",
    "for (i in 0:7) {\n",
    "  file_path <- paste0(directory, \"gene_cluster_\", i, \".txt\")\n",
    "  \n",
    "  # ファイルの読み込み\n",
    "  data <- read.table(file_path, header = TRUE, sep = \"\\t\", stringsAsFactors = FALSE)\n",
    "  \n",
    "  # Gene_stableNAID列（3列目）を抽出し、重複を削除\n",
    "  gene_list <- bind_rows(gene_list, data.frame(gene = data$Gene_stableNAID)) %>%\n",
    "    distinct()\n",
    "}\n",
    "\n",
    "# gene_listをファイルに書き込む\n",
    "write.table(gene_list, file = \"gene_list.txt\", quote = FALSE, sep = \"\\t\", row.names = FALSE, col.names = TRUE)\n",
    "\n",
    "cat(\"gene_list.txtにGene_stableNAIDのリストを作成しました。\\n\")"
   ]
  },
  {
   "cell_type": "code",
   "execution_count": 2,
   "id": "d504c051-0e28-4b36-9586-a38e2e449927",
   "metadata": {},
   "outputs": [
    {
     "data": {
      "text/html": [
       "'/rshare1/ZETTAI_path_WA_slash_home_KARA/home/harita/work/SLDSC/test1/script'"
      ],
      "text/latex": [
       "'/rshare1/ZETTAI\\_path\\_WA\\_slash\\_home\\_KARA/home/harita/work/SLDSC/test1/script'"
      ],
      "text/markdown": [
       "'/rshare1/ZETTAI_path_WA_slash_home_KARA/home/harita/work/SLDSC/test1/script'"
      ],
      "text/plain": [
       "[1] \"/rshare1/ZETTAI_path_WA_slash_home_KARA/home/harita/work/SLDSC/test1/script\""
      ]
     },
     "metadata": {},
     "output_type": "display_data"
    }
   ],
   "source": [
    "getwd()"
   ]
  },
  {
   "cell_type": "code",
   "execution_count": 3,
   "id": "6ef52062-81b5-468d-9f97-aa71c04be2be",
   "metadata": {},
   "outputs": [
    {
     "name": "stdout",
     "output_type": "stream",
     "text": [
      "~/work/scRNA-seq/result/mousetohuman2/gene_cluster_0.txt が存在します。\n",
      "~/work/scRNA-seq/result/mousetohuman2/gene_cluster_1.txt が存在します。\n",
      "~/work/scRNA-seq/result/mousetohuman2/gene_cluster_2.txt が存在します。\n",
      "~/work/scRNA-seq/result/mousetohuman2/gene_cluster_3.txt が存在します。\n",
      "~/work/scRNA-seq/result/mousetohuman2/gene_cluster_4.txt が存在します。\n",
      "~/work/scRNA-seq/result/mousetohuman2/gene_cluster_5.txt が存在します。\n",
      "~/work/scRNA-seq/result/mousetohuman2/gene_cluster_6.txt が存在します。\n",
      "~/work/scRNA-seq/result/mousetohuman2/gene_cluster_7.txt が存在します。\n"
     ]
    }
   ],
   "source": [
    "# ファイルパスを確認するためのコード\n",
    "directory <- \"~/work/scRNA-seq/result/mousetohuman2/\"\n",
    "for (i in 0:7) {\n",
    "  file_path <- paste0(directory, \"gene_cluster_\", i, \".txt\")\n",
    "  if (file.exists(file_path)) {\n",
    "    cat(file_path, \"が存在します。\\n\")\n",
    "  } else {\n",
    "    cat(file_path, \"が存在しません。\\n\")\n",
    "  }\n",
    "}"
   ]
  },
  {
   "cell_type": "code",
   "execution_count": 4,
   "id": "fd08717a-a21b-4042-8630-c39facd75ac9",
   "metadata": {},
   "outputs": [
    {
     "name": "stdout",
     "output_type": "stream",
     "text": [
      "8つのgenelistがdatalistディレクトリに保存されました。\n"
     ]
    }
   ],
   "source": [
    "# 必要なライブラリを読み込み\n",
    "library(dplyr)\n",
    "\n",
    "# ファイルが保存されているディレクトリのパス\n",
    "directory <- \"~/work/scRNA-seq/result/mousetohuman2/\"\n",
    "\n",
    "# 保存先のディレクトリ（datalist）を作成\n",
    "datalist_dir <- paste0(directory, \"datalist/\")\n",
    "if (!dir.exists(datalist_dir)) {\n",
    "  dir.create(datalist_dir)\n",
    "}\n",
    "\n",
    "# gene_cluster_0.txt から gene_cluster_7.txt までのファイルを処理\n",
    "for (i in 0:7) {\n",
    "  file_path <- paste0(directory, \"gene_cluster_\", i, \".txt\")\n",
    "  \n",
    "  # ファイルの読み込み\n",
    "  data <- read.table(file_path, header = TRUE, sep = \"\\t\", stringsAsFactors = FALSE)\n",
    "  \n",
    "  # Gene_stableNAID列（3列目）を抽出し、重複を削除\n",
    "  gene_list <- data.frame(gene = data$Gene_stableNAID) %>%\n",
    "    distinct()\n",
    "  \n",
    "  # 各ファイルを個別に保存（gene_list_0.txt ~ gene_list_7.txt）\n",
    "  output_file <- paste0(datalist_dir, \"gene_list_\", i, \".txt\")\n",
    "  write.table(gene_list, file = output_file, quote = FALSE, sep = \"\\t\", row.names = FALSE, col.names = TRUE)\n",
    "}\n",
    "\n",
    "cat(\"8つのgenelistがdatalistディレクトリに保存されました。\\n\")\n"
   ]
  },
  {
   "cell_type": "code",
   "execution_count": 5,
   "id": "83cf8a37",
   "metadata": {},
   "outputs": [
    {
     "name": "stderr",
     "output_type": "stream",
     "text": [
      "── \u001b[1mAttaching core tidyverse packages\u001b[22m ──────────────────────────────────────────────────────────────── tidyverse 2.0.0 ──\n",
      "\u001b[32m✔\u001b[39m \u001b[34mforcats  \u001b[39m 1.0.0     \u001b[32m✔\u001b[39m \u001b[34mreadr    \u001b[39m 2.1.5\n",
      "\u001b[32m✔\u001b[39m \u001b[34mggplot2  \u001b[39m 3.5.1     \u001b[32m✔\u001b[39m \u001b[34mstringr  \u001b[39m 1.5.1\n",
      "\u001b[32m✔\u001b[39m \u001b[34mlubridate\u001b[39m 1.9.3     \u001b[32m✔\u001b[39m \u001b[34mtibble   \u001b[39m 3.2.1\n",
      "\u001b[32m✔\u001b[39m \u001b[34mpurrr    \u001b[39m 1.0.2     \u001b[32m✔\u001b[39m \u001b[34mtidyr    \u001b[39m 1.3.1\n",
      "── \u001b[1mConflicts\u001b[22m ────────────────────────────────────────────────────────────────────────────────── tidyverse_conflicts() ──\n",
      "\u001b[31m✖\u001b[39m \u001b[34mdplyr\u001b[39m::\u001b[32mfilter()\u001b[39m masks \u001b[34mstats\u001b[39m::filter()\n",
      "\u001b[31m✖\u001b[39m \u001b[34mdplyr\u001b[39m::\u001b[32mlag()\u001b[39m    masks \u001b[34mstats\u001b[39m::lag()\n",
      "\u001b[36mℹ\u001b[39m Use the conflicted package (\u001b[3m\u001b[34m<http://conflicted.r-lib.org/>\u001b[39m\u001b[23m) to force all conflicts to become errors\n"
     ]
    }
   ],
   "source": [
    "library(tidyverse)\n",
    "library(dplyr)"
   ]
  },
  {
   "cell_type": "code",
   "execution_count": 6,
   "id": "14e460b7",
   "metadata": {},
   "outputs": [
    {
     "data": {
      "text/html": [
       "59936"
      ],
      "text/latex": [
       "59936"
      ],
      "text/markdown": [
       "59936"
      ],
      "text/plain": [
       "[1] 59936"
      ]
     },
     "metadata": {},
     "output_type": "display_data"
    }
   ],
   "source": [
    "gft_df=read.table(\"/home/k1_taka/reference/gencode/gene_region.bed\")\n",
    "colnames(gft_df)=c(\"CHR\", \"START\", \"END\",\"genes\")\n",
    "nrow(gft_df) #58288"
   ]
  },
  {
   "cell_type": "code",
   "execution_count": 7,
   "id": "1333ef92",
   "metadata": {},
   "outputs": [],
   "source": [
    "gft_df2=gft_df %>% separate(genes, c(\"gene\", \"ver\"), \"\\\\.\") %>% select(c(\"gene\", \"CHR\", \"START\", \"END\"))"
   ]
  },
  {
   "cell_type": "code",
   "execution_count": 4,
   "id": "642bb11e",
   "metadata": {},
   "outputs": [],
   "source": [
    "###ここは自分で作成したファイルを指定する###\n",
    "\n",
    "dir_path=\"~/LDSC/S_LDSC_tutorial/20241011_tutorial\"\n",
    "gene_list=\"test_gene_list.txt\""
   ]
  },
  {
   "cell_type": "code",
   "execution_count": 5,
   "id": "dc8c2472",
   "metadata": {},
   "outputs": [],
   "source": [
    "gft_df3=gft_df2[!(duplicated(gft_df2$gene) | duplicated(gft_df2$gene, fromLast = TRUE)),] "
   ]
  },
  {
   "cell_type": "code",
   "execution_count": 6,
   "id": "f510fc00",
   "metadata": {},
   "outputs": [],
   "source": [
    "rownames(gft_df3)=gft_df3$gene"
   ]
  },
  {
   "cell_type": "code",
   "execution_count": null,
   "id": "a128f9fa",
   "metadata": {},
   "outputs": [],
   "source": [
    "##修正20241017 bed_dfファイルにNAが含まれる場合も対応できるようにした\n",
    "df=read.table(paste0(dir_path,\"/\", gene_list), header=1)\n",
    "\n",
    "bed_df=gft_df3[df$gene,] %>% select(c(\"CHR\", \"START\", \"END\"))\n",
    "bed_df_woNA=na.omit(bed_df)\n",
    "out_f=paste0(dir_path, \"/gene_region_v26\")\n",
    "dir.create(out_f)\n",
    "data_name=strsplit(gene_list, \"\\\\.\")\n",
    "write.table(bed_df_woNA,paste0(out_f, \"/\", data_name[[1]][1], \"_region.bed\"),row.names=FALSE,col.names=FALSE, sep=\"\\t\", append=F, quote=F)\n",
    "\n",
    "## output：\n",
    "#dir_pathフォルダ内のgene_region_v26フォルダに「gene_listの拡張子まで+\"_region.bed\"」というファイルができている。\n",
    "#ex. gene_list=\"gene_name.txt\"としたら、\"gene_name_region.bed\"というファイルができている"
   ]
  },
  {
   "cell_type": "code",
   "execution_count": 8,
   "id": "017011d5-d837-4bc9-a434-db33942232d1",
   "metadata": {},
   "outputs": [
    {
     "name": "stdout",
     "output_type": "stream",
     "text": [
      "~/LDSC/S_LDSC_tutorial4/gene_region_v26/gene_list_0_region.bed が作成されました。\n",
      "~/LDSC/S_LDSC_tutorial4/gene_region_v26/gene_list_1_region.bed が作成されました。\n",
      "~/LDSC/S_LDSC_tutorial4/gene_region_v26/gene_list_2_region.bed が作成されました。\n",
      "~/LDSC/S_LDSC_tutorial4/gene_region_v26/gene_list_3_region.bed が作成されました。\n",
      "~/LDSC/S_LDSC_tutorial4/gene_region_v26/gene_list_4_region.bed が作成されました。\n",
      "~/LDSC/S_LDSC_tutorial4/gene_region_v26/gene_list_5_region.bed が作成されました。\n",
      "~/LDSC/S_LDSC_tutorial4/gene_region_v26/gene_list_6_region.bed が作成されました。\n",
      "~/LDSC/S_LDSC_tutorial4/gene_region_v26/gene_list_7_region.bed が作成されました。\n"
     ]
    }
   ],
   "source": [
    "library(dplyr)\n",
    "\n",
    "# 基本設定\n",
    "dir_path <- \"~/LDSC/S_LDSC_tutorial4\"\n",
    "datalist_dir <- \"~/work/scRNA-seq/result/mousetohuman2/datalist/\"\n",
    "\n",
    "# gft_df2 データフレームが既に存在している前提で進める\n",
    "gft_df3 <- gft_df2[!(duplicated(gft_df2$gene) | duplicated(gft_df2$gene, fromLast = TRUE)),] \n",
    "rownames(gft_df3) <- gft_df3$gene\n",
    "\n",
    "# 8つのgenelistを処理するループ\n",
    "for (i in 0:7) {\n",
    "  # gene_listファイルを指定\n",
    "  gene_list <- paste0(\"gene_list_\", i, \".txt\")\n",
    "  \n",
    "  # gene_listファイルを読み込み\n",
    "  df <- read.table(paste0(datalist_dir, gene_list), header = TRUE)\n",
    "  \n",
    "  # 必要な情報をgft_df3から抽出\n",
    "  bed_df <- gft_df3[df$gene,] %>% select(c(\"CHR\", \"START\", \"END\"))\n",
    "  \n",
    "  # NAの行を削除\n",
    "  bed_df_woNA <- na.omit(bed_df)\n",
    "  \n",
    "  # 出力ディレクトリの作成\n",
    "  out_f <- paste0(dir_path, \"/gene_region_v26\")\n",
    "  if (!dir.exists(out_f)) {\n",
    "    dir.create(out_f)\n",
    "  }\n",
    "  \n",
    "  # 出力ファイル名を設定\n",
    "  data_name <- strsplit(gene_list, \"\\\\.\")\n",
    "  output_file <- paste0(out_f, \"/\", data_name[[1]][1], \"_region.bed\")\n",
    "  \n",
    "  # Bedファイルに書き込み\n",
    "  write.table(bed_df_woNA, output_file, row.names = FALSE, col.names = FALSE, sep = \"\\t\", append = FALSE, quote = FALSE)\n",
    "  \n",
    "  cat(output_file, \"が作成されました。\\n\")\n",
    "}\n"
   ]
  },
  {
   "cell_type": "code",
   "execution_count": null,
   "id": "ff79e97d",
   "metadata": {},
   "outputs": [],
   "source": [
    "##オプション gene領域の前後100kBを含むように延長する\n",
    "\n",
    "dir_path=\"LDSC/S_LDSC_tutorial/20241011_tutorial\"\n",
    "gene_list=\"test_gene_list.txt\"\n",
    "out_f2=${dir_path}/gene_region_v26_100KB_ext\n",
    "mkdir ${out_f2}\n",
    "\n",
    "filename=`echo $gene_list | cut -d \".\" -f 1`\n",
    "export PATH=/home/k1_taka/miniconda3/envs/renv/bin:${PATH}\n",
    "bedtools slop -i ${dir_path}/gene_region_v26/${filename}_region.bed -g /home/k1_taka/reference/chrom.sizes -b 100000 > ${out_f2}/${filename}_region_hg19_ext100Kbp.bed\n",
    "\n",
    "##output###\n",
    "#${dir_path}/gene_region_v26_100KB_extファイルに「gene_listの拡張子まで+\"_region_hg19_ext100Kbp.bed\"」というファイルができる"
   ]
  },
  {
   "cell_type": "code",
   "execution_count": 12,
   "id": "d97b7c14-abb5-41e7-933a-3a37ec9c50cb",
   "metadata": {},
   "outputs": [
    {
     "name": "stdout",
     "output_type": "stream",
     "text": [
      "~/LDSC/S_LDSC_tutorial4/gene_region_v26/gene_list_0_region.bed が作成されました。\n",
      "~/LDSC/S_LDSC_tutorial4/gene_region_v26_100KB_ext / gene_list_0 _region_hg19_ext100Kbp.bed が作成されました。\n",
      "~/LDSC/S_LDSC_tutorial4/gene_region_v26/gene_list_1_region.bed が作成されました。\n",
      "~/LDSC/S_LDSC_tutorial4/gene_region_v26_100KB_ext / gene_list_1 _region_hg19_ext100Kbp.bed が作成されました。\n",
      "~/LDSC/S_LDSC_tutorial4/gene_region_v26/gene_list_2_region.bed が作成されました。\n",
      "~/LDSC/S_LDSC_tutorial4/gene_region_v26_100KB_ext / gene_list_2 _region_hg19_ext100Kbp.bed が作成されました。\n",
      "~/LDSC/S_LDSC_tutorial4/gene_region_v26/gene_list_3_region.bed が作成されました。\n",
      "~/LDSC/S_LDSC_tutorial4/gene_region_v26_100KB_ext / gene_list_3 _region_hg19_ext100Kbp.bed が作成されました。\n",
      "~/LDSC/S_LDSC_tutorial4/gene_region_v26/gene_list_4_region.bed が作成されました。\n",
      "~/LDSC/S_LDSC_tutorial4/gene_region_v26_100KB_ext / gene_list_4 _region_hg19_ext100Kbp.bed が作成されました。\n",
      "~/LDSC/S_LDSC_tutorial4/gene_region_v26/gene_list_5_region.bed が作成されました。\n",
      "~/LDSC/S_LDSC_tutorial4/gene_region_v26_100KB_ext / gene_list_5 _region_hg19_ext100Kbp.bed が作成されました。\n",
      "~/LDSC/S_LDSC_tutorial4/gene_region_v26/gene_list_6_region.bed が作成されました。\n",
      "~/LDSC/S_LDSC_tutorial4/gene_region_v26_100KB_ext / gene_list_6 _region_hg19_ext100Kbp.bed が作成されました。\n",
      "~/LDSC/S_LDSC_tutorial4/gene_region_v26/gene_list_7_region.bed が作成されました。\n",
      "~/LDSC/S_LDSC_tutorial4/gene_region_v26_100KB_ext / gene_list_7 _region_hg19_ext100Kbp.bed が作成されました。\n"
     ]
    }
   ],
   "source": [
    "library(dplyr)\n",
    "\n",
    "# 基本設定\n",
    "dir_path <- \"~/LDSC/S_LDSC_tutorial4\"\n",
    "datalist_dir <- \"~/work/scRNA-seq/result/mousetohuman2/datalist/\"\n",
    "\n",
    "# gft_df2 データフレームが既に存在している前提で進める\n",
    "gft_df3 <- gft_df2[!(duplicated(gft_df2$gene) | duplicated(gft_df2$gene, fromLast = TRUE)),]\n",
    "rownames(gft_df3) <- gft_df3$gene\n",
    "\n",
    "# 8つのgenelistを処理するループ\n",
    "for (i in 0:7) {\n",
    "  # gene_listファイルを指定\n",
    "  gene_list <- paste0(\"gene_list_\", i, \".txt\")\n",
    "  \n",
    "  # gene_listファイルを読み込み\n",
    "  df <- read.table(paste0(datalist_dir, gene_list), header = TRUE)\n",
    "  \n",
    "  # 必要な情報をgft_df3から抽出\n",
    "  bed_df <- gft_df3[df$gene,] %>% select(c(\"CHR\", \"START\", \"END\"))\n",
    "  \n",
    "  # NAの行を削除\n",
    "  bed_df_woNA <- na.omit(bed_df)\n",
    "  \n",
    "  # 出力ディレクトリの作成\n",
    "  out_f <- paste0(dir_path, \"/gene_region_v26\")\n",
    "  if (!dir.exists(out_f)) {\n",
    "    dir.create(out_f)\n",
    "  }\n",
    "  \n",
    "  # 出力ファイル名を設定\n",
    "  data_name <- strsplit(gene_list, \"\\\\.\")\n",
    "  output_file <- paste0(out_f, \"/\", data_name[[1]][1], \"_region.bed\")\n",
    "  \n",
    "  # Bedファイルに書き込み\n",
    "  write.table(bed_df_woNA, output_file, row.names = FALSE, col.names = FALSE, sep = \"\\t\", append = FALSE, quote = FALSE)\n",
    "  \n",
    "  cat(output_file, \"が作成されました。\\n\")\n",
    "  \n",
    "  ### 100kB拡張用の処理 ###\n",
    "  # 100kB拡張の出力ディレクトリ作成\n",
    "  out_f2 <- paste0(dir_path, \"/gene_region_v26_100KB_ext\")\n",
    "  if (!dir.exists(out_f2)) {\n",
    "    dir.create(out_f2)\n",
    "  }\n",
    "  \n",
    "  # bedtoolsを使って前後100kBを含む領域を拡張\n",
    "  system(paste0(\"bedtools slop -i \", output_file,\n",
    "                \" -g /home/k1_taka/reference/chrom.sizes -b 100000 > \",\n",
    "                out_f2, \"/\", data_name[[1]][1], \"_region_hg19_ext100Kbp.bed\"))\n",
    "  \n",
    "  cat(out_f2, \"/\", data_name[[1]][1], \"_region_hg19_ext100Kbp.bed が作成されました。\\n\")\n",
    "}\n"
   ]
  },
  {
   "cell_type": "code",
   "execution_count": 10,
   "id": "465df82c-bb8f-492d-80e2-6a01e9699a24",
   "metadata": {},
   "outputs": [
    {
     "name": "stderr",
     "output_type": "stream",
     "text": [
      "Warning message in system(\"bedtools --version\"):\n",
      "“ 命令の実行中にエラーが起きました ”\n"
     ]
    }
   ],
   "source": [
    "system(\"bedtools --version\")"
   ]
  },
  {
   "cell_type": "code",
   "execution_count": 11,
   "id": "c55ee824-b136-462c-8648-27c8f88a01d0",
   "metadata": {},
   "outputs": [],
   "source": [
    "# bedtoolsのパスを環境変数に追加\n",
    "Sys.setenv(PATH = paste(\"/usr/local/package/bedtools/2.31.1/bin\", Sys.getenv(\"PATH\"), sep = \":\"))\n",
    "\n",
    "# 確認のため、bedtoolsのバージョンを取得してみる\n",
    "system(\"bedtools --version\")\n"
   ]
  },
  {
   "cell_type": "code",
   "execution_count": null,
   "id": "466884ab-0c2f-4e17-903c-cbca87e9634f",
   "metadata": {},
   "outputs": [],
   "source": []
  },
  {
   "cell_type": "markdown",
   "id": "94e7992c",
   "metadata": {},
   "source": [
    "## 参考 gene_region.bedの作り方 (見るだけで実施しなくていいです)\n",
    "gunzip gencode.v26lift37.annotation.gtf.gz\n",
    "\n",
    "GTFファイルからtranscript領域の情報のみ取り出し、ENSGで連結させてgene領域を取ってくる\n",
    "cat gencode.v26lift37.annotation.gtf | awk 'BEGIN{FS=OFS=\"\\t\"} $3 == \"transcript\" {print $0}'>onlytranscript_gencode_v26lift37.gtf\n",
    "cat onlytranscript_gencode_v26lift37.gtf | grep 'tag \\\"basic\\\"' > onlytranscript_gencode_26lift37_tag_basic.gtf\n",
    "#https://bi.biopapyrus.jp/format/gtf.html#google_vignette\n",
    "awk 'BEGIN{FS=\"\\t\";OFS=\"\\t\"}{match($0, /gene_id */);\n",
    "    pre_g_id_seq = substr($0, RSTART);\n",
    "    split(pre_g_id_seq,g_id_seq,\";\");\n",
    "    g_id = g_id_seq[1];\n",
    "    gsub(\"gene_id \",\"\",g_id);\n",
    "    gsub(\"\\\"\",\"\",g_id);\n",
    "    print $1,$4,$5,g_id\n",
    "  }\n",
    "' onlytranscript_gencode_26lift37_tag_basic.gtf > gene_transcript_list.gtf\n",
    "#chr, start, end,ENSG\n",
    "\n",
    "cat gene_transcript_list.gtf | awk 'BEGIN{FS=\"\\t\";OFS=\"\\t\"}{print $4}' | sort | uniq > gene_list.txt\n",
    "gene_list=`less -S gene_list.txt`\n",
    "\n",
    "rm gene_region.bed\n",
    "for gene_id in ${gene_list}\n",
    "do\n",
    "min_bp=`cat gene_transcript_list.gtf | grep ${gene_id} | awk 'NR==1 {min=$2} {if($2 < min) min = $2} END {print min}'`\n",
    "max_bp=`cat gene_transcript_list.gtf | grep ${gene_id} | awk 'NR==1 {max=$3} {if($3 > max) max = $3} END {print max}'`\n",
    "cat gene_transcript_list.gtf | grep ${gene_id} | awk -v min_bp=${min_bp} -v max_bp=${max_bp} 'BEGIN{FS=\"\\t\";OFS=\"\\t\"}NR==1{print $1, min_bp, max_bp, $4}'>>gene_region.bed\n",
    "done"
   ]
  },
  {
   "cell_type": "code",
   "execution_count": null,
   "id": "49f2391f",
   "metadata": {},
   "outputs": [],
   "source": [
    "## 以降20241017 debug作業内容　読み飛ばし可"
   ]
  },
  {
   "cell_type": "code",
   "execution_count": 8,
   "id": "78307f89",
   "metadata": {},
   "outputs": [],
   "source": [
    "df=read.table(\"/home/oguma/work/seurat/GSE163018/GSM4970298_organoid_H28126_scRNA/marker_gene_list/marker_gene_list_1.txt\", header=1)"
   ]
  },
  {
   "cell_type": "code",
   "execution_count": 10,
   "id": "81e20b8a",
   "metadata": {},
   "outputs": [
    {
     "data": {
      "text/html": [
       "FALSE"
      ],
      "text/latex": [
       "FALSE"
      ],
      "text/markdown": [
       "FALSE"
      ],
      "text/plain": [
       "[1] FALSE"
      ]
     },
     "metadata": {},
     "output_type": "display_data"
    }
   ],
   "source": [
    "any(is.na(df)) #gene listにはNAは含まれていない"
   ]
  },
  {
   "cell_type": "code",
   "execution_count": 14,
   "id": "da94ad93",
   "metadata": {},
   "outputs": [
    {
     "data": {
      "text/html": [
       "<style>\n",
       ".list-inline {list-style: none; margin:0; padding: 0}\n",
       ".list-inline>li {display: inline-block}\n",
       ".list-inline>li:not(:last-child)::after {content: \"\\00b7\"; padding: 0 .5ex}\n",
       "</style>\n",
       "<ol class=list-inline><li>'ENSG00000053438'</li><li>'ENSG00000139970'</li><li>'ENSG00000177519'</li><li>'ENSG00000134138'</li><li>'ENSG00000079102'</li><li>'ENSG00000164128'</li><li>'ENSG00000138083'</li><li>'ENSG00000140836'</li><li>'ENSG00000236502'</li><li>'ENSG00000179981'</li><li>'ENSG00000091656'</li><li>'ENSG00000170091'</li><li>'ENSG00000152527'</li><li>'ENSG00000105379'</li><li>'ENSG00000129422'</li><li>'ENSG00000155849'</li><li>'ENSG00000130988'</li><li>'ENSG00000067715'</li><li>'ENSG00000071575'</li><li>'ENSG00000170419'</li><li>'ENSG00000128573'</li><li>'ENSG00000101958'</li><li>'ENSG00000106829'</li><li>'ENSG00000145247'</li><li>'ENSG00000145284'</li><li>'ENSG00000091972'</li><li>'ENSG00000184564'</li><li>'ENSG00000066382'</li><li>'ENSG00000197487'</li><li>'ENSG00000123560'</li><li>'ENSG00000144771'</li><li>'ENSG00000172260'</li><li>'ENSG00000154146'</li><li>'ENSG00000174473'</li><li>'ENSG00000078328'</li><li>'ENSG00000127152'</li><li>'ENSG00000183722'</li><li>'ENSG00000107562'</li><li>'ENSG00000082497'</li><li>'ENSG00000281230'</li><li>'ENSG00000176406'</li><li>'ENSG00000134326'</li><li>'ENSG00000102290'</li><li>'ENSG00000102466'</li><li>'ENSG00000163235'</li><li>'ENSG00000138735'</li><li>'ENSG00000156687'</li><li>'ENSG00000148948'</li><li>'ENSG00000184672'</li><li>'ENSG00000147257'</li><li>'ENSG00000198597'</li><li>'ENSG00000164116'</li><li>'ENSG00000167642'</li><li>'ENSG00000176840'</li><li>'ENSG00000183023'</li><li>'ENSG00000144339'</li><li>'ENSG00000187323'</li><li>'ENSG00000167081'</li><li>'ENSG00000197959'</li><li>'ENSG00000196482'</li><li>'ENSG00000233723'</li><li>'ENSG00000182463'</li><li>'ENSG00000253457'</li><li>'ENSG00000172201'</li><li>'ENSG00000110975'</li><li>'ENSG00000151789'</li><li>'ENSG00000106460'</li><li>'ENSG00000105419'</li><li>'ENSG00000008083'</li><li>'ENSG00000144868'</li><li>'ENSG00000147650'</li><li>'ENSG00000153495'</li><li>'ENSG00000105409'</li><li>'ENSG00000133878'</li><li>'ENSG00000187398'</li><li>'ENSG00000168772'</li><li>'ENSG00000188674'</li><li>'ENSG00000124140'</li><li>'ENSG00000171224'</li><li>'ENSG00000159450'</li><li>'ENSG00000111052'</li><li>'ENSG00000152954'</li><li>'ENSG00000111859'</li><li>'ENSG00000137166'</li><li>'ENSG00000143641'</li><li>'ENSG00000175087'</li><li>'ENSG00000179603'</li><li>'ENSG00000146151'</li><li>'ENSG00000225206'</li><li>'ENSG00000183036'</li><li>'ENSG00000291560'</li><li>'ENSG00000270866'</li><li>'ENSG00000227028'</li><li>'ENSG00000151812'</li><li>'ENSG00000110002'</li><li>'ENSG00000175497'</li><li>'ENSG00000147647'</li><li>'ENSG00000099715'</li><li>'ENSG00000255618'</li><li>'ENSG00000028277'</li><li>'ENSG00000163053'</li><li>'ENSG00000118733'</li><li>'ENSG00000077063'</li><li>'ENSG00000134207'</li><li>'ENSG00000186462'</li><li>'ENSG00000174599'</li><li>'ENSG00000178764'</li><li>'ENSG00000106565'</li><li>'ENSG00000073910'</li><li>'ENSG00000105048'</li><li>'ENSG00000107864'</li><li>'ENSG00000165973'</li><li>'ENSG00000140600'</li><li>'ENSG00000291608'</li><li>'ENSG00000177427'</li><li>'ENSG00000284495'</li><li>'ENSG00000157445'</li><li>'ENSG00000176204'</li><li>'ENSG00000196782'</li><li>'ENSG00000205808'</li><li>'ENSG00000175426'</li><li>'ENSG00000148848'</li><li>'ENSG00000162551'</li><li>'ENSG00000178171'</li><li>'ENSG00000173452'</li><li>'ENSG00000186231'</li><li>'ENSG00000143502'</li><li>'ENSG00000143919'</li><li>'ENSG00000228288'</li><li>'ENSG00000109832'</li><li>'ENSG00000115828'</li><li>'ENSG00000136866'</li><li>'ENSG00000165023'</li><li>'ENSG00000036448'</li><li>'ENSG00000274137'</li><li>'ENSG00000157168'</li><li>'ENSG00000153233'</li><li>'ENSG00000185559'</li><li>'ENSG00000143842'</li><li>'ENSG00000113749'</li><li>'ENSG00000131188'</li><li>'ENSG00000196104'</li><li>'ENSG00000111261'</li><li>'ENSG00000281818'</li><li>'ENSG00000119636'</li><li>'ENSG00000073849'</li><li>'ENSG00000128512'</li><li>'ENSG00000152076'</li><li>'ENSG00000292118'</li><li>'ENSG00000141449'</li><li>'ENSG00000102452'</li><li>'ENSG00000150394'</li><li>'ENSG00000137486'</li><li>'ENSG00000002587'</li><li>'ENSG00000116147'</li><li>'ENSG00000184349'</li><li>'ENSG00000235706'</li><li>'ENSG00000055813'</li><li>'ENSG00000164484'</li></ol>\n"
      ],
      "text/latex": [
       "\\begin{enumerate*}\n",
       "\\item 'ENSG00000053438'\n",
       "\\item 'ENSG00000139970'\n",
       "\\item 'ENSG00000177519'\n",
       "\\item 'ENSG00000134138'\n",
       "\\item 'ENSG00000079102'\n",
       "\\item 'ENSG00000164128'\n",
       "\\item 'ENSG00000138083'\n",
       "\\item 'ENSG00000140836'\n",
       "\\item 'ENSG00000236502'\n",
       "\\item 'ENSG00000179981'\n",
       "\\item 'ENSG00000091656'\n",
       "\\item 'ENSG00000170091'\n",
       "\\item 'ENSG00000152527'\n",
       "\\item 'ENSG00000105379'\n",
       "\\item 'ENSG00000129422'\n",
       "\\item 'ENSG00000155849'\n",
       "\\item 'ENSG00000130988'\n",
       "\\item 'ENSG00000067715'\n",
       "\\item 'ENSG00000071575'\n",
       "\\item 'ENSG00000170419'\n",
       "\\item 'ENSG00000128573'\n",
       "\\item 'ENSG00000101958'\n",
       "\\item 'ENSG00000106829'\n",
       "\\item 'ENSG00000145247'\n",
       "\\item 'ENSG00000145284'\n",
       "\\item 'ENSG00000091972'\n",
       "\\item 'ENSG00000184564'\n",
       "\\item 'ENSG00000066382'\n",
       "\\item 'ENSG00000197487'\n",
       "\\item 'ENSG00000123560'\n",
       "\\item 'ENSG00000144771'\n",
       "\\item 'ENSG00000172260'\n",
       "\\item 'ENSG00000154146'\n",
       "\\item 'ENSG00000174473'\n",
       "\\item 'ENSG00000078328'\n",
       "\\item 'ENSG00000127152'\n",
       "\\item 'ENSG00000183722'\n",
       "\\item 'ENSG00000107562'\n",
       "\\item 'ENSG00000082497'\n",
       "\\item 'ENSG00000281230'\n",
       "\\item 'ENSG00000176406'\n",
       "\\item 'ENSG00000134326'\n",
       "\\item 'ENSG00000102290'\n",
       "\\item 'ENSG00000102466'\n",
       "\\item 'ENSG00000163235'\n",
       "\\item 'ENSG00000138735'\n",
       "\\item 'ENSG00000156687'\n",
       "\\item 'ENSG00000148948'\n",
       "\\item 'ENSG00000184672'\n",
       "\\item 'ENSG00000147257'\n",
       "\\item 'ENSG00000198597'\n",
       "\\item 'ENSG00000164116'\n",
       "\\item 'ENSG00000167642'\n",
       "\\item 'ENSG00000176840'\n",
       "\\item 'ENSG00000183023'\n",
       "\\item 'ENSG00000144339'\n",
       "\\item 'ENSG00000187323'\n",
       "\\item 'ENSG00000167081'\n",
       "\\item 'ENSG00000197959'\n",
       "\\item 'ENSG00000196482'\n",
       "\\item 'ENSG00000233723'\n",
       "\\item 'ENSG00000182463'\n",
       "\\item 'ENSG00000253457'\n",
       "\\item 'ENSG00000172201'\n",
       "\\item 'ENSG00000110975'\n",
       "\\item 'ENSG00000151789'\n",
       "\\item 'ENSG00000106460'\n",
       "\\item 'ENSG00000105419'\n",
       "\\item 'ENSG00000008083'\n",
       "\\item 'ENSG00000144868'\n",
       "\\item 'ENSG00000147650'\n",
       "\\item 'ENSG00000153495'\n",
       "\\item 'ENSG00000105409'\n",
       "\\item 'ENSG00000133878'\n",
       "\\item 'ENSG00000187398'\n",
       "\\item 'ENSG00000168772'\n",
       "\\item 'ENSG00000188674'\n",
       "\\item 'ENSG00000124140'\n",
       "\\item 'ENSG00000171224'\n",
       "\\item 'ENSG00000159450'\n",
       "\\item 'ENSG00000111052'\n",
       "\\item 'ENSG00000152954'\n",
       "\\item 'ENSG00000111859'\n",
       "\\item 'ENSG00000137166'\n",
       "\\item 'ENSG00000143641'\n",
       "\\item 'ENSG00000175087'\n",
       "\\item 'ENSG00000179603'\n",
       "\\item 'ENSG00000146151'\n",
       "\\item 'ENSG00000225206'\n",
       "\\item 'ENSG00000183036'\n",
       "\\item 'ENSG00000291560'\n",
       "\\item 'ENSG00000270866'\n",
       "\\item 'ENSG00000227028'\n",
       "\\item 'ENSG00000151812'\n",
       "\\item 'ENSG00000110002'\n",
       "\\item 'ENSG00000175497'\n",
       "\\item 'ENSG00000147647'\n",
       "\\item 'ENSG00000099715'\n",
       "\\item 'ENSG00000255618'\n",
       "\\item 'ENSG00000028277'\n",
       "\\item 'ENSG00000163053'\n",
       "\\item 'ENSG00000118733'\n",
       "\\item 'ENSG00000077063'\n",
       "\\item 'ENSG00000134207'\n",
       "\\item 'ENSG00000186462'\n",
       "\\item 'ENSG00000174599'\n",
       "\\item 'ENSG00000178764'\n",
       "\\item 'ENSG00000106565'\n",
       "\\item 'ENSG00000073910'\n",
       "\\item 'ENSG00000105048'\n",
       "\\item 'ENSG00000107864'\n",
       "\\item 'ENSG00000165973'\n",
       "\\item 'ENSG00000140600'\n",
       "\\item 'ENSG00000291608'\n",
       "\\item 'ENSG00000177427'\n",
       "\\item 'ENSG00000284495'\n",
       "\\item 'ENSG00000157445'\n",
       "\\item 'ENSG00000176204'\n",
       "\\item 'ENSG00000196782'\n",
       "\\item 'ENSG00000205808'\n",
       "\\item 'ENSG00000175426'\n",
       "\\item 'ENSG00000148848'\n",
       "\\item 'ENSG00000162551'\n",
       "\\item 'ENSG00000178171'\n",
       "\\item 'ENSG00000173452'\n",
       "\\item 'ENSG00000186231'\n",
       "\\item 'ENSG00000143502'\n",
       "\\item 'ENSG00000143919'\n",
       "\\item 'ENSG00000228288'\n",
       "\\item 'ENSG00000109832'\n",
       "\\item 'ENSG00000115828'\n",
       "\\item 'ENSG00000136866'\n",
       "\\item 'ENSG00000165023'\n",
       "\\item 'ENSG00000036448'\n",
       "\\item 'ENSG00000274137'\n",
       "\\item 'ENSG00000157168'\n",
       "\\item 'ENSG00000153233'\n",
       "\\item 'ENSG00000185559'\n",
       "\\item 'ENSG00000143842'\n",
       "\\item 'ENSG00000113749'\n",
       "\\item 'ENSG00000131188'\n",
       "\\item 'ENSG00000196104'\n",
       "\\item 'ENSG00000111261'\n",
       "\\item 'ENSG00000281818'\n",
       "\\item 'ENSG00000119636'\n",
       "\\item 'ENSG00000073849'\n",
       "\\item 'ENSG00000128512'\n",
       "\\item 'ENSG00000152076'\n",
       "\\item 'ENSG00000292118'\n",
       "\\item 'ENSG00000141449'\n",
       "\\item 'ENSG00000102452'\n",
       "\\item 'ENSG00000150394'\n",
       "\\item 'ENSG00000137486'\n",
       "\\item 'ENSG00000002587'\n",
       "\\item 'ENSG00000116147'\n",
       "\\item 'ENSG00000184349'\n",
       "\\item 'ENSG00000235706'\n",
       "\\item 'ENSG00000055813'\n",
       "\\item 'ENSG00000164484'\n",
       "\\end{enumerate*}\n"
      ],
      "text/markdown": [
       "1. 'ENSG00000053438'\n",
       "2. 'ENSG00000139970'\n",
       "3. 'ENSG00000177519'\n",
       "4. 'ENSG00000134138'\n",
       "5. 'ENSG00000079102'\n",
       "6. 'ENSG00000164128'\n",
       "7. 'ENSG00000138083'\n",
       "8. 'ENSG00000140836'\n",
       "9. 'ENSG00000236502'\n",
       "10. 'ENSG00000179981'\n",
       "11. 'ENSG00000091656'\n",
       "12. 'ENSG00000170091'\n",
       "13. 'ENSG00000152527'\n",
       "14. 'ENSG00000105379'\n",
       "15. 'ENSG00000129422'\n",
       "16. 'ENSG00000155849'\n",
       "17. 'ENSG00000130988'\n",
       "18. 'ENSG00000067715'\n",
       "19. 'ENSG00000071575'\n",
       "20. 'ENSG00000170419'\n",
       "21. 'ENSG00000128573'\n",
       "22. 'ENSG00000101958'\n",
       "23. 'ENSG00000106829'\n",
       "24. 'ENSG00000145247'\n",
       "25. 'ENSG00000145284'\n",
       "26. 'ENSG00000091972'\n",
       "27. 'ENSG00000184564'\n",
       "28. 'ENSG00000066382'\n",
       "29. 'ENSG00000197487'\n",
       "30. 'ENSG00000123560'\n",
       "31. 'ENSG00000144771'\n",
       "32. 'ENSG00000172260'\n",
       "33. 'ENSG00000154146'\n",
       "34. 'ENSG00000174473'\n",
       "35. 'ENSG00000078328'\n",
       "36. 'ENSG00000127152'\n",
       "37. 'ENSG00000183722'\n",
       "38. 'ENSG00000107562'\n",
       "39. 'ENSG00000082497'\n",
       "40. 'ENSG00000281230'\n",
       "41. 'ENSG00000176406'\n",
       "42. 'ENSG00000134326'\n",
       "43. 'ENSG00000102290'\n",
       "44. 'ENSG00000102466'\n",
       "45. 'ENSG00000163235'\n",
       "46. 'ENSG00000138735'\n",
       "47. 'ENSG00000156687'\n",
       "48. 'ENSG00000148948'\n",
       "49. 'ENSG00000184672'\n",
       "50. 'ENSG00000147257'\n",
       "51. 'ENSG00000198597'\n",
       "52. 'ENSG00000164116'\n",
       "53. 'ENSG00000167642'\n",
       "54. 'ENSG00000176840'\n",
       "55. 'ENSG00000183023'\n",
       "56. 'ENSG00000144339'\n",
       "57. 'ENSG00000187323'\n",
       "58. 'ENSG00000167081'\n",
       "59. 'ENSG00000197959'\n",
       "60. 'ENSG00000196482'\n",
       "61. 'ENSG00000233723'\n",
       "62. 'ENSG00000182463'\n",
       "63. 'ENSG00000253457'\n",
       "64. 'ENSG00000172201'\n",
       "65. 'ENSG00000110975'\n",
       "66. 'ENSG00000151789'\n",
       "67. 'ENSG00000106460'\n",
       "68. 'ENSG00000105419'\n",
       "69. 'ENSG00000008083'\n",
       "70. 'ENSG00000144868'\n",
       "71. 'ENSG00000147650'\n",
       "72. 'ENSG00000153495'\n",
       "73. 'ENSG00000105409'\n",
       "74. 'ENSG00000133878'\n",
       "75. 'ENSG00000187398'\n",
       "76. 'ENSG00000168772'\n",
       "77. 'ENSG00000188674'\n",
       "78. 'ENSG00000124140'\n",
       "79. 'ENSG00000171224'\n",
       "80. 'ENSG00000159450'\n",
       "81. 'ENSG00000111052'\n",
       "82. 'ENSG00000152954'\n",
       "83. 'ENSG00000111859'\n",
       "84. 'ENSG00000137166'\n",
       "85. 'ENSG00000143641'\n",
       "86. 'ENSG00000175087'\n",
       "87. 'ENSG00000179603'\n",
       "88. 'ENSG00000146151'\n",
       "89. 'ENSG00000225206'\n",
       "90. 'ENSG00000183036'\n",
       "91. 'ENSG00000291560'\n",
       "92. 'ENSG00000270866'\n",
       "93. 'ENSG00000227028'\n",
       "94. 'ENSG00000151812'\n",
       "95. 'ENSG00000110002'\n",
       "96. 'ENSG00000175497'\n",
       "97. 'ENSG00000147647'\n",
       "98. 'ENSG00000099715'\n",
       "99. 'ENSG00000255618'\n",
       "100. 'ENSG00000028277'\n",
       "101. 'ENSG00000163053'\n",
       "102. 'ENSG00000118733'\n",
       "103. 'ENSG00000077063'\n",
       "104. 'ENSG00000134207'\n",
       "105. 'ENSG00000186462'\n",
       "106. 'ENSG00000174599'\n",
       "107. 'ENSG00000178764'\n",
       "108. 'ENSG00000106565'\n",
       "109. 'ENSG00000073910'\n",
       "110. 'ENSG00000105048'\n",
       "111. 'ENSG00000107864'\n",
       "112. 'ENSG00000165973'\n",
       "113. 'ENSG00000140600'\n",
       "114. 'ENSG00000291608'\n",
       "115. 'ENSG00000177427'\n",
       "116. 'ENSG00000284495'\n",
       "117. 'ENSG00000157445'\n",
       "118. 'ENSG00000176204'\n",
       "119. 'ENSG00000196782'\n",
       "120. 'ENSG00000205808'\n",
       "121. 'ENSG00000175426'\n",
       "122. 'ENSG00000148848'\n",
       "123. 'ENSG00000162551'\n",
       "124. 'ENSG00000178171'\n",
       "125. 'ENSG00000173452'\n",
       "126. 'ENSG00000186231'\n",
       "127. 'ENSG00000143502'\n",
       "128. 'ENSG00000143919'\n",
       "129. 'ENSG00000228288'\n",
       "130. 'ENSG00000109832'\n",
       "131. 'ENSG00000115828'\n",
       "132. 'ENSG00000136866'\n",
       "133. 'ENSG00000165023'\n",
       "134. 'ENSG00000036448'\n",
       "135. 'ENSG00000274137'\n",
       "136. 'ENSG00000157168'\n",
       "137. 'ENSG00000153233'\n",
       "138. 'ENSG00000185559'\n",
       "139. 'ENSG00000143842'\n",
       "140. 'ENSG00000113749'\n",
       "141. 'ENSG00000131188'\n",
       "142. 'ENSG00000196104'\n",
       "143. 'ENSG00000111261'\n",
       "144. 'ENSG00000281818'\n",
       "145. 'ENSG00000119636'\n",
       "146. 'ENSG00000073849'\n",
       "147. 'ENSG00000128512'\n",
       "148. 'ENSG00000152076'\n",
       "149. 'ENSG00000292118'\n",
       "150. 'ENSG00000141449'\n",
       "151. 'ENSG00000102452'\n",
       "152. 'ENSG00000150394'\n",
       "153. 'ENSG00000137486'\n",
       "154. 'ENSG00000002587'\n",
       "155. 'ENSG00000116147'\n",
       "156. 'ENSG00000184349'\n",
       "157. 'ENSG00000235706'\n",
       "158. 'ENSG00000055813'\n",
       "159. 'ENSG00000164484'\n",
       "\n",
       "\n"
      ],
      "text/plain": [
       "  [1] \"ENSG00000053438\" \"ENSG00000139970\" \"ENSG00000177519\" \"ENSG00000134138\"\n",
       "  [5] \"ENSG00000079102\" \"ENSG00000164128\" \"ENSG00000138083\" \"ENSG00000140836\"\n",
       "  [9] \"ENSG00000236502\" \"ENSG00000179981\" \"ENSG00000091656\" \"ENSG00000170091\"\n",
       " [13] \"ENSG00000152527\" \"ENSG00000105379\" \"ENSG00000129422\" \"ENSG00000155849\"\n",
       " [17] \"ENSG00000130988\" \"ENSG00000067715\" \"ENSG00000071575\" \"ENSG00000170419\"\n",
       " [21] \"ENSG00000128573\" \"ENSG00000101958\" \"ENSG00000106829\" \"ENSG00000145247\"\n",
       " [25] \"ENSG00000145284\" \"ENSG00000091972\" \"ENSG00000184564\" \"ENSG00000066382\"\n",
       " [29] \"ENSG00000197487\" \"ENSG00000123560\" \"ENSG00000144771\" \"ENSG00000172260\"\n",
       " [33] \"ENSG00000154146\" \"ENSG00000174473\" \"ENSG00000078328\" \"ENSG00000127152\"\n",
       " [37] \"ENSG00000183722\" \"ENSG00000107562\" \"ENSG00000082497\" \"ENSG00000281230\"\n",
       " [41] \"ENSG00000176406\" \"ENSG00000134326\" \"ENSG00000102290\" \"ENSG00000102466\"\n",
       " [45] \"ENSG00000163235\" \"ENSG00000138735\" \"ENSG00000156687\" \"ENSG00000148948\"\n",
       " [49] \"ENSG00000184672\" \"ENSG00000147257\" \"ENSG00000198597\" \"ENSG00000164116\"\n",
       " [53] \"ENSG00000167642\" \"ENSG00000176840\" \"ENSG00000183023\" \"ENSG00000144339\"\n",
       " [57] \"ENSG00000187323\" \"ENSG00000167081\" \"ENSG00000197959\" \"ENSG00000196482\"\n",
       " [61] \"ENSG00000233723\" \"ENSG00000182463\" \"ENSG00000253457\" \"ENSG00000172201\"\n",
       " [65] \"ENSG00000110975\" \"ENSG00000151789\" \"ENSG00000106460\" \"ENSG00000105419\"\n",
       " [69] \"ENSG00000008083\" \"ENSG00000144868\" \"ENSG00000147650\" \"ENSG00000153495\"\n",
       " [73] \"ENSG00000105409\" \"ENSG00000133878\" \"ENSG00000187398\" \"ENSG00000168772\"\n",
       " [77] \"ENSG00000188674\" \"ENSG00000124140\" \"ENSG00000171224\" \"ENSG00000159450\"\n",
       " [81] \"ENSG00000111052\" \"ENSG00000152954\" \"ENSG00000111859\" \"ENSG00000137166\"\n",
       " [85] \"ENSG00000143641\" \"ENSG00000175087\" \"ENSG00000179603\" \"ENSG00000146151\"\n",
       " [89] \"ENSG00000225206\" \"ENSG00000183036\" \"ENSG00000291560\" \"ENSG00000270866\"\n",
       " [93] \"ENSG00000227028\" \"ENSG00000151812\" \"ENSG00000110002\" \"ENSG00000175497\"\n",
       " [97] \"ENSG00000147647\" \"ENSG00000099715\" \"ENSG00000255618\" \"ENSG00000028277\"\n",
       "[101] \"ENSG00000163053\" \"ENSG00000118733\" \"ENSG00000077063\" \"ENSG00000134207\"\n",
       "[105] \"ENSG00000186462\" \"ENSG00000174599\" \"ENSG00000178764\" \"ENSG00000106565\"\n",
       "[109] \"ENSG00000073910\" \"ENSG00000105048\" \"ENSG00000107864\" \"ENSG00000165973\"\n",
       "[113] \"ENSG00000140600\" \"ENSG00000291608\" \"ENSG00000177427\" \"ENSG00000284495\"\n",
       "[117] \"ENSG00000157445\" \"ENSG00000176204\" \"ENSG00000196782\" \"ENSG00000205808\"\n",
       "[121] \"ENSG00000175426\" \"ENSG00000148848\" \"ENSG00000162551\" \"ENSG00000178171\"\n",
       "[125] \"ENSG00000173452\" \"ENSG00000186231\" \"ENSG00000143502\" \"ENSG00000143919\"\n",
       "[129] \"ENSG00000228288\" \"ENSG00000109832\" \"ENSG00000115828\" \"ENSG00000136866\"\n",
       "[133] \"ENSG00000165023\" \"ENSG00000036448\" \"ENSG00000274137\" \"ENSG00000157168\"\n",
       "[137] \"ENSG00000153233\" \"ENSG00000185559\" \"ENSG00000143842\" \"ENSG00000113749\"\n",
       "[141] \"ENSG00000131188\" \"ENSG00000196104\" \"ENSG00000111261\" \"ENSG00000281818\"\n",
       "[145] \"ENSG00000119636\" \"ENSG00000073849\" \"ENSG00000128512\" \"ENSG00000152076\"\n",
       "[149] \"ENSG00000292118\" \"ENSG00000141449\" \"ENSG00000102452\" \"ENSG00000150394\"\n",
       "[153] \"ENSG00000137486\" \"ENSG00000002587\" \"ENSG00000116147\" \"ENSG00000184349\"\n",
       "[157] \"ENSG00000235706\" \"ENSG00000055813\" \"ENSG00000164484\""
      ]
     },
     "metadata": {},
     "output_type": "display_data"
    }
   ],
   "source": [
    "df$gene"
   ]
  },
  {
   "cell_type": "code",
   "execution_count": 11,
   "id": "7f3b18b7",
   "metadata": {},
   "outputs": [],
   "source": [
    "bed_df=gft_df3[df$gene,] %>% select(c(\"CHR\", \"START\", \"END\"))"
   ]
  },
  {
   "cell_type": "code",
   "execution_count": 12,
   "id": "d6395660",
   "metadata": {},
   "outputs": [
    {
     "data": {
      "text/html": [
       "TRUE"
      ],
      "text/latex": [
       "TRUE"
      ],
      "text/markdown": [
       "TRUE"
      ],
      "text/plain": [
       "[1] TRUE"
      ]
     },
     "metadata": {},
     "output_type": "display_data"
    }
   ],
   "source": [
    "any(is.na(bed_df))　#bedにはNAが含まれる"
   ]
  },
  {
   "cell_type": "code",
   "execution_count": 16,
   "id": "8f078417",
   "metadata": {},
   "outputs": [
    {
     "data": {
      "text/html": [
       "<style>\n",
       ".list-inline {list-style: none; margin:0; padding: 0}\n",
       ".list-inline>li {display: inline-block}\n",
       ".list-inline>li:not(:last-child)::after {content: \"\\00b7\"; padding: 0 .5ex}\n",
       "</style>\n",
       "<ol class=list-inline><li>'ENSG00000281230'</li><li>'ENSG00000291560'</li><li>'ENSG00000291608'</li><li>'ENSG00000284495'</li><li>'ENSG00000274137'</li><li>'ENSG00000281818'</li><li>'ENSG00000292118'</li></ol>\n"
      ],
      "text/latex": [
       "\\begin{enumerate*}\n",
       "\\item 'ENSG00000281230'\n",
       "\\item 'ENSG00000291560'\n",
       "\\item 'ENSG00000291608'\n",
       "\\item 'ENSG00000284495'\n",
       "\\item 'ENSG00000274137'\n",
       "\\item 'ENSG00000281818'\n",
       "\\item 'ENSG00000292118'\n",
       "\\end{enumerate*}\n"
      ],
      "text/markdown": [
       "1. 'ENSG00000281230'\n",
       "2. 'ENSG00000291560'\n",
       "3. 'ENSG00000291608'\n",
       "4. 'ENSG00000284495'\n",
       "5. 'ENSG00000274137'\n",
       "6. 'ENSG00000281818'\n",
       "7. 'ENSG00000292118'\n",
       "\n",
       "\n"
      ],
      "text/plain": [
       "[1] \"ENSG00000281230\" \"ENSG00000291560\" \"ENSG00000291608\" \"ENSG00000284495\"\n",
       "[5] \"ENSG00000274137\" \"ENSG00000281818\" \"ENSG00000292118\""
      ]
     },
     "metadata": {},
     "output_type": "display_data"
    }
   ],
   "source": [
    "df$gene[!df$gene %in% rownames(bed_df)]\n",
    "→検討結果: gtfに含まれないENSEMBL IDがgene_listに含まれる\n",
    "考察 gtfはhg19で作成したが、gene_listはhg38でversion違いのため、gtfに含まれないgeneがあったのではないか？\n",
    "対策: bed_dfからNAを除く"
   ]
  },
  {
   "cell_type": "code",
   "execution_count": 17,
   "id": "58bf0813",
   "metadata": {},
   "outputs": [],
   "source": [
    "bed_df_woNA=na.omit(bed_df)"
   ]
  },
  {
   "cell_type": "code",
   "execution_count": 18,
   "id": "34c6fb53",
   "metadata": {},
   "outputs": [
    {
     "data": {
      "text/html": [
       "FALSE"
      ],
      "text/latex": [
       "FALSE"
      ],
      "text/markdown": [
       "FALSE"
      ],
      "text/plain": [
       "[1] FALSE"
      ]
     },
     "metadata": {},
     "output_type": "display_data"
    }
   ],
   "source": [
    "any(is.na(bed_df_woNA))"
   ]
  },
  {
   "cell_type": "code",
   "execution_count": 19,
   "id": "32d21253",
   "metadata": {},
   "outputs": [
    {
     "data": {
      "text/html": [
       "<style>\n",
       ".list-inline {list-style: none; margin:0; padding: 0}\n",
       ".list-inline>li {display: inline-block}\n",
       ".list-inline>li:not(:last-child)::after {content: \"\\00b7\"; padding: 0 .5ex}\n",
       "</style>\n",
       "<ol class=list-inline><li>152</li><li>3</li></ol>\n"
      ],
      "text/latex": [
       "\\begin{enumerate*}\n",
       "\\item 152\n",
       "\\item 3\n",
       "\\end{enumerate*}\n"
      ],
      "text/markdown": [
       "1. 152\n",
       "2. 3\n",
       "\n",
       "\n"
      ],
      "text/plain": [
       "[1] 152   3"
      ]
     },
     "metadata": {},
     "output_type": "display_data"
    }
   ],
   "source": [
    "dim(bed_df_woNA)"
   ]
  },
  {
   "cell_type": "code",
   "execution_count": 20,
   "id": "72820ab6",
   "metadata": {},
   "outputs": [
    {
     "data": {
      "text/html": [
       "<style>\n",
       ".list-inline {list-style: none; margin:0; padding: 0}\n",
       ".list-inline>li {display: inline-block}\n",
       ".list-inline>li:not(:last-child)::after {content: \"\\00b7\"; padding: 0 .5ex}\n",
       "</style>\n",
       "<ol class=list-inline><li>159</li><li>3</li></ol>\n"
      ],
      "text/latex": [
       "\\begin{enumerate*}\n",
       "\\item 159\n",
       "\\item 3\n",
       "\\end{enumerate*}\n"
      ],
      "text/markdown": [
       "1. 159\n",
       "2. 3\n",
       "\n",
       "\n"
      ],
      "text/plain": [
       "[1] 159   3"
      ]
     },
     "metadata": {},
     "output_type": "display_data"
    }
   ],
   "source": [
    "dim(bed_df)  #df$gene[!df$gene %in% rownames(bed_df)]と同じ7行減っていて整合性OK"
   ]
  },
  {
   "cell_type": "code",
   "execution_count": null,
   "id": "67341a2a",
   "metadata": {},
   "outputs": [],
   "source": []
  }
 ],
 "metadata": {
  "kernelspec": {
   "display_name": "R 4.3_khat1",
   "language": "R",
   "name": "ir43_khat1"
  },
  "language_info": {
   "codemirror_mode": "r",
   "file_extension": ".r",
   "mimetype": "text/x-r-source",
   "name": "R",
   "pygments_lexer": "r",
   "version": "4.3.3"
  }
 },
 "nbformat": 4,
 "nbformat_minor": 5
}
