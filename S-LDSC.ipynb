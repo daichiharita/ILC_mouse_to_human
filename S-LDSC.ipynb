{
 "cells": [
  {
   "cell_type": "markdown",
   "id": "682597f7",
   "metadata": {},
   "source": [
    "##terminalに入力\n",
    "\n",
    "mkdir -p ~/LDSC/S_LDSC_tutorial5/20241023_tutorial/data/info\n",
    "cd /home/k1_taka/reference/LDSCORE/1000G_Phase3_cell_type_groups\n",
    "ls *.bed | sed 's/.bed//g' > ~/LDSC/S_LDSC_tutorial/20241023_tutorial/data/info/data_list"
   ]
  },
  {
   "cell_type": "code",
   "execution_count": null,
   "id": "00cc40a9-b1a0-4972-92d1-ddefb3eb3695",
   "metadata": {},
   "outputs": [],
   "source": [
    "mkdir -p ~/LDSC/S_LDSC_tutorial5/20241023_tutorial/data/info"
   ]
  },
  {
   "cell_type": "markdown",
   "id": "ce13f7d0",
   "metadata": {},
   "source": [
    "##terminalに入力\n",
    "\n",
    "qlogin -l s_vmem=10G -l mem_req=10G\n",
    "export MKL_NUM_THREADS=1\n",
    "export OMP_NUM_THREADS=1\n",
    "export MKL_DOMAIN_NUM_THREADS=1\n",
    "unset PROMPT_COMMAND\n",
    "\n",
    "\n",
    "wd=~/LDSC/S_LDSC_tutorial5/20241023_tutorial\n",
    "\n",
    "\n",
    "cd $wd\n",
    "mkdir -p log\n",
    "\n",
    "\n",
    "\n",
    "export PATH=/home/k1_taka/miniconda3/envs/ldsc/bin:/home/k1_taka/miniconda3/bin:${PATH}\n",
    "\n",
    "\n",
    "dd=~/LDSC/S_LDSC_tutorial5/20241023_tutorial/data\n",
    "\n",
    "info=${dd}/info/data_list\n",
    "num=`wc -l $info |  cut -d \" \" -f1`\n",
    "\n",
    "\n",
    "\n",
    " #MAIN JOB\n",
    "qsub -pe def_slot 1 \\\r\n",
    "   -l s_vmem=10G,mem_req=10G \\\r\n",
    "   -cwd \\\r\n",
    "   -t 1:${num} -tc 50 \\\r\n",
    "   -o log/ldscore_test.log \\\r\n",
    "   -e log/ldscore_test.error \\\r\n",
    "   ~/LDSC/S_LDSC_tutorial5/takahashi_arranged_ldscore_eur-v1_20240902_tutorial.sh ${dd}\r\n",
    " ${dd}\r\n",
    "\n",
    "    #Your job-array 105103970.1-10:1 (\"takahashi_arranged_ldscore_eur-v1_20240902_tutorial.sh\") has been submitted\n",
    "    #tc 同時実行数を制御\n",
    "\n",
    "\n",
    "\n"
   ]
  },
  {
   "cell_type": "markdown",
   "id": "82b5cd62",
   "metadata": {},
   "source": [
    "##terminalに入力\n",
    "\n",
    "qlogin -l s_vmem=10G -l mem_req=10G\n",
    "export MKL_NUM_THREADS=1\n",
    "export OMP_NUM_THREADS=1\n",
    "export MKL_DOMAIN_NUM_THREADS=1\n",
    "unset PROMPT_COMMAND\n",
    "\n",
    "\n",
    "wd=~/LDSC/S_LDSC_tutorial5/20241023_tutorial\n",
    "\n",
    "\n",
    "cd $wd\n",
    "mkdir -p log\n",
    "\n",
    "\n",
    "\n",
    "export PATH=/home/k1_taka/miniconda3/envs/ldsc/bin:/home/k1_taka/miniconda3/bin:${PATH}\n",
    "\n",
    "\n",
    "dd=~/LDSC/S_LDSC_tutorial5/20241023_tutorial/data\n",
    "\n",
    "info=${dd}/info/data_list\n",
    "num=`wc -l $info |  cut -d \" \" -f1`\n",
    "\n",
    "qsub -pe def_slot 1 \\\n",
    "    -l s_vmem=10G,mem_req=10G \\\n",
    "    -cwd \\\n",
    "    -t 1:${num} -tc 50 \\\n",
    "    -o log/sldsc_test2.log \\\n",
    "    -e log/sldsc_test2.error \\\n",
    "    ~/LDSC/S_LDSC_tutorial5/takahashi_arranged_sldsc_eur-v1_20240902_tutorial2.sh ${dd}\n"
   ]
  },
  {
   "cell_type": "markdown",
   "id": "c59e4061",
   "metadata": {},
   "source": [
    "## -log10pのbarplotの作成"
   ]
  },
  {
   "cell_type": "code",
   "execution_count": 1,
   "id": "7e24773a",
   "metadata": {},
   "outputs": [
    {
     "name": "stderr",
     "output_type": "stream",
     "text": [
      "\n",
      " 次のパッケージを付け加えます: ‘dplyr’ \n",
      "\n",
      "\n",
      " 以下のオブジェクトは ‘package:data.table’ からマスクされています:\n",
      "\n",
      "    between, first, last\n",
      "\n",
      "\n",
      " 以下のオブジェクトは ‘package:stats’ からマスクされています:\n",
      "\n",
      "    filter, lag\n",
      "\n",
      "\n",
      " 以下のオブジェクトは ‘package:base’ からマスクされています:\n",
      "\n",
      "    intersect, setdiff, setequal, union\n",
      "\n",
      "\n",
      "── \u001b[1mAttaching core tidyverse packages\u001b[22m ──────────────────────────────────────────────────────────────── tidyverse 2.0.0 ──\n",
      "\u001b[32m✔\u001b[39m \u001b[34mforcats  \u001b[39m 1.0.0     \u001b[32m✔\u001b[39m \u001b[34mstringr  \u001b[39m 1.5.1\n",
      "\u001b[32m✔\u001b[39m \u001b[34mlubridate\u001b[39m 1.9.3     \u001b[32m✔\u001b[39m \u001b[34mtibble   \u001b[39m 3.2.1\n",
      "\u001b[32m✔\u001b[39m \u001b[34mpurrr    \u001b[39m 1.0.2     \u001b[32m✔\u001b[39m \u001b[34mtidyr    \u001b[39m 1.3.1\n",
      "\u001b[32m✔\u001b[39m \u001b[34mreadr    \u001b[39m 2.1.5     \n",
      "── \u001b[1mConflicts\u001b[22m ────────────────────────────────────────────────────────────────────────────────── tidyverse_conflicts() ──\n",
      "\u001b[31m✖\u001b[39m \u001b[34mdplyr\u001b[39m::\u001b[32mbetween()\u001b[39m     masks \u001b[34mdata.table\u001b[39m::between()\n",
      "\u001b[31m✖\u001b[39m \u001b[34mdplyr\u001b[39m::\u001b[32mfilter()\u001b[39m      masks \u001b[34mstats\u001b[39m::filter()\n",
      "\u001b[31m✖\u001b[39m \u001b[34mdplyr\u001b[39m::\u001b[32mfirst()\u001b[39m       masks \u001b[34mdata.table\u001b[39m::first()\n",
      "\u001b[31m✖\u001b[39m \u001b[34mlubridate\u001b[39m::\u001b[32mhour()\u001b[39m    masks \u001b[34mdata.table\u001b[39m::hour()\n",
      "\u001b[31m✖\u001b[39m \u001b[34mlubridate\u001b[39m::\u001b[32misoweek()\u001b[39m masks \u001b[34mdata.table\u001b[39m::isoweek()\n",
      "\u001b[31m✖\u001b[39m \u001b[34mdplyr\u001b[39m::\u001b[32mlag()\u001b[39m         masks \u001b[34mstats\u001b[39m::lag()\n",
      "\u001b[31m✖\u001b[39m \u001b[34mdplyr\u001b[39m::\u001b[32mlast()\u001b[39m        masks \u001b[34mdata.table\u001b[39m::last()\n",
      "\u001b[31m✖\u001b[39m \u001b[34mlubridate\u001b[39m::\u001b[32mmday()\u001b[39m    masks \u001b[34mdata.table\u001b[39m::mday()\n",
      "\u001b[31m✖\u001b[39m \u001b[34mlubridate\u001b[39m::\u001b[32mminute()\u001b[39m  masks \u001b[34mdata.table\u001b[39m::minute()\n",
      "\u001b[31m✖\u001b[39m \u001b[34mlubridate\u001b[39m::\u001b[32mmonth()\u001b[39m   masks \u001b[34mdata.table\u001b[39m::month()\n",
      "\u001b[31m✖\u001b[39m \u001b[34mlubridate\u001b[39m::\u001b[32mquarter()\u001b[39m masks \u001b[34mdata.table\u001b[39m::quarter()\n",
      "\u001b[31m✖\u001b[39m \u001b[34mlubridate\u001b[39m::\u001b[32msecond()\u001b[39m  masks \u001b[34mdata.table\u001b[39m::second()\n",
      "\u001b[31m✖\u001b[39m \u001b[34mpurrr\u001b[39m::\u001b[32mtranspose()\u001b[39m   masks \u001b[34mdata.table\u001b[39m::transpose()\n",
      "\u001b[31m✖\u001b[39m \u001b[34mlubridate\u001b[39m::\u001b[32mwday()\u001b[39m    masks \u001b[34mdata.table\u001b[39m::wday()\n",
      "\u001b[31m✖\u001b[39m \u001b[34mlubridate\u001b[39m::\u001b[32mweek()\u001b[39m    masks \u001b[34mdata.table\u001b[39m::week()\n",
      "\u001b[31m✖\u001b[39m \u001b[34mlubridate\u001b[39m::\u001b[32myday()\u001b[39m    masks \u001b[34mdata.table\u001b[39m::yday()\n",
      "\u001b[31m✖\u001b[39m \u001b[34mlubridate\u001b[39m::\u001b[32myear()\u001b[39m    masks \u001b[34mdata.table\u001b[39m::year()\n",
      "\u001b[36mℹ\u001b[39m Use the conflicted package (\u001b[3m\u001b[34m<http://conflicted.r-lib.org/>\u001b[39m\u001b[23m) to force all conflicts to become errors\n"
     ]
    }
   ],
   "source": [
    "##ここからはR\n",
    "\n",
    "library(ggplot2) \n",
    "\n",
    "set.seed(1)\n",
    "library(fs)\n",
    "library(data.table)\n",
    "library(dplyr)\n",
    "library(tidyverse)"
   ]
  },
  {
   "cell_type": "markdown",
   "id": "6e350aa4",
   "metadata": {},
   "source": [
    "## X: CC毎の比較, y: -log10p, facet: sumstats (noexp)"
   ]
  },
  {
   "cell_type": "code",
   "execution_count": 2,
   "id": "e3a2d175",
   "metadata": {},
   "outputs": [
    {
     "data": {
      "text/html": [
       "<table class=\"dataframe\">\n",
       "<caption>A data.frame: 6 × 11</caption>\n",
       "<thead>\n",
       "\t<tr><th></th><th scope=col>sumstatsname</th><th scope=col>celltype</th><th scope=col>Prop._SNPs</th><th scope=col>Prop._h2</th><th scope=col>Prop._h2_std_error</th><th scope=col>Enrichment</th><th scope=col>Enrichment_std_error</th><th scope=col>Enrichment_p</th><th scope=col>Coefficient</th><th scope=col>Coefficient_std_error</th><th scope=col>Coefficient_z.score</th></tr>\n",
       "\t<tr><th></th><th scope=col>&lt;chr&gt;</th><th scope=col>&lt;chr&gt;</th><th scope=col>&lt;dbl&gt;</th><th scope=col>&lt;dbl&gt;</th><th scope=col>&lt;dbl&gt;</th><th scope=col>&lt;dbl&gt;</th><th scope=col>&lt;dbl&gt;</th><th scope=col>&lt;dbl&gt;</th><th scope=col>&lt;dbl&gt;</th><th scope=col>&lt;dbl&gt;</th><th scope=col>&lt;dbl&gt;</th></tr>\n",
       "</thead>\n",
       "<tbody>\n",
       "\t<tr><th scope=row>1</th><td>Lupus_langefeld.results                </td><td>gene_list_0_region_hg19_ext100Kbp</td><td>0.09066626</td><td>0.24098542</td><td>0.054973621</td><td>2.657939</td><td>0.6063294</td><td>1.566057e-05</td><td> 5.150601e-08</td><td>3.128161e-08</td><td> 1.6465267</td></tr>\n",
       "\t<tr><th scope=row>2</th><td>Allergy_Eczema.results                 </td><td>gene_list_0_region_hg19_ext100Kbp</td><td>0.09066626</td><td>0.14679271</td><td>0.015512202</td><td>1.619044</td><td>0.1710912</td><td>2.103337e-04</td><td>-2.475659e-09</td><td>2.610798e-09</td><td>-0.9482383</td></tr>\n",
       "\t<tr><th scope=row>3</th><td>Asthma.results                         </td><td>gene_list_0_region_hg19_ext100Kbp</td><td>0.09066626</td><td>0.16862990</td><td>0.021413091</td><td>1.859897</td><td>0.2361749</td><td>3.292922e-04</td><td> 3.410474e-10</td><td>2.382935e-09</td><td> 0.1431207</td></tr>\n",
       "\t<tr><th scope=row>4</th><td>PASS_CD_deLange2017.results            </td><td>gene_list_0_region_hg19_ext100Kbp</td><td>0.09066626</td><td>0.19878953</td><td>0.023971810</td><td>2.192541</td><td>0.2643961</td><td>5.161888e-06</td><td> 8.531248e-09</td><td>2.168468e-08</td><td> 0.3934228</td></tr>\n",
       "\t<tr><th scope=row>5</th><td>PASS_Schizophrenia_Pardinas2018.results</td><td>gene_list_0_region_hg19_ext100Kbp</td><td>0.09066626</td><td>0.12192919</td><td>0.009928893</td><td>1.344813</td><td>0.1095103</td><td>1.724125e-03</td><td> 1.037457e-08</td><td>8.669417e-09</td><td> 1.1966863</td></tr>\n",
       "\t<tr><th scope=row>6</th><td>PASS_BMI1.results                      </td><td>gene_list_0_region_hg19_ext100Kbp</td><td>0.09066626</td><td>0.09398509</td><td>0.011514714</td><td>1.036605</td><td>0.1270011</td><td>7.730427e-01</td><td>-4.229178e-09</td><td>3.134673e-09</td><td>-1.3491608</td></tr>\n",
       "</tbody>\n",
       "</table>\n"
      ],
      "text/latex": [
       "A data.frame: 6 × 11\n",
       "\\begin{tabular}{r|lllllllllll}\n",
       "  & sumstatsname & celltype & Prop.\\_SNPs & Prop.\\_h2 & Prop.\\_h2\\_std\\_error & Enrichment & Enrichment\\_std\\_error & Enrichment\\_p & Coefficient & Coefficient\\_std\\_error & Coefficient\\_z.score\\\\\n",
       "  & <chr> & <chr> & <dbl> & <dbl> & <dbl> & <dbl> & <dbl> & <dbl> & <dbl> & <dbl> & <dbl>\\\\\n",
       "\\hline\n",
       "\t1 & Lupus\\_langefeld.results                 & gene\\_list\\_0\\_region\\_hg19\\_ext100Kbp & 0.09066626 & 0.24098542 & 0.054973621 & 2.657939 & 0.6063294 & 1.566057e-05 &  5.150601e-08 & 3.128161e-08 &  1.6465267\\\\\n",
       "\t2 & Allergy\\_Eczema.results                  & gene\\_list\\_0\\_region\\_hg19\\_ext100Kbp & 0.09066626 & 0.14679271 & 0.015512202 & 1.619044 & 0.1710912 & 2.103337e-04 & -2.475659e-09 & 2.610798e-09 & -0.9482383\\\\\n",
       "\t3 & Asthma.results                          & gene\\_list\\_0\\_region\\_hg19\\_ext100Kbp & 0.09066626 & 0.16862990 & 0.021413091 & 1.859897 & 0.2361749 & 3.292922e-04 &  3.410474e-10 & 2.382935e-09 &  0.1431207\\\\\n",
       "\t4 & PASS\\_CD\\_deLange2017.results             & gene\\_list\\_0\\_region\\_hg19\\_ext100Kbp & 0.09066626 & 0.19878953 & 0.023971810 & 2.192541 & 0.2643961 & 5.161888e-06 &  8.531248e-09 & 2.168468e-08 &  0.3934228\\\\\n",
       "\t5 & PASS\\_Schizophrenia\\_Pardinas2018.results & gene\\_list\\_0\\_region\\_hg19\\_ext100Kbp & 0.09066626 & 0.12192919 & 0.009928893 & 1.344813 & 0.1095103 & 1.724125e-03 &  1.037457e-08 & 8.669417e-09 &  1.1966863\\\\\n",
       "\t6 & PASS\\_BMI1.results                       & gene\\_list\\_0\\_region\\_hg19\\_ext100Kbp & 0.09066626 & 0.09398509 & 0.011514714 & 1.036605 & 0.1270011 & 7.730427e-01 & -4.229178e-09 & 3.134673e-09 & -1.3491608\\\\\n",
       "\\end{tabular}\n"
      ],
      "text/markdown": [
       "\n",
       "A data.frame: 6 × 11\n",
       "\n",
       "| <!--/--> | sumstatsname &lt;chr&gt; | celltype &lt;chr&gt; | Prop._SNPs &lt;dbl&gt; | Prop._h2 &lt;dbl&gt; | Prop._h2_std_error &lt;dbl&gt; | Enrichment &lt;dbl&gt; | Enrichment_std_error &lt;dbl&gt; | Enrichment_p &lt;dbl&gt; | Coefficient &lt;dbl&gt; | Coefficient_std_error &lt;dbl&gt; | Coefficient_z.score &lt;dbl&gt; |\n",
       "|---|---|---|---|---|---|---|---|---|---|---|---|\n",
       "| 1 | Lupus_langefeld.results                 | gene_list_0_region_hg19_ext100Kbp | 0.09066626 | 0.24098542 | 0.054973621 | 2.657939 | 0.6063294 | 1.566057e-05 |  5.150601e-08 | 3.128161e-08 |  1.6465267 |\n",
       "| 2 | Allergy_Eczema.results                  | gene_list_0_region_hg19_ext100Kbp | 0.09066626 | 0.14679271 | 0.015512202 | 1.619044 | 0.1710912 | 2.103337e-04 | -2.475659e-09 | 2.610798e-09 | -0.9482383 |\n",
       "| 3 | Asthma.results                          | gene_list_0_region_hg19_ext100Kbp | 0.09066626 | 0.16862990 | 0.021413091 | 1.859897 | 0.2361749 | 3.292922e-04 |  3.410474e-10 | 2.382935e-09 |  0.1431207 |\n",
       "| 4 | PASS_CD_deLange2017.results             | gene_list_0_region_hg19_ext100Kbp | 0.09066626 | 0.19878953 | 0.023971810 | 2.192541 | 0.2643961 | 5.161888e-06 |  8.531248e-09 | 2.168468e-08 |  0.3934228 |\n",
       "| 5 | PASS_Schizophrenia_Pardinas2018.results | gene_list_0_region_hg19_ext100Kbp | 0.09066626 | 0.12192919 | 0.009928893 | 1.344813 | 0.1095103 | 1.724125e-03 |  1.037457e-08 | 8.669417e-09 |  1.1966863 |\n",
       "| 6 | PASS_BMI1.results                       | gene_list_0_region_hg19_ext100Kbp | 0.09066626 | 0.09398509 | 0.011514714 | 1.036605 | 0.1270011 | 7.730427e-01 | -4.229178e-09 | 3.134673e-09 | -1.3491608 |\n",
       "\n"
      ],
      "text/plain": [
       "  sumstatsname                            celltype                         \n",
       "1 Lupus_langefeld.results                 gene_list_0_region_hg19_ext100Kbp\n",
       "2 Allergy_Eczema.results                  gene_list_0_region_hg19_ext100Kbp\n",
       "3 Asthma.results                          gene_list_0_region_hg19_ext100Kbp\n",
       "4 PASS_CD_deLange2017.results             gene_list_0_region_hg19_ext100Kbp\n",
       "5 PASS_Schizophrenia_Pardinas2018.results gene_list_0_region_hg19_ext100Kbp\n",
       "6 PASS_BMI1.results                       gene_list_0_region_hg19_ext100Kbp\n",
       "  Prop._SNPs Prop._h2   Prop._h2_std_error Enrichment Enrichment_std_error\n",
       "1 0.09066626 0.24098542 0.054973621        2.657939   0.6063294           \n",
       "2 0.09066626 0.14679271 0.015512202        1.619044   0.1710912           \n",
       "3 0.09066626 0.16862990 0.021413091        1.859897   0.2361749           \n",
       "4 0.09066626 0.19878953 0.023971810        2.192541   0.2643961           \n",
       "5 0.09066626 0.12192919 0.009928893        1.344813   0.1095103           \n",
       "6 0.09066626 0.09398509 0.011514714        1.036605   0.1270011           \n",
       "  Enrichment_p Coefficient   Coefficient_std_error Coefficient_z.score\n",
       "1 1.566057e-05  5.150601e-08 3.128161e-08           1.6465267         \n",
       "2 2.103337e-04 -2.475659e-09 2.610798e-09          -0.9482383         \n",
       "3 3.292922e-04  3.410474e-10 2.382935e-09           0.1431207         \n",
       "4 5.161888e-06  8.531248e-09 2.168468e-08           0.3934228         \n",
       "5 1.724125e-03  1.037457e-08 8.669417e-09           1.1966863         \n",
       "6 7.730427e-01 -4.229178e-09 3.134673e-09          -1.3491608         "
      ]
     },
     "metadata": {},
     "output_type": "display_data"
    }
   ],
   "source": [
    "# 正しいディレクトリパスを設定\n",
    "dir_path <- \"~/LDSC/S_LDSC_tutorial5/20241023_tutorial/sldsc2\"\n",
    "gene_list_dirs <- paste0(\"gene_list_\", 0:7, \"_region_hg19_ext100Kbp\") # genelist 0~7まで\n",
    "\n",
    "# 結果を格納するデータフレームを初期化\n",
    "enrichment_allsumstats_df <- data.frame(matrix(ncol=11, nrow=0))  # 11列のデータフレーム\n",
    "\n",
    "# 対象とする sumstats のリストを修正\n",
    "sumstats_list <- c(\"Lupus_langefeld.results\", \n",
    "                   \"Allergy_Eczema.results\",  # 正しいファイル名に修正\n",
    "                   \"Asthma.results\",          # 正しいファイル名に修正\n",
    "                   \"PASS_CD_deLange2017.results\",\n",
    "                   \"PASS_Schizophrenia_Pardinas2018.results\",  \n",
    "                   \"PASS_BMI1.results\", \n",
    "                   \"RA_ishigaki.results\", \n",
    "                   \"PASS_SleepDuration_Dashti2019.results\",\n",
    "                   \"PASS_Type_2_Diabetes.results\",\n",
    "                   \"AdultOnsetAsthma_Ferreira2019.results\")\n",
    "\n",
    "# 各 gene_list ディレクトリ内のファイルを順に処理\n",
    "for (gene_list_dir in gene_list_dirs) {\n",
    "    for (sumstats in sumstats_list) {\n",
    "        # ファイルパスを設定\n",
    "        file_path <- paste0(dir_path, \"/\", gene_list_dir, \"/\", sumstats)\n",
    "        \n",
    "        # ファイルが存在するかをチェック\n",
    "        if (file.exists(file_path)) {\n",
    "            # データを読み込み\n",
    "            df <- read.table(file_path, header=TRUE)\n",
    "            \n",
    "            # アノテーションの部分を取得 (必要な部分を抽出)\n",
    "            annotation_df <- df[1, 2:10]  # 2列目から10列目を取得\n",
    "            \n",
    "            # 結果のデータフレームに追加\n",
    "            new_df <- data.frame(sumstatsname = sumstats, celltype = gene_list_dir, annotation_df)\n",
    "            enrichment_allsumstats_df <- rbind(enrichment_allsumstats_df, new_df)\n",
    "        }\n",
    "    }\n",
    "}\n",
    "\n",
    "# 結果のデータフレームを確認\n",
    "head(enrichment_allsumstats_df)\n"
   ]
  },
  {
   "cell_type": "code",
   "execution_count": 3,
   "id": "4839990c-0581-4976-9df8-bd3901e3c3f5",
   "metadata": {},
   "outputs": [
    {
     "name": "stdout",
     "output_type": "stream",
     "text": [
      "                              sumstatsname                          celltype\n",
      "1                  Lupus_langefeld.results gene_list_0_region_hg19_ext100Kbp\n",
      "2                   Allergy_Eczema.results gene_list_0_region_hg19_ext100Kbp\n",
      "3                           Asthma.results gene_list_0_region_hg19_ext100Kbp\n",
      "4              PASS_CD_deLange2017.results gene_list_0_region_hg19_ext100Kbp\n",
      "5  PASS_Schizophrenia_Pardinas2018.results gene_list_0_region_hg19_ext100Kbp\n",
      "6                        PASS_BMI1.results gene_list_0_region_hg19_ext100Kbp\n",
      "7                      RA_ishigaki.results gene_list_0_region_hg19_ext100Kbp\n",
      "8    PASS_SleepDuration_Dashti2019.results gene_list_0_region_hg19_ext100Kbp\n",
      "9             PASS_Type_2_Diabetes.results gene_list_0_region_hg19_ext100Kbp\n",
      "10   AdultOnsetAsthma_Ferreira2019.results gene_list_0_region_hg19_ext100Kbp\n",
      "   Prop._SNPs   Prop._h2 Prop._h2_std_error Enrichment Enrichment_std_error\n",
      "1  0.09066626 0.24098542        0.054973621   2.657939            0.6063294\n",
      "2  0.09066626 0.14679271        0.015512202   1.619044            0.1710912\n",
      "3  0.09066626 0.16862990        0.021413091   1.859897            0.2361749\n",
      "4  0.09066626 0.19878953        0.023971810   2.192541            0.2643961\n",
      "5  0.09066626 0.12192919        0.009928893   1.344813            0.1095103\n",
      "6  0.09066626 0.09398509        0.011514714   1.036605            0.1270011\n",
      "7  0.09066626 0.20080870        0.020393463   2.214812            0.2249289\n",
      "8  0.09066626 0.10005114        0.009479216   1.103510            0.1045506\n",
      "9  0.09066626 0.15189878        0.028307215   1.675362            0.3122133\n",
      "10 0.09066626 0.14663092        0.021234729   1.617260            0.2342076\n",
      "   Enrichment_p   Coefficient Coefficient_std_error Coefficient_z.score\n",
      "1  1.566057e-05  5.150601e-08          3.128161e-08           1.6465267\n",
      "2  2.103337e-04 -2.475659e-09          2.610798e-09          -0.9482383\n",
      "3  3.292922e-04  3.410474e-10          2.382935e-09           0.1431207\n",
      "4  5.161888e-06  8.531248e-09          2.168468e-08           0.3934228\n",
      "5  1.724125e-03  1.037457e-08          8.669417e-09           1.1966863\n",
      "6  7.730427e-01 -4.229178e-09          3.134673e-09          -1.3491608\n",
      "7  2.909332e-07  1.152923e-08          8.109863e-09           1.4216312\n",
      "8  3.207941e-01 -2.421091e-10          1.241703e-09          -0.1949816\n",
      "9  2.737603e-02  2.358215e-09          5.714604e-09           0.4126647\n",
      "10 7.339886e-03 -5.632206e-10          2.019633e-09          -0.2788728\n",
      "                              sumstatsname                          celltype\n",
      "1                  Lupus_langefeld.results gene_list_1_region_hg19_ext100Kbp\n",
      "2                   Allergy_Eczema.results gene_list_1_region_hg19_ext100Kbp\n",
      "3                           Asthma.results gene_list_1_region_hg19_ext100Kbp\n",
      "4              PASS_CD_deLange2017.results gene_list_1_region_hg19_ext100Kbp\n",
      "5  PASS_Schizophrenia_Pardinas2018.results gene_list_1_region_hg19_ext100Kbp\n",
      "6                        PASS_BMI1.results gene_list_1_region_hg19_ext100Kbp\n",
      "7                      RA_ishigaki.results gene_list_1_region_hg19_ext100Kbp\n",
      "8    PASS_SleepDuration_Dashti2019.results gene_list_1_region_hg19_ext100Kbp\n",
      "9             PASS_Type_2_Diabetes.results gene_list_1_region_hg19_ext100Kbp\n",
      "10   AdultOnsetAsthma_Ferreira2019.results gene_list_1_region_hg19_ext100Kbp\n",
      "   Prop._SNPs   Prop._h2 Prop._h2_std_error Enrichment Enrichment_std_error\n",
      "1   0.0186551 0.05495116        0.018071649   2.945638            0.9687245\n",
      "2   0.0186551 0.06980471        0.010979108   3.741857            0.5885313\n",
      "3   0.0186551 0.07424813        0.016304368   3.980045            0.8739900\n",
      "4   0.0186551 0.08353392        0.012970891   4.477807            0.6953001\n",
      "5   0.0186551 0.02690230        0.005065708   1.442089            0.2715455\n",
      "6   0.0186551 0.02355940        0.005909873   1.262893            0.3167967\n",
      "7   0.0186551 0.06006853        0.012063255   3.219953            0.6466466\n",
      "8   0.0186551 0.02884122        0.004517842   1.546024            0.2421773\n",
      "9   0.0186551 0.03373806        0.013192828   1.808517            0.7071970\n",
      "10  0.0186551 0.07744693        0.013939336   4.151516            0.7472133\n",
      "   Enrichment_p  Coefficient Coefficient_std_error Coefficient_z.score\n",
      "1  1.909193e-02 2.809603e-08          5.933286e-08          0.47353232\n",
      "2  1.275688e-05 2.064833e-08          8.270459e-09          2.49663616\n",
      "3  2.126230e-03 1.759117e-08          9.491741e-09          1.85331300\n",
      "4  6.898860e-06 1.343023e-07          5.529558e-08          2.42880682\n",
      "5  1.047012e-01 1.742826e-08          1.832445e-08          0.95109291\n",
      "6  4.075688e-01 5.633774e-10          7.137793e-09          0.07892879\n",
      "7  1.083096e-03 2.273038e-08          2.048688e-08          1.10950924\n",
      "8  2.291950e-02 4.072670e-09          2.422959e-09          1.68086654\n",
      "9  2.529196e-01 5.097724e-09          1.103733e-08          0.46186200\n",
      "10 5.864157e-05 1.504641e-08          5.578266e-09          2.69732798\n"
     ]
    }
   ],
   "source": [
    "# クラスターごとの結果を確認\n",
    "gene_list_0 <- filter(enrichment_allsumstats_df, celltype == \"gene_list_0_region_hg19_ext100Kbp\")\n",
    "gene_list_1 <- filter(enrichment_allsumstats_df, celltype == \"gene_list_1_region_hg19_ext100Kbp\")\n",
    "\n",
    "# 結果を表示\n",
    "print(gene_list_0)\n",
    "print(gene_list_1)\n"
   ]
  },
  {
   "cell_type": "code",
   "execution_count": 4,
   "id": "2a3c4f29-dc58-499e-a7ff-7137685ee27b",
   "metadata": {},
   "outputs": [
    {
     "data": {
      "text/html": [
       "<table class=\"dataframe\">\n",
       "<caption>A data.frame: 8 × 11</caption>\n",
       "<thead>\n",
       "\t<tr><th></th><th scope=col>sumstatsname</th><th scope=col>celltype</th><th scope=col>Prop._SNPs</th><th scope=col>Prop._h2</th><th scope=col>Prop._h2_std_error</th><th scope=col>Enrichment</th><th scope=col>Enrichment_std_error</th><th scope=col>Enrichment_p</th><th scope=col>Coefficient</th><th scope=col>Coefficient_std_error</th><th scope=col>Coefficient_z.score</th></tr>\n",
       "\t<tr><th></th><th scope=col>&lt;chr&gt;</th><th scope=col>&lt;chr&gt;</th><th scope=col>&lt;dbl&gt;</th><th scope=col>&lt;dbl&gt;</th><th scope=col>&lt;dbl&gt;</th><th scope=col>&lt;dbl&gt;</th><th scope=col>&lt;dbl&gt;</th><th scope=col>&lt;dbl&gt;</th><th scope=col>&lt;dbl&gt;</th><th scope=col>&lt;dbl&gt;</th><th scope=col>&lt;dbl&gt;</th></tr>\n",
       "</thead>\n",
       "<tbody>\n",
       "\t<tr><th scope=row>10</th><td>AdultOnsetAsthma_Ferreira2019.results</td><td>gene_list_0_region_hg19_ext100Kbp</td><td>0.09066626</td><td>0.14663092</td><td>0.021234729</td><td>1.617260</td><td>0.2342076</td><td>7.339886e-03</td><td>-5.632206e-10</td><td>2.019633e-09</td><td>-0.2788728</td></tr>\n",
       "\t<tr><th scope=row>20</th><td>AdultOnsetAsthma_Ferreira2019.results</td><td>gene_list_1_region_hg19_ext100Kbp</td><td>0.01865510</td><td>0.07744693</td><td>0.013939336</td><td>4.151516</td><td>0.7472133</td><td>5.864157e-05</td><td> 1.504641e-08</td><td>5.578266e-09</td><td> 2.6973280</td></tr>\n",
       "\t<tr><th scope=row>30</th><td>AdultOnsetAsthma_Ferreira2019.results</td><td>gene_list_2_region_hg19_ext100Kbp</td><td>0.12488847</td><td>0.28505263</td><td>0.022966446</td><td>2.282458</td><td>0.1838957</td><td>7.237776e-09</td><td> 5.960618e-09</td><td>1.904086e-09</td><td> 3.1304360</td></tr>\n",
       "\t<tr><th scope=row>40</th><td>AdultOnsetAsthma_Ferreira2019.results</td><td>gene_list_3_region_hg19_ext100Kbp</td><td>0.11660132</td><td>0.26863073</td><td>0.024168749</td><td>2.303840</td><td>0.2072768</td><td>2.619225e-08</td><td> 6.721713e-09</td><td>1.951732e-09</td><td> 3.4439737</td></tr>\n",
       "\t<tr><th scope=row>50</th><td>AdultOnsetAsthma_Ferreira2019.results</td><td>gene_list_4_region_hg19_ext100Kbp</td><td>0.05005956</td><td>0.11226146</td><td>0.017839635</td><td>2.242558</td><td>0.3563682</td><td>6.444741e-04</td><td> 4.554701e-09</td><td>2.838172e-09</td><td> 1.6048011</td></tr>\n",
       "\t<tr><th scope=row>60</th><td>AdultOnsetAsthma_Ferreira2019.results</td><td>gene_list_5_region_hg19_ext100Kbp</td><td>0.01658235</td><td>0.02912273</td><td>0.008346898</td><td>1.756249</td><td>0.5033605</td><td>1.216766e-01</td><td>-1.264422e-09</td><td>3.919399e-09</td><td>-0.3226062</td></tr>\n",
       "\t<tr><th scope=row>70</th><td>AdultOnsetAsthma_Ferreira2019.results</td><td>gene_list_6_region_hg19_ext100Kbp</td><td>0.10836014</td><td>0.18622070</td><td>0.021707720</td><td>1.718535</td><td>0.2003294</td><td>2.902899e-04</td><td> 5.939229e-10</td><td>1.666378e-09</td><td> 0.3564155</td></tr>\n",
       "\t<tr><th scope=row>80</th><td>AdultOnsetAsthma_Ferreira2019.results</td><td>gene_list_7_region_hg19_ext100Kbp</td><td>0.12364542</td><td>0.20456274</td><td>0.022623208</td><td>1.654430</td><td>0.1829684</td><td>2.841450e-04</td><td> 1.755896e-09</td><td>1.619401e-09</td><td> 1.0842871</td></tr>\n",
       "</tbody>\n",
       "</table>\n"
      ],
      "text/latex": [
       "A data.frame: 8 × 11\n",
       "\\begin{tabular}{r|lllllllllll}\n",
       "  & sumstatsname & celltype & Prop.\\_SNPs & Prop.\\_h2 & Prop.\\_h2\\_std\\_error & Enrichment & Enrichment\\_std\\_error & Enrichment\\_p & Coefficient & Coefficient\\_std\\_error & Coefficient\\_z.score\\\\\n",
       "  & <chr> & <chr> & <dbl> & <dbl> & <dbl> & <dbl> & <dbl> & <dbl> & <dbl> & <dbl> & <dbl>\\\\\n",
       "\\hline\n",
       "\t10 & AdultOnsetAsthma\\_Ferreira2019.results & gene\\_list\\_0\\_region\\_hg19\\_ext100Kbp & 0.09066626 & 0.14663092 & 0.021234729 & 1.617260 & 0.2342076 & 7.339886e-03 & -5.632206e-10 & 2.019633e-09 & -0.2788728\\\\\n",
       "\t20 & AdultOnsetAsthma\\_Ferreira2019.results & gene\\_list\\_1\\_region\\_hg19\\_ext100Kbp & 0.01865510 & 0.07744693 & 0.013939336 & 4.151516 & 0.7472133 & 5.864157e-05 &  1.504641e-08 & 5.578266e-09 &  2.6973280\\\\\n",
       "\t30 & AdultOnsetAsthma\\_Ferreira2019.results & gene\\_list\\_2\\_region\\_hg19\\_ext100Kbp & 0.12488847 & 0.28505263 & 0.022966446 & 2.282458 & 0.1838957 & 7.237776e-09 &  5.960618e-09 & 1.904086e-09 &  3.1304360\\\\\n",
       "\t40 & AdultOnsetAsthma\\_Ferreira2019.results & gene\\_list\\_3\\_region\\_hg19\\_ext100Kbp & 0.11660132 & 0.26863073 & 0.024168749 & 2.303840 & 0.2072768 & 2.619225e-08 &  6.721713e-09 & 1.951732e-09 &  3.4439737\\\\\n",
       "\t50 & AdultOnsetAsthma\\_Ferreira2019.results & gene\\_list\\_4\\_region\\_hg19\\_ext100Kbp & 0.05005956 & 0.11226146 & 0.017839635 & 2.242558 & 0.3563682 & 6.444741e-04 &  4.554701e-09 & 2.838172e-09 &  1.6048011\\\\\n",
       "\t60 & AdultOnsetAsthma\\_Ferreira2019.results & gene\\_list\\_5\\_region\\_hg19\\_ext100Kbp & 0.01658235 & 0.02912273 & 0.008346898 & 1.756249 & 0.5033605 & 1.216766e-01 & -1.264422e-09 & 3.919399e-09 & -0.3226062\\\\\n",
       "\t70 & AdultOnsetAsthma\\_Ferreira2019.results & gene\\_list\\_6\\_region\\_hg19\\_ext100Kbp & 0.10836014 & 0.18622070 & 0.021707720 & 1.718535 & 0.2003294 & 2.902899e-04 &  5.939229e-10 & 1.666378e-09 &  0.3564155\\\\\n",
       "\t80 & AdultOnsetAsthma\\_Ferreira2019.results & gene\\_list\\_7\\_region\\_hg19\\_ext100Kbp & 0.12364542 & 0.20456274 & 0.022623208 & 1.654430 & 0.1829684 & 2.841450e-04 &  1.755896e-09 & 1.619401e-09 &  1.0842871\\\\\n",
       "\\end{tabular}\n"
      ],
      "text/markdown": [
       "\n",
       "A data.frame: 8 × 11\n",
       "\n",
       "| <!--/--> | sumstatsname &lt;chr&gt; | celltype &lt;chr&gt; | Prop._SNPs &lt;dbl&gt; | Prop._h2 &lt;dbl&gt; | Prop._h2_std_error &lt;dbl&gt; | Enrichment &lt;dbl&gt; | Enrichment_std_error &lt;dbl&gt; | Enrichment_p &lt;dbl&gt; | Coefficient &lt;dbl&gt; | Coefficient_std_error &lt;dbl&gt; | Coefficient_z.score &lt;dbl&gt; |\n",
       "|---|---|---|---|---|---|---|---|---|---|---|---|\n",
       "| 10 | AdultOnsetAsthma_Ferreira2019.results | gene_list_0_region_hg19_ext100Kbp | 0.09066626 | 0.14663092 | 0.021234729 | 1.617260 | 0.2342076 | 7.339886e-03 | -5.632206e-10 | 2.019633e-09 | -0.2788728 |\n",
       "| 20 | AdultOnsetAsthma_Ferreira2019.results | gene_list_1_region_hg19_ext100Kbp | 0.01865510 | 0.07744693 | 0.013939336 | 4.151516 | 0.7472133 | 5.864157e-05 |  1.504641e-08 | 5.578266e-09 |  2.6973280 |\n",
       "| 30 | AdultOnsetAsthma_Ferreira2019.results | gene_list_2_region_hg19_ext100Kbp | 0.12488847 | 0.28505263 | 0.022966446 | 2.282458 | 0.1838957 | 7.237776e-09 |  5.960618e-09 | 1.904086e-09 |  3.1304360 |\n",
       "| 40 | AdultOnsetAsthma_Ferreira2019.results | gene_list_3_region_hg19_ext100Kbp | 0.11660132 | 0.26863073 | 0.024168749 | 2.303840 | 0.2072768 | 2.619225e-08 |  6.721713e-09 | 1.951732e-09 |  3.4439737 |\n",
       "| 50 | AdultOnsetAsthma_Ferreira2019.results | gene_list_4_region_hg19_ext100Kbp | 0.05005956 | 0.11226146 | 0.017839635 | 2.242558 | 0.3563682 | 6.444741e-04 |  4.554701e-09 | 2.838172e-09 |  1.6048011 |\n",
       "| 60 | AdultOnsetAsthma_Ferreira2019.results | gene_list_5_region_hg19_ext100Kbp | 0.01658235 | 0.02912273 | 0.008346898 | 1.756249 | 0.5033605 | 1.216766e-01 | -1.264422e-09 | 3.919399e-09 | -0.3226062 |\n",
       "| 70 | AdultOnsetAsthma_Ferreira2019.results | gene_list_6_region_hg19_ext100Kbp | 0.10836014 | 0.18622070 | 0.021707720 | 1.718535 | 0.2003294 | 2.902899e-04 |  5.939229e-10 | 1.666378e-09 |  0.3564155 |\n",
       "| 80 | AdultOnsetAsthma_Ferreira2019.results | gene_list_7_region_hg19_ext100Kbp | 0.12364542 | 0.20456274 | 0.022623208 | 1.654430 | 0.1829684 | 2.841450e-04 |  1.755896e-09 | 1.619401e-09 |  1.0842871 |\n",
       "\n"
      ],
      "text/plain": [
       "   sumstatsname                          celltype                         \n",
       "10 AdultOnsetAsthma_Ferreira2019.results gene_list_0_region_hg19_ext100Kbp\n",
       "20 AdultOnsetAsthma_Ferreira2019.results gene_list_1_region_hg19_ext100Kbp\n",
       "30 AdultOnsetAsthma_Ferreira2019.results gene_list_2_region_hg19_ext100Kbp\n",
       "40 AdultOnsetAsthma_Ferreira2019.results gene_list_3_region_hg19_ext100Kbp\n",
       "50 AdultOnsetAsthma_Ferreira2019.results gene_list_4_region_hg19_ext100Kbp\n",
       "60 AdultOnsetAsthma_Ferreira2019.results gene_list_5_region_hg19_ext100Kbp\n",
       "70 AdultOnsetAsthma_Ferreira2019.results gene_list_6_region_hg19_ext100Kbp\n",
       "80 AdultOnsetAsthma_Ferreira2019.results gene_list_7_region_hg19_ext100Kbp\n",
       "   Prop._SNPs Prop._h2   Prop._h2_std_error Enrichment Enrichment_std_error\n",
       "10 0.09066626 0.14663092 0.021234729        1.617260   0.2342076           \n",
       "20 0.01865510 0.07744693 0.013939336        4.151516   0.7472133           \n",
       "30 0.12488847 0.28505263 0.022966446        2.282458   0.1838957           \n",
       "40 0.11660132 0.26863073 0.024168749        2.303840   0.2072768           \n",
       "50 0.05005956 0.11226146 0.017839635        2.242558   0.3563682           \n",
       "60 0.01658235 0.02912273 0.008346898        1.756249   0.5033605           \n",
       "70 0.10836014 0.18622070 0.021707720        1.718535   0.2003294           \n",
       "80 0.12364542 0.20456274 0.022623208        1.654430   0.1829684           \n",
       "   Enrichment_p Coefficient   Coefficient_std_error Coefficient_z.score\n",
       "10 7.339886e-03 -5.632206e-10 2.019633e-09          -0.2788728         \n",
       "20 5.864157e-05  1.504641e-08 5.578266e-09           2.6973280         \n",
       "30 7.237776e-09  5.960618e-09 1.904086e-09           3.1304360         \n",
       "40 2.619225e-08  6.721713e-09 1.951732e-09           3.4439737         \n",
       "50 6.444741e-04  4.554701e-09 2.838172e-09           1.6048011         \n",
       "60 1.216766e-01 -1.264422e-09 3.919399e-09          -0.3226062         \n",
       "70 2.902899e-04  5.939229e-10 1.666378e-09           0.3564155         \n",
       "80 2.841450e-04  1.755896e-09 1.619401e-09           1.0842871         "
      ]
     },
     "metadata": {},
     "output_type": "display_data"
    }
   ],
   "source": [
    "# 例: AdultOnsetAsthma_Ferreira2019.results の結果を表示\n",
    "subset(enrichment_allsumstats_df, sumstatsname == \"AdultOnsetAsthma_Ferreira2019.results\")"
   ]
  },
  {
   "cell_type": "code",
   "execution_count": 5,
   "id": "78f7b0f4-4339-4c23-a5aa-ac18d18e9011",
   "metadata": {},
   "outputs": [
    {
     "data": {
      "text/html": [
       "<table class=\"dataframe\">\n",
       "<caption>A data.frame: 10 × 11</caption>\n",
       "<thead>\n",
       "\t<tr><th></th><th scope=col>sumstatsname</th><th scope=col>celltype</th><th scope=col>Prop._SNPs</th><th scope=col>Prop._h2</th><th scope=col>Prop._h2_std_error</th><th scope=col>Enrichment</th><th scope=col>Enrichment_std_error</th><th scope=col>Enrichment_p</th><th scope=col>Coefficient</th><th scope=col>Coefficient_std_error</th><th scope=col>Coefficient_z.score</th></tr>\n",
       "\t<tr><th></th><th scope=col>&lt;chr&gt;</th><th scope=col>&lt;chr&gt;</th><th scope=col>&lt;dbl&gt;</th><th scope=col>&lt;dbl&gt;</th><th scope=col>&lt;dbl&gt;</th><th scope=col>&lt;dbl&gt;</th><th scope=col>&lt;dbl&gt;</th><th scope=col>&lt;dbl&gt;</th><th scope=col>&lt;dbl&gt;</th><th scope=col>&lt;dbl&gt;</th><th scope=col>&lt;dbl&gt;</th></tr>\n",
       "</thead>\n",
       "<tbody>\n",
       "\t<tr><th scope=row>1</th><td>Lupus_langefeld.results                </td><td>gene_list_0_region_hg19_ext100Kbp</td><td>0.09066626</td><td>0.24098542</td><td>0.054973621</td><td>2.657939</td><td>0.6063294</td><td>1.566057e-05</td><td> 5.150601e-08</td><td>3.128161e-08</td><td> 1.6465267</td></tr>\n",
       "\t<tr><th scope=row>2</th><td>Allergy_Eczema.results                 </td><td>gene_list_0_region_hg19_ext100Kbp</td><td>0.09066626</td><td>0.14679271</td><td>0.015512202</td><td>1.619044</td><td>0.1710912</td><td>2.103337e-04</td><td>-2.475659e-09</td><td>2.610798e-09</td><td>-0.9482383</td></tr>\n",
       "\t<tr><th scope=row>3</th><td>Asthma.results                         </td><td>gene_list_0_region_hg19_ext100Kbp</td><td>0.09066626</td><td>0.16862990</td><td>0.021413091</td><td>1.859897</td><td>0.2361749</td><td>3.292922e-04</td><td> 3.410474e-10</td><td>2.382935e-09</td><td> 0.1431207</td></tr>\n",
       "\t<tr><th scope=row>4</th><td>PASS_CD_deLange2017.results            </td><td>gene_list_0_region_hg19_ext100Kbp</td><td>0.09066626</td><td>0.19878953</td><td>0.023971810</td><td>2.192541</td><td>0.2643961</td><td>5.161888e-06</td><td> 8.531248e-09</td><td>2.168468e-08</td><td> 0.3934228</td></tr>\n",
       "\t<tr><th scope=row>5</th><td>PASS_Schizophrenia_Pardinas2018.results</td><td>gene_list_0_region_hg19_ext100Kbp</td><td>0.09066626</td><td>0.12192919</td><td>0.009928893</td><td>1.344813</td><td>0.1095103</td><td>1.724125e-03</td><td> 1.037457e-08</td><td>8.669417e-09</td><td> 1.1966863</td></tr>\n",
       "\t<tr><th scope=row>6</th><td>PASS_BMI1.results                      </td><td>gene_list_0_region_hg19_ext100Kbp</td><td>0.09066626</td><td>0.09398509</td><td>0.011514714</td><td>1.036605</td><td>0.1270011</td><td>7.730427e-01</td><td>-4.229178e-09</td><td>3.134673e-09</td><td>-1.3491608</td></tr>\n",
       "\t<tr><th scope=row>7</th><td>RA_ishigaki.results                    </td><td>gene_list_0_region_hg19_ext100Kbp</td><td>0.09066626</td><td>0.20080870</td><td>0.020393463</td><td>2.214812</td><td>0.2249289</td><td>2.909332e-07</td><td> 1.152923e-08</td><td>8.109863e-09</td><td> 1.4216312</td></tr>\n",
       "\t<tr><th scope=row>8</th><td>PASS_SleepDuration_Dashti2019.results  </td><td>gene_list_0_region_hg19_ext100Kbp</td><td>0.09066626</td><td>0.10005114</td><td>0.009479216</td><td>1.103510</td><td>0.1045506</td><td>3.207941e-01</td><td>-2.421091e-10</td><td>1.241703e-09</td><td>-0.1949816</td></tr>\n",
       "\t<tr><th scope=row>9</th><td>PASS_Type_2_Diabetes.results           </td><td>gene_list_0_region_hg19_ext100Kbp</td><td>0.09066626</td><td>0.15189878</td><td>0.028307215</td><td>1.675362</td><td>0.3122133</td><td>2.737603e-02</td><td> 2.358215e-09</td><td>5.714604e-09</td><td> 0.4126647</td></tr>\n",
       "\t<tr><th scope=row>10</th><td>AdultOnsetAsthma_Ferreira2019.results  </td><td>gene_list_0_region_hg19_ext100Kbp</td><td>0.09066626</td><td>0.14663092</td><td>0.021234729</td><td>1.617260</td><td>0.2342076</td><td>7.339886e-03</td><td>-5.632206e-10</td><td>2.019633e-09</td><td>-0.2788728</td></tr>\n",
       "</tbody>\n",
       "</table>\n"
      ],
      "text/latex": [
       "A data.frame: 10 × 11\n",
       "\\begin{tabular}{r|lllllllllll}\n",
       "  & sumstatsname & celltype & Prop.\\_SNPs & Prop.\\_h2 & Prop.\\_h2\\_std\\_error & Enrichment & Enrichment\\_std\\_error & Enrichment\\_p & Coefficient & Coefficient\\_std\\_error & Coefficient\\_z.score\\\\\n",
       "  & <chr> & <chr> & <dbl> & <dbl> & <dbl> & <dbl> & <dbl> & <dbl> & <dbl> & <dbl> & <dbl>\\\\\n",
       "\\hline\n",
       "\t1 & Lupus\\_langefeld.results                 & gene\\_list\\_0\\_region\\_hg19\\_ext100Kbp & 0.09066626 & 0.24098542 & 0.054973621 & 2.657939 & 0.6063294 & 1.566057e-05 &  5.150601e-08 & 3.128161e-08 &  1.6465267\\\\\n",
       "\t2 & Allergy\\_Eczema.results                  & gene\\_list\\_0\\_region\\_hg19\\_ext100Kbp & 0.09066626 & 0.14679271 & 0.015512202 & 1.619044 & 0.1710912 & 2.103337e-04 & -2.475659e-09 & 2.610798e-09 & -0.9482383\\\\\n",
       "\t3 & Asthma.results                          & gene\\_list\\_0\\_region\\_hg19\\_ext100Kbp & 0.09066626 & 0.16862990 & 0.021413091 & 1.859897 & 0.2361749 & 3.292922e-04 &  3.410474e-10 & 2.382935e-09 &  0.1431207\\\\\n",
       "\t4 & PASS\\_CD\\_deLange2017.results             & gene\\_list\\_0\\_region\\_hg19\\_ext100Kbp & 0.09066626 & 0.19878953 & 0.023971810 & 2.192541 & 0.2643961 & 5.161888e-06 &  8.531248e-09 & 2.168468e-08 &  0.3934228\\\\\n",
       "\t5 & PASS\\_Schizophrenia\\_Pardinas2018.results & gene\\_list\\_0\\_region\\_hg19\\_ext100Kbp & 0.09066626 & 0.12192919 & 0.009928893 & 1.344813 & 0.1095103 & 1.724125e-03 &  1.037457e-08 & 8.669417e-09 &  1.1966863\\\\\n",
       "\t6 & PASS\\_BMI1.results                       & gene\\_list\\_0\\_region\\_hg19\\_ext100Kbp & 0.09066626 & 0.09398509 & 0.011514714 & 1.036605 & 0.1270011 & 7.730427e-01 & -4.229178e-09 & 3.134673e-09 & -1.3491608\\\\\n",
       "\t7 & RA\\_ishigaki.results                     & gene\\_list\\_0\\_region\\_hg19\\_ext100Kbp & 0.09066626 & 0.20080870 & 0.020393463 & 2.214812 & 0.2249289 & 2.909332e-07 &  1.152923e-08 & 8.109863e-09 &  1.4216312\\\\\n",
       "\t8 & PASS\\_SleepDuration\\_Dashti2019.results   & gene\\_list\\_0\\_region\\_hg19\\_ext100Kbp & 0.09066626 & 0.10005114 & 0.009479216 & 1.103510 & 0.1045506 & 3.207941e-01 & -2.421091e-10 & 1.241703e-09 & -0.1949816\\\\\n",
       "\t9 & PASS\\_Type\\_2\\_Diabetes.results            & gene\\_list\\_0\\_region\\_hg19\\_ext100Kbp & 0.09066626 & 0.15189878 & 0.028307215 & 1.675362 & 0.3122133 & 2.737603e-02 &  2.358215e-09 & 5.714604e-09 &  0.4126647\\\\\n",
       "\t10 & AdultOnsetAsthma\\_Ferreira2019.results   & gene\\_list\\_0\\_region\\_hg19\\_ext100Kbp & 0.09066626 & 0.14663092 & 0.021234729 & 1.617260 & 0.2342076 & 7.339886e-03 & -5.632206e-10 & 2.019633e-09 & -0.2788728\\\\\n",
       "\\end{tabular}\n"
      ],
      "text/markdown": [
       "\n",
       "A data.frame: 10 × 11\n",
       "\n",
       "| <!--/--> | sumstatsname &lt;chr&gt; | celltype &lt;chr&gt; | Prop._SNPs &lt;dbl&gt; | Prop._h2 &lt;dbl&gt; | Prop._h2_std_error &lt;dbl&gt; | Enrichment &lt;dbl&gt; | Enrichment_std_error &lt;dbl&gt; | Enrichment_p &lt;dbl&gt; | Coefficient &lt;dbl&gt; | Coefficient_std_error &lt;dbl&gt; | Coefficient_z.score &lt;dbl&gt; |\n",
       "|---|---|---|---|---|---|---|---|---|---|---|---|\n",
       "| 1 | Lupus_langefeld.results                 | gene_list_0_region_hg19_ext100Kbp | 0.09066626 | 0.24098542 | 0.054973621 | 2.657939 | 0.6063294 | 1.566057e-05 |  5.150601e-08 | 3.128161e-08 |  1.6465267 |\n",
       "| 2 | Allergy_Eczema.results                  | gene_list_0_region_hg19_ext100Kbp | 0.09066626 | 0.14679271 | 0.015512202 | 1.619044 | 0.1710912 | 2.103337e-04 | -2.475659e-09 | 2.610798e-09 | -0.9482383 |\n",
       "| 3 | Asthma.results                          | gene_list_0_region_hg19_ext100Kbp | 0.09066626 | 0.16862990 | 0.021413091 | 1.859897 | 0.2361749 | 3.292922e-04 |  3.410474e-10 | 2.382935e-09 |  0.1431207 |\n",
       "| 4 | PASS_CD_deLange2017.results             | gene_list_0_region_hg19_ext100Kbp | 0.09066626 | 0.19878953 | 0.023971810 | 2.192541 | 0.2643961 | 5.161888e-06 |  8.531248e-09 | 2.168468e-08 |  0.3934228 |\n",
       "| 5 | PASS_Schizophrenia_Pardinas2018.results | gene_list_0_region_hg19_ext100Kbp | 0.09066626 | 0.12192919 | 0.009928893 | 1.344813 | 0.1095103 | 1.724125e-03 |  1.037457e-08 | 8.669417e-09 |  1.1966863 |\n",
       "| 6 | PASS_BMI1.results                       | gene_list_0_region_hg19_ext100Kbp | 0.09066626 | 0.09398509 | 0.011514714 | 1.036605 | 0.1270011 | 7.730427e-01 | -4.229178e-09 | 3.134673e-09 | -1.3491608 |\n",
       "| 7 | RA_ishigaki.results                     | gene_list_0_region_hg19_ext100Kbp | 0.09066626 | 0.20080870 | 0.020393463 | 2.214812 | 0.2249289 | 2.909332e-07 |  1.152923e-08 | 8.109863e-09 |  1.4216312 |\n",
       "| 8 | PASS_SleepDuration_Dashti2019.results   | gene_list_0_region_hg19_ext100Kbp | 0.09066626 | 0.10005114 | 0.009479216 | 1.103510 | 0.1045506 | 3.207941e-01 | -2.421091e-10 | 1.241703e-09 | -0.1949816 |\n",
       "| 9 | PASS_Type_2_Diabetes.results            | gene_list_0_region_hg19_ext100Kbp | 0.09066626 | 0.15189878 | 0.028307215 | 1.675362 | 0.3122133 | 2.737603e-02 |  2.358215e-09 | 5.714604e-09 |  0.4126647 |\n",
       "| 10 | AdultOnsetAsthma_Ferreira2019.results   | gene_list_0_region_hg19_ext100Kbp | 0.09066626 | 0.14663092 | 0.021234729 | 1.617260 | 0.2342076 | 7.339886e-03 | -5.632206e-10 | 2.019633e-09 | -0.2788728 |\n",
       "\n"
      ],
      "text/plain": [
       "   sumstatsname                            celltype                         \n",
       "1  Lupus_langefeld.results                 gene_list_0_region_hg19_ext100Kbp\n",
       "2  Allergy_Eczema.results                  gene_list_0_region_hg19_ext100Kbp\n",
       "3  Asthma.results                          gene_list_0_region_hg19_ext100Kbp\n",
       "4  PASS_CD_deLange2017.results             gene_list_0_region_hg19_ext100Kbp\n",
       "5  PASS_Schizophrenia_Pardinas2018.results gene_list_0_region_hg19_ext100Kbp\n",
       "6  PASS_BMI1.results                       gene_list_0_region_hg19_ext100Kbp\n",
       "7  RA_ishigaki.results                     gene_list_0_region_hg19_ext100Kbp\n",
       "8  PASS_SleepDuration_Dashti2019.results   gene_list_0_region_hg19_ext100Kbp\n",
       "9  PASS_Type_2_Diabetes.results            gene_list_0_region_hg19_ext100Kbp\n",
       "10 AdultOnsetAsthma_Ferreira2019.results   gene_list_0_region_hg19_ext100Kbp\n",
       "   Prop._SNPs Prop._h2   Prop._h2_std_error Enrichment Enrichment_std_error\n",
       "1  0.09066626 0.24098542 0.054973621        2.657939   0.6063294           \n",
       "2  0.09066626 0.14679271 0.015512202        1.619044   0.1710912           \n",
       "3  0.09066626 0.16862990 0.021413091        1.859897   0.2361749           \n",
       "4  0.09066626 0.19878953 0.023971810        2.192541   0.2643961           \n",
       "5  0.09066626 0.12192919 0.009928893        1.344813   0.1095103           \n",
       "6  0.09066626 0.09398509 0.011514714        1.036605   0.1270011           \n",
       "7  0.09066626 0.20080870 0.020393463        2.214812   0.2249289           \n",
       "8  0.09066626 0.10005114 0.009479216        1.103510   0.1045506           \n",
       "9  0.09066626 0.15189878 0.028307215        1.675362   0.3122133           \n",
       "10 0.09066626 0.14663092 0.021234729        1.617260   0.2342076           \n",
       "   Enrichment_p Coefficient   Coefficient_std_error Coefficient_z.score\n",
       "1  1.566057e-05  5.150601e-08 3.128161e-08           1.6465267         \n",
       "2  2.103337e-04 -2.475659e-09 2.610798e-09          -0.9482383         \n",
       "3  3.292922e-04  3.410474e-10 2.382935e-09           0.1431207         \n",
       "4  5.161888e-06  8.531248e-09 2.168468e-08           0.3934228         \n",
       "5  1.724125e-03  1.037457e-08 8.669417e-09           1.1966863         \n",
       "6  7.730427e-01 -4.229178e-09 3.134673e-09          -1.3491608         \n",
       "7  2.909332e-07  1.152923e-08 8.109863e-09           1.4216312         \n",
       "8  3.207941e-01 -2.421091e-10 1.241703e-09          -0.1949816         \n",
       "9  2.737603e-02  2.358215e-09 5.714604e-09           0.4126647         \n",
       "10 7.339886e-03 -5.632206e-10 2.019633e-09          -0.2788728         "
      ]
     },
     "metadata": {},
     "output_type": "display_data"
    }
   ],
   "source": [
    "# 例: gene_list_0_region_hg19_ext100Kbp の結果を表示\n",
    "subset(enrichment_allsumstats_df, celltype == \"gene_list_0_region_hg19_ext100Kbp\")"
   ]
  },
  {
   "cell_type": "code",
   "execution_count": 6,
   "id": "e8e68fbf",
   "metadata": {},
   "outputs": [],
   "source": [
    "enrichment_allsumstats_df$minuslog10p=-log10(pnorm(-enrichment_allsumstats_df$Coefficient_z.score,0,1))"
   ]
  },
  {
   "cell_type": "code",
   "execution_count": 7,
   "id": "298a6fb3",
   "metadata": {},
   "outputs": [
    {
     "name": "stderr",
     "output_type": "stream",
     "text": [
      "Warning message in dir.create(out_f, recursive = TRUE):\n",
      "“ '/home/harita/LDSC/S_LDSC_tutorial5/20241023_tutorial/plot2' はすでに存在します ”\n"
     ]
    }
   ],
   "source": [
    "out_f <- \"~/LDSC/S_LDSC_tutorial5/20241023_tutorial/plot2\"\n",
    "dir.create(out_f, recursive = TRUE)"
   ]
  },
  {
   "cell_type": "code",
   "execution_count": 8,
   "id": "7bf5e298",
   "metadata": {},
   "outputs": [
    {
     "name": "stdout",
     "output_type": "stream",
     "text": [
      "  file_num                         cell_type\n",
      "1        1 gene_list_0_region_hg19_ext100Kbp\n",
      "2        2 gene_list_1_region_hg19_ext100Kbp\n",
      "3        3 gene_list_2_region_hg19_ext100Kbp\n",
      "4        4 gene_list_3_region_hg19_ext100Kbp\n",
      "5        5 gene_list_4_region_hg19_ext100Kbp\n",
      "6        6 gene_list_5_region_hg19_ext100Kbp\n",
      "7        7 gene_list_6_region_hg19_ext100Kbp\n",
      "8        8 gene_list_7_region_hg19_ext100Kbp\n"
     ]
    }
   ],
   "source": [
    "# metadataの作成 (data_listに基づく)\n",
    "metadata <- data.frame(\n",
    "  file_num = 1:8,\n",
    "  cell_type = paste0(\"gene_list_\", 0:7, \"_region_hg19_ext100Kbp\")\n",
    ")\n",
    "\n",
    "# metadataを確認\n",
    "print(metadata)"
   ]
  },
  {
   "cell_type": "code",
   "execution_count": 9,
   "id": "d8b68329",
   "metadata": {},
   "outputs": [
    {
     "data": {
      "text/html": [
       "<table class=\"dataframe\">\n",
       "<caption>A data.frame: 6 × 2</caption>\n",
       "<thead>\n",
       "\t<tr><th></th><th scope=col>file_num</th><th scope=col>cell_type</th></tr>\n",
       "\t<tr><th></th><th scope=col>&lt;int&gt;</th><th scope=col>&lt;chr&gt;</th></tr>\n",
       "</thead>\n",
       "<tbody>\n",
       "\t<tr><th scope=row>1</th><td>1</td><td>gene_list_0_region_hg19_ext100Kbp</td></tr>\n",
       "\t<tr><th scope=row>2</th><td>2</td><td>gene_list_1_region_hg19_ext100Kbp</td></tr>\n",
       "\t<tr><th scope=row>3</th><td>3</td><td>gene_list_2_region_hg19_ext100Kbp</td></tr>\n",
       "\t<tr><th scope=row>4</th><td>4</td><td>gene_list_3_region_hg19_ext100Kbp</td></tr>\n",
       "\t<tr><th scope=row>5</th><td>5</td><td>gene_list_4_region_hg19_ext100Kbp</td></tr>\n",
       "\t<tr><th scope=row>6</th><td>6</td><td>gene_list_5_region_hg19_ext100Kbp</td></tr>\n",
       "</tbody>\n",
       "</table>\n"
      ],
      "text/latex": [
       "A data.frame: 6 × 2\n",
       "\\begin{tabular}{r|ll}\n",
       "  & file\\_num & cell\\_type\\\\\n",
       "  & <int> & <chr>\\\\\n",
       "\\hline\n",
       "\t1 & 1 & gene\\_list\\_0\\_region\\_hg19\\_ext100Kbp\\\\\n",
       "\t2 & 2 & gene\\_list\\_1\\_region\\_hg19\\_ext100Kbp\\\\\n",
       "\t3 & 3 & gene\\_list\\_2\\_region\\_hg19\\_ext100Kbp\\\\\n",
       "\t4 & 4 & gene\\_list\\_3\\_region\\_hg19\\_ext100Kbp\\\\\n",
       "\t5 & 5 & gene\\_list\\_4\\_region\\_hg19\\_ext100Kbp\\\\\n",
       "\t6 & 6 & gene\\_list\\_5\\_region\\_hg19\\_ext100Kbp\\\\\n",
       "\\end{tabular}\n"
      ],
      "text/markdown": [
       "\n",
       "A data.frame: 6 × 2\n",
       "\n",
       "| <!--/--> | file_num &lt;int&gt; | cell_type &lt;chr&gt; |\n",
       "|---|---|---|\n",
       "| 1 | 1 | gene_list_0_region_hg19_ext100Kbp |\n",
       "| 2 | 2 | gene_list_1_region_hg19_ext100Kbp |\n",
       "| 3 | 3 | gene_list_2_region_hg19_ext100Kbp |\n",
       "| 4 | 4 | gene_list_3_region_hg19_ext100Kbp |\n",
       "| 5 | 5 | gene_list_4_region_hg19_ext100Kbp |\n",
       "| 6 | 6 | gene_list_5_region_hg19_ext100Kbp |\n",
       "\n"
      ],
      "text/plain": [
       "  file_num cell_type                        \n",
       "1 1        gene_list_0_region_hg19_ext100Kbp\n",
       "2 2        gene_list_1_region_hg19_ext100Kbp\n",
       "3 3        gene_list_2_region_hg19_ext100Kbp\n",
       "4 4        gene_list_3_region_hg19_ext100Kbp\n",
       "5 5        gene_list_4_region_hg19_ext100Kbp\n",
       "6 6        gene_list_5_region_hg19_ext100Kbp"
      ]
     },
     "metadata": {},
     "output_type": "display_data"
    }
   ],
   "source": [
    "head(metadata)"
   ]
  },
  {
   "cell_type": "code",
   "execution_count": 10,
   "id": "03ef4b11",
   "metadata": {},
   "outputs": [],
   "source": [
    "colnames(metadata) <- c(\"file_num\", \"cell_type\")"
   ]
  },
  {
   "cell_type": "code",
   "execution_count": 11,
   "id": "c1716308",
   "metadata": {},
   "outputs": [],
   "source": [
    "metadata$file_num <- as.character(metadata$file_num)"
   ]
  },
  {
   "cell_type": "code",
   "execution_count": 12,
   "id": "22cded8c-7a97-4aee-a00e-a18b76480e86",
   "metadata": {},
   "outputs": [
    {
     "name": "stdout",
     "output_type": "stream",
     "text": [
      "  file_num                         cell_type\n",
      "1        1 gene_list_0_region_hg19_ext100Kbp\n",
      "2        2 gene_list_1_region_hg19_ext100Kbp\n",
      "3        3 gene_list_2_region_hg19_ext100Kbp\n",
      "4        4 gene_list_3_region_hg19_ext100Kbp\n",
      "5        5 gene_list_4_region_hg19_ext100Kbp\n",
      "6        6 gene_list_5_region_hg19_ext100Kbp\n",
      "7        7 gene_list_6_region_hg19_ext100Kbp\n",
      "8        8 gene_list_7_region_hg19_ext100Kbp\n"
     ]
    }
   ],
   "source": [
    "# 列名を設定\n",
    "colnames(metadata) <- c(\"file_num\", \"cell_type\")\n",
    "\n",
    "# file_numをcharacter型に変換\n",
    "metadata$file_num <- as.character(metadata$file_num)\n",
    "\n",
    "# 結果を確認\n",
    "print(metadata)"
   ]
  },
  {
   "cell_type": "code",
   "execution_count": 13,
   "id": "23c5878d",
   "metadata": {},
   "outputs": [
    {
     "data": {
      "text/html": [
       "<table class=\"dataframe\">\n",
       "<caption>A data.frame: 8 × 2</caption>\n",
       "<thead>\n",
       "\t<tr><th scope=col>file_num</th><th scope=col>cell_type</th></tr>\n",
       "\t<tr><th scope=col>&lt;chr&gt;</th><th scope=col>&lt;chr&gt;</th></tr>\n",
       "</thead>\n",
       "<tbody>\n",
       "\t<tr><td>1</td><td>gene_list_0_region_hg19_ext100Kbp</td></tr>\n",
       "\t<tr><td>2</td><td>gene_list_1_region_hg19_ext100Kbp</td></tr>\n",
       "\t<tr><td>3</td><td>gene_list_2_region_hg19_ext100Kbp</td></tr>\n",
       "\t<tr><td>4</td><td>gene_list_3_region_hg19_ext100Kbp</td></tr>\n",
       "\t<tr><td>5</td><td>gene_list_4_region_hg19_ext100Kbp</td></tr>\n",
       "\t<tr><td>6</td><td>gene_list_5_region_hg19_ext100Kbp</td></tr>\n",
       "\t<tr><td>7</td><td>gene_list_6_region_hg19_ext100Kbp</td></tr>\n",
       "\t<tr><td>8</td><td>gene_list_7_region_hg19_ext100Kbp</td></tr>\n",
       "</tbody>\n",
       "</table>\n"
      ],
      "text/latex": [
       "A data.frame: 8 × 2\n",
       "\\begin{tabular}{ll}\n",
       " file\\_num & cell\\_type\\\\\n",
       " <chr> & <chr>\\\\\n",
       "\\hline\n",
       "\t 1 & gene\\_list\\_0\\_region\\_hg19\\_ext100Kbp\\\\\n",
       "\t 2 & gene\\_list\\_1\\_region\\_hg19\\_ext100Kbp\\\\\n",
       "\t 3 & gene\\_list\\_2\\_region\\_hg19\\_ext100Kbp\\\\\n",
       "\t 4 & gene\\_list\\_3\\_region\\_hg19\\_ext100Kbp\\\\\n",
       "\t 5 & gene\\_list\\_4\\_region\\_hg19\\_ext100Kbp\\\\\n",
       "\t 6 & gene\\_list\\_5\\_region\\_hg19\\_ext100Kbp\\\\\n",
       "\t 7 & gene\\_list\\_6\\_region\\_hg19\\_ext100Kbp\\\\\n",
       "\t 8 & gene\\_list\\_7\\_region\\_hg19\\_ext100Kbp\\\\\n",
       "\\end{tabular}\n"
      ],
      "text/markdown": [
       "\n",
       "A data.frame: 8 × 2\n",
       "\n",
       "| file_num &lt;chr&gt; | cell_type &lt;chr&gt; |\n",
       "|---|---|\n",
       "| 1 | gene_list_0_region_hg19_ext100Kbp |\n",
       "| 2 | gene_list_1_region_hg19_ext100Kbp |\n",
       "| 3 | gene_list_2_region_hg19_ext100Kbp |\n",
       "| 4 | gene_list_3_region_hg19_ext100Kbp |\n",
       "| 5 | gene_list_4_region_hg19_ext100Kbp |\n",
       "| 6 | gene_list_5_region_hg19_ext100Kbp |\n",
       "| 7 | gene_list_6_region_hg19_ext100Kbp |\n",
       "| 8 | gene_list_7_region_hg19_ext100Kbp |\n",
       "\n"
      ],
      "text/plain": [
       "  file_num cell_type                        \n",
       "1 1        gene_list_0_region_hg19_ext100Kbp\n",
       "2 2        gene_list_1_region_hg19_ext100Kbp\n",
       "3 3        gene_list_2_region_hg19_ext100Kbp\n",
       "4 4        gene_list_3_region_hg19_ext100Kbp\n",
       "5 5        gene_list_4_region_hg19_ext100Kbp\n",
       "6 6        gene_list_5_region_hg19_ext100Kbp\n",
       "7 7        gene_list_6_region_hg19_ext100Kbp\n",
       "8 8        gene_list_7_region_hg19_ext100Kbp"
      ]
     },
     "metadata": {},
     "output_type": "display_data"
    }
   ],
   "source": [
    "metadata"
   ]
  },
  {
   "cell_type": "code",
   "execution_count": 14,
   "id": "b60c74f4",
   "metadata": {},
   "outputs": [],
   "source": [
    "# cell_type列がcharacter型に変換されていることを確認\n",
    "metadata$file_num <- as.character(metadata$file_num)\n",
    "\n",
    "# enrichment_allsumstats_dfとmetadataをcell_type列で結合\n",
    "merge_df <- left_join(enrichment_allsumstats_df, metadata, by=c(\"celltype\" = \"cell_type\"))\n"
   ]
  },
  {
   "cell_type": "code",
   "execution_count": 15,
   "id": "6c06450d-feb6-46a3-88b5-3dc998390536",
   "metadata": {},
   "outputs": [],
   "source": [
    "# dplyrパッケージの読み込み\n",
    "library(dplyr)\n",
    "\n",
    "# cell_type列がcharacter型に変換されていることを確認\n",
    "metadata$file_num <- as.character(metadata$file_num)\n",
    "\n",
    "# enrichment_allsumstats_dfとmetadataをcell_type列で結合\n",
    "merge_df <- left_join(enrichment_allsumstats_df, metadata, by=c(\"celltype\" = \"cell_type\"))"
   ]
  },
  {
   "cell_type": "code",
   "execution_count": 16,
   "id": "18e35c4b",
   "metadata": {},
   "outputs": [
    {
     "data": {
      "text/html": [
       "<table class=\"dataframe\">\n",
       "<caption>A data.frame: 6 × 13</caption>\n",
       "<thead>\n",
       "\t<tr><th></th><th scope=col>sumstatsname</th><th scope=col>celltype</th><th scope=col>Prop._SNPs</th><th scope=col>Prop._h2</th><th scope=col>Prop._h2_std_error</th><th scope=col>Enrichment</th><th scope=col>Enrichment_std_error</th><th scope=col>Enrichment_p</th><th scope=col>Coefficient</th><th scope=col>Coefficient_std_error</th><th scope=col>Coefficient_z.score</th><th scope=col>minuslog10p</th><th scope=col>file_num</th></tr>\n",
       "\t<tr><th></th><th scope=col>&lt;chr&gt;</th><th scope=col>&lt;chr&gt;</th><th scope=col>&lt;dbl&gt;</th><th scope=col>&lt;dbl&gt;</th><th scope=col>&lt;dbl&gt;</th><th scope=col>&lt;dbl&gt;</th><th scope=col>&lt;dbl&gt;</th><th scope=col>&lt;dbl&gt;</th><th scope=col>&lt;dbl&gt;</th><th scope=col>&lt;dbl&gt;</th><th scope=col>&lt;dbl&gt;</th><th scope=col>&lt;dbl&gt;</th><th scope=col>&lt;chr&gt;</th></tr>\n",
       "</thead>\n",
       "<tbody>\n",
       "\t<tr><th scope=row>1</th><td>Lupus_langefeld.results                </td><td>gene_list_0_region_hg19_ext100Kbp</td><td>0.09066626</td><td>0.24098542</td><td>0.054973621</td><td>2.657939</td><td>0.6063294</td><td>1.566057e-05</td><td> 5.150601e-08</td><td>3.128161e-08</td><td> 1.6465267</td><td>1.30252930</td><td>1</td></tr>\n",
       "\t<tr><th scope=row>2</th><td>Allergy_Eczema.results                 </td><td>gene_list_0_region_hg19_ext100Kbp</td><td>0.09066626</td><td>0.14679271</td><td>0.015512202</td><td>1.619044</td><td>0.1710912</td><td>2.103337e-04</td><td>-2.475659e-09</td><td>2.610798e-09</td><td>-0.9482383</td><td>0.08170963</td><td>1</td></tr>\n",
       "\t<tr><th scope=row>3</th><td>Asthma.results                         </td><td>gene_list_0_region_hg19_ext100Kbp</td><td>0.09066626</td><td>0.16862990</td><td>0.021413091</td><td>1.859897</td><td>0.2361749</td><td>3.292922e-04</td><td> 3.410474e-10</td><td>2.382935e-09</td><td> 0.1431207</td><td>0.35350077</td><td>1</td></tr>\n",
       "\t<tr><th scope=row>4</th><td>PASS_CD_deLange2017.results            </td><td>gene_list_0_region_hg19_ext100Kbp</td><td>0.09066626</td><td>0.19878953</td><td>0.023971810</td><td>2.192541</td><td>0.2643961</td><td>5.161888e-06</td><td> 8.531248e-09</td><td>2.168468e-08</td><td> 0.3934228</td><td>0.45966602</td><td>1</td></tr>\n",
       "\t<tr><th scope=row>5</th><td>PASS_Schizophrenia_Pardinas2018.results</td><td>gene_list_0_region_hg19_ext100Kbp</td><td>0.09066626</td><td>0.12192919</td><td>0.009928893</td><td>1.344813</td><td>0.1095103</td><td>1.724125e-03</td><td> 1.037457e-08</td><td>8.669417e-09</td><td> 1.1966863</td><td>0.93661251</td><td>1</td></tr>\n",
       "\t<tr><th scope=row>6</th><td>PASS_BMI1.results                      </td><td>gene_list_0_region_hg19_ext100Kbp</td><td>0.09066626</td><td>0.09398509</td><td>0.011514714</td><td>1.036605</td><td>0.1270011</td><td>7.730427e-01</td><td>-4.229178e-09</td><td>3.134673e-09</td><td>-1.3491608</td><td>0.04031131</td><td>1</td></tr>\n",
       "</tbody>\n",
       "</table>\n"
      ],
      "text/latex": [
       "A data.frame: 6 × 13\n",
       "\\begin{tabular}{r|lllllllllllll}\n",
       "  & sumstatsname & celltype & Prop.\\_SNPs & Prop.\\_h2 & Prop.\\_h2\\_std\\_error & Enrichment & Enrichment\\_std\\_error & Enrichment\\_p & Coefficient & Coefficient\\_std\\_error & Coefficient\\_z.score & minuslog10p & file\\_num\\\\\n",
       "  & <chr> & <chr> & <dbl> & <dbl> & <dbl> & <dbl> & <dbl> & <dbl> & <dbl> & <dbl> & <dbl> & <dbl> & <chr>\\\\\n",
       "\\hline\n",
       "\t1 & Lupus\\_langefeld.results                 & gene\\_list\\_0\\_region\\_hg19\\_ext100Kbp & 0.09066626 & 0.24098542 & 0.054973621 & 2.657939 & 0.6063294 & 1.566057e-05 &  5.150601e-08 & 3.128161e-08 &  1.6465267 & 1.30252930 & 1\\\\\n",
       "\t2 & Allergy\\_Eczema.results                  & gene\\_list\\_0\\_region\\_hg19\\_ext100Kbp & 0.09066626 & 0.14679271 & 0.015512202 & 1.619044 & 0.1710912 & 2.103337e-04 & -2.475659e-09 & 2.610798e-09 & -0.9482383 & 0.08170963 & 1\\\\\n",
       "\t3 & Asthma.results                          & gene\\_list\\_0\\_region\\_hg19\\_ext100Kbp & 0.09066626 & 0.16862990 & 0.021413091 & 1.859897 & 0.2361749 & 3.292922e-04 &  3.410474e-10 & 2.382935e-09 &  0.1431207 & 0.35350077 & 1\\\\\n",
       "\t4 & PASS\\_CD\\_deLange2017.results             & gene\\_list\\_0\\_region\\_hg19\\_ext100Kbp & 0.09066626 & 0.19878953 & 0.023971810 & 2.192541 & 0.2643961 & 5.161888e-06 &  8.531248e-09 & 2.168468e-08 &  0.3934228 & 0.45966602 & 1\\\\\n",
       "\t5 & PASS\\_Schizophrenia\\_Pardinas2018.results & gene\\_list\\_0\\_region\\_hg19\\_ext100Kbp & 0.09066626 & 0.12192919 & 0.009928893 & 1.344813 & 0.1095103 & 1.724125e-03 &  1.037457e-08 & 8.669417e-09 &  1.1966863 & 0.93661251 & 1\\\\\n",
       "\t6 & PASS\\_BMI1.results                       & gene\\_list\\_0\\_region\\_hg19\\_ext100Kbp & 0.09066626 & 0.09398509 & 0.011514714 & 1.036605 & 0.1270011 & 7.730427e-01 & -4.229178e-09 & 3.134673e-09 & -1.3491608 & 0.04031131 & 1\\\\\n",
       "\\end{tabular}\n"
      ],
      "text/markdown": [
       "\n",
       "A data.frame: 6 × 13\n",
       "\n",
       "| <!--/--> | sumstatsname &lt;chr&gt; | celltype &lt;chr&gt; | Prop._SNPs &lt;dbl&gt; | Prop._h2 &lt;dbl&gt; | Prop._h2_std_error &lt;dbl&gt; | Enrichment &lt;dbl&gt; | Enrichment_std_error &lt;dbl&gt; | Enrichment_p &lt;dbl&gt; | Coefficient &lt;dbl&gt; | Coefficient_std_error &lt;dbl&gt; | Coefficient_z.score &lt;dbl&gt; | minuslog10p &lt;dbl&gt; | file_num &lt;chr&gt; |\n",
       "|---|---|---|---|---|---|---|---|---|---|---|---|---|---|\n",
       "| 1 | Lupus_langefeld.results                 | gene_list_0_region_hg19_ext100Kbp | 0.09066626 | 0.24098542 | 0.054973621 | 2.657939 | 0.6063294 | 1.566057e-05 |  5.150601e-08 | 3.128161e-08 |  1.6465267 | 1.30252930 | 1 |\n",
       "| 2 | Allergy_Eczema.results                  | gene_list_0_region_hg19_ext100Kbp | 0.09066626 | 0.14679271 | 0.015512202 | 1.619044 | 0.1710912 | 2.103337e-04 | -2.475659e-09 | 2.610798e-09 | -0.9482383 | 0.08170963 | 1 |\n",
       "| 3 | Asthma.results                          | gene_list_0_region_hg19_ext100Kbp | 0.09066626 | 0.16862990 | 0.021413091 | 1.859897 | 0.2361749 | 3.292922e-04 |  3.410474e-10 | 2.382935e-09 |  0.1431207 | 0.35350077 | 1 |\n",
       "| 4 | PASS_CD_deLange2017.results             | gene_list_0_region_hg19_ext100Kbp | 0.09066626 | 0.19878953 | 0.023971810 | 2.192541 | 0.2643961 | 5.161888e-06 |  8.531248e-09 | 2.168468e-08 |  0.3934228 | 0.45966602 | 1 |\n",
       "| 5 | PASS_Schizophrenia_Pardinas2018.results | gene_list_0_region_hg19_ext100Kbp | 0.09066626 | 0.12192919 | 0.009928893 | 1.344813 | 0.1095103 | 1.724125e-03 |  1.037457e-08 | 8.669417e-09 |  1.1966863 | 0.93661251 | 1 |\n",
       "| 6 | PASS_BMI1.results                       | gene_list_0_region_hg19_ext100Kbp | 0.09066626 | 0.09398509 | 0.011514714 | 1.036605 | 0.1270011 | 7.730427e-01 | -4.229178e-09 | 3.134673e-09 | -1.3491608 | 0.04031131 | 1 |\n",
       "\n"
      ],
      "text/plain": [
       "  sumstatsname                            celltype                         \n",
       "1 Lupus_langefeld.results                 gene_list_0_region_hg19_ext100Kbp\n",
       "2 Allergy_Eczema.results                  gene_list_0_region_hg19_ext100Kbp\n",
       "3 Asthma.results                          gene_list_0_region_hg19_ext100Kbp\n",
       "4 PASS_CD_deLange2017.results             gene_list_0_region_hg19_ext100Kbp\n",
       "5 PASS_Schizophrenia_Pardinas2018.results gene_list_0_region_hg19_ext100Kbp\n",
       "6 PASS_BMI1.results                       gene_list_0_region_hg19_ext100Kbp\n",
       "  Prop._SNPs Prop._h2   Prop._h2_std_error Enrichment Enrichment_std_error\n",
       "1 0.09066626 0.24098542 0.054973621        2.657939   0.6063294           \n",
       "2 0.09066626 0.14679271 0.015512202        1.619044   0.1710912           \n",
       "3 0.09066626 0.16862990 0.021413091        1.859897   0.2361749           \n",
       "4 0.09066626 0.19878953 0.023971810        2.192541   0.2643961           \n",
       "5 0.09066626 0.12192919 0.009928893        1.344813   0.1095103           \n",
       "6 0.09066626 0.09398509 0.011514714        1.036605   0.1270011           \n",
       "  Enrichment_p Coefficient   Coefficient_std_error Coefficient_z.score\n",
       "1 1.566057e-05  5.150601e-08 3.128161e-08           1.6465267         \n",
       "2 2.103337e-04 -2.475659e-09 2.610798e-09          -0.9482383         \n",
       "3 3.292922e-04  3.410474e-10 2.382935e-09           0.1431207         \n",
       "4 5.161888e-06  8.531248e-09 2.168468e-08           0.3934228         \n",
       "5 1.724125e-03  1.037457e-08 8.669417e-09           1.1966863         \n",
       "6 7.730427e-01 -4.229178e-09 3.134673e-09          -1.3491608         \n",
       "  minuslog10p file_num\n",
       "1 1.30252930  1       \n",
       "2 0.08170963  1       \n",
       "3 0.35350077  1       \n",
       "4 0.45966602  1       \n",
       "5 0.93661251  1       \n",
       "6 0.04031131  1       "
      ]
     },
     "metadata": {},
     "output_type": "display_data"
    }
   ],
   "source": [
    "head(merge_df)"
   ]
  },
  {
   "cell_type": "code",
   "execution_count": 17,
   "id": "684471d5-78b8-4726-814f-4cdc8b36f184",
   "metadata": {},
   "outputs": [
    {
     "data": {
      "text/html": [
       "<style>\n",
       ".list-inline {list-style: none; margin:0; padding: 0}\n",
       ".list-inline>li {display: inline-block}\n",
       ".list-inline>li:not(:last-child)::after {content: \"\\00b7\"; padding: 0 .5ex}\n",
       "</style>\n",
       "<ol class=list-inline><li>'sumstatsname'</li><li>'celltype'</li><li>'Prop._SNPs'</li><li>'Prop._h2'</li><li>'Prop._h2_std_error'</li><li>'Enrichment'</li><li>'Enrichment_std_error'</li><li>'Enrichment_p'</li><li>'Coefficient'</li><li>'Coefficient_std_error'</li><li>'Coefficient_z.score'</li><li>'minuslog10p'</li><li>'file_num'</li></ol>\n"
      ],
      "text/latex": [
       "\\begin{enumerate*}\n",
       "\\item 'sumstatsname'\n",
       "\\item 'celltype'\n",
       "\\item 'Prop.\\_SNPs'\n",
       "\\item 'Prop.\\_h2'\n",
       "\\item 'Prop.\\_h2\\_std\\_error'\n",
       "\\item 'Enrichment'\n",
       "\\item 'Enrichment\\_std\\_error'\n",
       "\\item 'Enrichment\\_p'\n",
       "\\item 'Coefficient'\n",
       "\\item 'Coefficient\\_std\\_error'\n",
       "\\item 'Coefficient\\_z.score'\n",
       "\\item 'minuslog10p'\n",
       "\\item 'file\\_num'\n",
       "\\end{enumerate*}\n"
      ],
      "text/markdown": [
       "1. 'sumstatsname'\n",
       "2. 'celltype'\n",
       "3. 'Prop._SNPs'\n",
       "4. 'Prop._h2'\n",
       "5. 'Prop._h2_std_error'\n",
       "6. 'Enrichment'\n",
       "7. 'Enrichment_std_error'\n",
       "8. 'Enrichment_p'\n",
       "9. 'Coefficient'\n",
       "10. 'Coefficient_std_error'\n",
       "11. 'Coefficient_z.score'\n",
       "12. 'minuslog10p'\n",
       "13. 'file_num'\n",
       "\n",
       "\n"
      ],
      "text/plain": [
       " [1] \"sumstatsname\"          \"celltype\"              \"Prop._SNPs\"           \n",
       " [4] \"Prop._h2\"              \"Prop._h2_std_error\"    \"Enrichment\"           \n",
       " [7] \"Enrichment_std_error\"  \"Enrichment_p\"          \"Coefficient\"          \n",
       "[10] \"Coefficient_std_error\" \"Coefficient_z.score\"   \"minuslog10p\"          \n",
       "[13] \"file_num\"             "
      ]
     },
     "metadata": {},
     "output_type": "display_data"
    }
   ],
   "source": [
    "colnames(merge_df)"
   ]
  },
  {
   "cell_type": "code",
   "execution_count": 18,
   "id": "69310b73-8031-4c9f-895b-7743c51e1eaf",
   "metadata": {
    "scrolled": true
   },
   "outputs": [
    {
     "name": "stderr",
     "output_type": "stream",
     "text": [
      "Warning message:\n",
      "“\u001b[1m\u001b[22mExpected 2 pieces. Missing pieces filled with `NA` in 80 rows [1, 2, 3, 4, 5, 6, 7, 8, 9, 10, 11, 12, 13, 14, 15, 16,\n",
      "17, 18, 19, 20, ...].”\n"
     ]
    }
   ],
   "source": [
    "# 列を分割\n",
    "merge_df2 = merge_df %>% separate(celltype, c(\"cell_type2\", \".bed\"), sep=\"\\\\.\")"
   ]
  },
  {
   "cell_type": "code",
   "execution_count": 19,
   "id": "0f709b7f-01c1-4ec8-93a3-4fadcbd02085",
   "metadata": {},
   "outputs": [
    {
     "data": {
      "text/html": [
       "<style>\n",
       ".list-inline {list-style: none; margin:0; padding: 0}\n",
       ".list-inline>li {display: inline-block}\n",
       ".list-inline>li:not(:last-child)::after {content: \"\\00b7\"; padding: 0 .5ex}\n",
       "</style>\n",
       "<ol class=list-inline><li>'gene_list_0_region_hg19_ext100Kbp'</li><li>'gene_list_1_region_hg19_ext100Kbp'</li><li>'gene_list_2_region_hg19_ext100Kbp'</li><li>'gene_list_3_region_hg19_ext100Kbp'</li><li>'gene_list_4_region_hg19_ext100Kbp'</li><li>'gene_list_5_region_hg19_ext100Kbp'</li><li>'gene_list_6_region_hg19_ext100Kbp'</li><li>'gene_list_7_region_hg19_ext100Kbp'</li></ol>\n"
      ],
      "text/latex": [
       "\\begin{enumerate*}\n",
       "\\item 'gene\\_list\\_0\\_region\\_hg19\\_ext100Kbp'\n",
       "\\item 'gene\\_list\\_1\\_region\\_hg19\\_ext100Kbp'\n",
       "\\item 'gene\\_list\\_2\\_region\\_hg19\\_ext100Kbp'\n",
       "\\item 'gene\\_list\\_3\\_region\\_hg19\\_ext100Kbp'\n",
       "\\item 'gene\\_list\\_4\\_region\\_hg19\\_ext100Kbp'\n",
       "\\item 'gene\\_list\\_5\\_region\\_hg19\\_ext100Kbp'\n",
       "\\item 'gene\\_list\\_6\\_region\\_hg19\\_ext100Kbp'\n",
       "\\item 'gene\\_list\\_7\\_region\\_hg19\\_ext100Kbp'\n",
       "\\end{enumerate*}\n"
      ],
      "text/markdown": [
       "1. 'gene_list_0_region_hg19_ext100Kbp'\n",
       "2. 'gene_list_1_region_hg19_ext100Kbp'\n",
       "3. 'gene_list_2_region_hg19_ext100Kbp'\n",
       "4. 'gene_list_3_region_hg19_ext100Kbp'\n",
       "5. 'gene_list_4_region_hg19_ext100Kbp'\n",
       "6. 'gene_list_5_region_hg19_ext100Kbp'\n",
       "7. 'gene_list_6_region_hg19_ext100Kbp'\n",
       "8. 'gene_list_7_region_hg19_ext100Kbp'\n",
       "\n",
       "\n"
      ],
      "text/plain": [
       "[1] \"gene_list_0_region_hg19_ext100Kbp\" \"gene_list_1_region_hg19_ext100Kbp\"\n",
       "[3] \"gene_list_2_region_hg19_ext100Kbp\" \"gene_list_3_region_hg19_ext100Kbp\"\n",
       "[5] \"gene_list_4_region_hg19_ext100Kbp\" \"gene_list_5_region_hg19_ext100Kbp\"\n",
       "[7] \"gene_list_6_region_hg19_ext100Kbp\" \"gene_list_7_region_hg19_ext100Kbp\""
      ]
     },
     "metadata": {},
     "output_type": "display_data"
    }
   ],
   "source": [
    "# celltype列の中身を確認\n",
    "unique(merge_df$celltype)"
   ]
  },
  {
   "cell_type": "code",
   "execution_count": 20,
   "id": "982aad0f-3bd0-4d7d-a4bc-bc1d01dd0c19",
   "metadata": {},
   "outputs": [
    {
     "data": {
      "text/html": [
       "<table class=\"dataframe\">\n",
       "<caption>A data.frame: 6 × 14</caption>\n",
       "<thead>\n",
       "\t<tr><th></th><th scope=col>sumstatsname</th><th scope=col>celltype</th><th scope=col>Prop._SNPs</th><th scope=col>Prop._h2</th><th scope=col>Prop._h2_std_error</th><th scope=col>Enrichment</th><th scope=col>Enrichment_std_error</th><th scope=col>Enrichment_p</th><th scope=col>Coefficient</th><th scope=col>Coefficient_std_error</th><th scope=col>Coefficient_z.score</th><th scope=col>minuslog10p</th><th scope=col>file_num</th><th scope=col>cell_type2</th></tr>\n",
       "\t<tr><th></th><th scope=col>&lt;chr&gt;</th><th scope=col>&lt;chr&gt;</th><th scope=col>&lt;dbl&gt;</th><th scope=col>&lt;dbl&gt;</th><th scope=col>&lt;dbl&gt;</th><th scope=col>&lt;dbl&gt;</th><th scope=col>&lt;dbl&gt;</th><th scope=col>&lt;dbl&gt;</th><th scope=col>&lt;dbl&gt;</th><th scope=col>&lt;dbl&gt;</th><th scope=col>&lt;dbl&gt;</th><th scope=col>&lt;dbl&gt;</th><th scope=col>&lt;chr&gt;</th><th scope=col>&lt;chr&gt;</th></tr>\n",
       "</thead>\n",
       "<tbody>\n",
       "\t<tr><th scope=row>1</th><td>Lupus_langefeld.results                </td><td>gene_list_0_region_hg19_ext100Kbp</td><td>0.09066626</td><td>0.24098542</td><td>0.054973621</td><td>2.657939</td><td>0.6063294</td><td>1.566057e-05</td><td> 5.150601e-08</td><td>3.128161e-08</td><td> 1.6465267</td><td>1.30252930</td><td>1</td><td>gene_list_0</td></tr>\n",
       "\t<tr><th scope=row>2</th><td>Allergy_Eczema.results                 </td><td>gene_list_0_region_hg19_ext100Kbp</td><td>0.09066626</td><td>0.14679271</td><td>0.015512202</td><td>1.619044</td><td>0.1710912</td><td>2.103337e-04</td><td>-2.475659e-09</td><td>2.610798e-09</td><td>-0.9482383</td><td>0.08170963</td><td>1</td><td>gene_list_0</td></tr>\n",
       "\t<tr><th scope=row>3</th><td>Asthma.results                         </td><td>gene_list_0_region_hg19_ext100Kbp</td><td>0.09066626</td><td>0.16862990</td><td>0.021413091</td><td>1.859897</td><td>0.2361749</td><td>3.292922e-04</td><td> 3.410474e-10</td><td>2.382935e-09</td><td> 0.1431207</td><td>0.35350077</td><td>1</td><td>gene_list_0</td></tr>\n",
       "\t<tr><th scope=row>4</th><td>PASS_CD_deLange2017.results            </td><td>gene_list_0_region_hg19_ext100Kbp</td><td>0.09066626</td><td>0.19878953</td><td>0.023971810</td><td>2.192541</td><td>0.2643961</td><td>5.161888e-06</td><td> 8.531248e-09</td><td>2.168468e-08</td><td> 0.3934228</td><td>0.45966602</td><td>1</td><td>gene_list_0</td></tr>\n",
       "\t<tr><th scope=row>5</th><td>PASS_Schizophrenia_Pardinas2018.results</td><td>gene_list_0_region_hg19_ext100Kbp</td><td>0.09066626</td><td>0.12192919</td><td>0.009928893</td><td>1.344813</td><td>0.1095103</td><td>1.724125e-03</td><td> 1.037457e-08</td><td>8.669417e-09</td><td> 1.1966863</td><td>0.93661251</td><td>1</td><td>gene_list_0</td></tr>\n",
       "\t<tr><th scope=row>6</th><td>PASS_BMI1.results                      </td><td>gene_list_0_region_hg19_ext100Kbp</td><td>0.09066626</td><td>0.09398509</td><td>0.011514714</td><td>1.036605</td><td>0.1270011</td><td>7.730427e-01</td><td>-4.229178e-09</td><td>3.134673e-09</td><td>-1.3491608</td><td>0.04031131</td><td>1</td><td>gene_list_0</td></tr>\n",
       "</tbody>\n",
       "</table>\n"
      ],
      "text/latex": [
       "A data.frame: 6 × 14\n",
       "\\begin{tabular}{r|llllllllllllll}\n",
       "  & sumstatsname & celltype & Prop.\\_SNPs & Prop.\\_h2 & Prop.\\_h2\\_std\\_error & Enrichment & Enrichment\\_std\\_error & Enrichment\\_p & Coefficient & Coefficient\\_std\\_error & Coefficient\\_z.score & minuslog10p & file\\_num & cell\\_type2\\\\\n",
       "  & <chr> & <chr> & <dbl> & <dbl> & <dbl> & <dbl> & <dbl> & <dbl> & <dbl> & <dbl> & <dbl> & <dbl> & <chr> & <chr>\\\\\n",
       "\\hline\n",
       "\t1 & Lupus\\_langefeld.results                 & gene\\_list\\_0\\_region\\_hg19\\_ext100Kbp & 0.09066626 & 0.24098542 & 0.054973621 & 2.657939 & 0.6063294 & 1.566057e-05 &  5.150601e-08 & 3.128161e-08 &  1.6465267 & 1.30252930 & 1 & gene\\_list\\_0\\\\\n",
       "\t2 & Allergy\\_Eczema.results                  & gene\\_list\\_0\\_region\\_hg19\\_ext100Kbp & 0.09066626 & 0.14679271 & 0.015512202 & 1.619044 & 0.1710912 & 2.103337e-04 & -2.475659e-09 & 2.610798e-09 & -0.9482383 & 0.08170963 & 1 & gene\\_list\\_0\\\\\n",
       "\t3 & Asthma.results                          & gene\\_list\\_0\\_region\\_hg19\\_ext100Kbp & 0.09066626 & 0.16862990 & 0.021413091 & 1.859897 & 0.2361749 & 3.292922e-04 &  3.410474e-10 & 2.382935e-09 &  0.1431207 & 0.35350077 & 1 & gene\\_list\\_0\\\\\n",
       "\t4 & PASS\\_CD\\_deLange2017.results             & gene\\_list\\_0\\_region\\_hg19\\_ext100Kbp & 0.09066626 & 0.19878953 & 0.023971810 & 2.192541 & 0.2643961 & 5.161888e-06 &  8.531248e-09 & 2.168468e-08 &  0.3934228 & 0.45966602 & 1 & gene\\_list\\_0\\\\\n",
       "\t5 & PASS\\_Schizophrenia\\_Pardinas2018.results & gene\\_list\\_0\\_region\\_hg19\\_ext100Kbp & 0.09066626 & 0.12192919 & 0.009928893 & 1.344813 & 0.1095103 & 1.724125e-03 &  1.037457e-08 & 8.669417e-09 &  1.1966863 & 0.93661251 & 1 & gene\\_list\\_0\\\\\n",
       "\t6 & PASS\\_BMI1.results                       & gene\\_list\\_0\\_region\\_hg19\\_ext100Kbp & 0.09066626 & 0.09398509 & 0.011514714 & 1.036605 & 0.1270011 & 7.730427e-01 & -4.229178e-09 & 3.134673e-09 & -1.3491608 & 0.04031131 & 1 & gene\\_list\\_0\\\\\n",
       "\\end{tabular}\n"
      ],
      "text/markdown": [
       "\n",
       "A data.frame: 6 × 14\n",
       "\n",
       "| <!--/--> | sumstatsname &lt;chr&gt; | celltype &lt;chr&gt; | Prop._SNPs &lt;dbl&gt; | Prop._h2 &lt;dbl&gt; | Prop._h2_std_error &lt;dbl&gt; | Enrichment &lt;dbl&gt; | Enrichment_std_error &lt;dbl&gt; | Enrichment_p &lt;dbl&gt; | Coefficient &lt;dbl&gt; | Coefficient_std_error &lt;dbl&gt; | Coefficient_z.score &lt;dbl&gt; | minuslog10p &lt;dbl&gt; | file_num &lt;chr&gt; | cell_type2 &lt;chr&gt; |\n",
       "|---|---|---|---|---|---|---|---|---|---|---|---|---|---|---|\n",
       "| 1 | Lupus_langefeld.results                 | gene_list_0_region_hg19_ext100Kbp | 0.09066626 | 0.24098542 | 0.054973621 | 2.657939 | 0.6063294 | 1.566057e-05 |  5.150601e-08 | 3.128161e-08 |  1.6465267 | 1.30252930 | 1 | gene_list_0 |\n",
       "| 2 | Allergy_Eczema.results                  | gene_list_0_region_hg19_ext100Kbp | 0.09066626 | 0.14679271 | 0.015512202 | 1.619044 | 0.1710912 | 2.103337e-04 | -2.475659e-09 | 2.610798e-09 | -0.9482383 | 0.08170963 | 1 | gene_list_0 |\n",
       "| 3 | Asthma.results                          | gene_list_0_region_hg19_ext100Kbp | 0.09066626 | 0.16862990 | 0.021413091 | 1.859897 | 0.2361749 | 3.292922e-04 |  3.410474e-10 | 2.382935e-09 |  0.1431207 | 0.35350077 | 1 | gene_list_0 |\n",
       "| 4 | PASS_CD_deLange2017.results             | gene_list_0_region_hg19_ext100Kbp | 0.09066626 | 0.19878953 | 0.023971810 | 2.192541 | 0.2643961 | 5.161888e-06 |  8.531248e-09 | 2.168468e-08 |  0.3934228 | 0.45966602 | 1 | gene_list_0 |\n",
       "| 5 | PASS_Schizophrenia_Pardinas2018.results | gene_list_0_region_hg19_ext100Kbp | 0.09066626 | 0.12192919 | 0.009928893 | 1.344813 | 0.1095103 | 1.724125e-03 |  1.037457e-08 | 8.669417e-09 |  1.1966863 | 0.93661251 | 1 | gene_list_0 |\n",
       "| 6 | PASS_BMI1.results                       | gene_list_0_region_hg19_ext100Kbp | 0.09066626 | 0.09398509 | 0.011514714 | 1.036605 | 0.1270011 | 7.730427e-01 | -4.229178e-09 | 3.134673e-09 | -1.3491608 | 0.04031131 | 1 | gene_list_0 |\n",
       "\n"
      ],
      "text/plain": [
       "  sumstatsname                            celltype                         \n",
       "1 Lupus_langefeld.results                 gene_list_0_region_hg19_ext100Kbp\n",
       "2 Allergy_Eczema.results                  gene_list_0_region_hg19_ext100Kbp\n",
       "3 Asthma.results                          gene_list_0_region_hg19_ext100Kbp\n",
       "4 PASS_CD_deLange2017.results             gene_list_0_region_hg19_ext100Kbp\n",
       "5 PASS_Schizophrenia_Pardinas2018.results gene_list_0_region_hg19_ext100Kbp\n",
       "6 PASS_BMI1.results                       gene_list_0_region_hg19_ext100Kbp\n",
       "  Prop._SNPs Prop._h2   Prop._h2_std_error Enrichment Enrichment_std_error\n",
       "1 0.09066626 0.24098542 0.054973621        2.657939   0.6063294           \n",
       "2 0.09066626 0.14679271 0.015512202        1.619044   0.1710912           \n",
       "3 0.09066626 0.16862990 0.021413091        1.859897   0.2361749           \n",
       "4 0.09066626 0.19878953 0.023971810        2.192541   0.2643961           \n",
       "5 0.09066626 0.12192919 0.009928893        1.344813   0.1095103           \n",
       "6 0.09066626 0.09398509 0.011514714        1.036605   0.1270011           \n",
       "  Enrichment_p Coefficient   Coefficient_std_error Coefficient_z.score\n",
       "1 1.566057e-05  5.150601e-08 3.128161e-08           1.6465267         \n",
       "2 2.103337e-04 -2.475659e-09 2.610798e-09          -0.9482383         \n",
       "3 3.292922e-04  3.410474e-10 2.382935e-09           0.1431207         \n",
       "4 5.161888e-06  8.531248e-09 2.168468e-08           0.3934228         \n",
       "5 1.724125e-03  1.037457e-08 8.669417e-09           1.1966863         \n",
       "6 7.730427e-01 -4.229178e-09 3.134673e-09          -1.3491608         \n",
       "  minuslog10p file_num cell_type2 \n",
       "1 1.30252930  1        gene_list_0\n",
       "2 0.08170963  1        gene_list_0\n",
       "3 0.35350077  1        gene_list_0\n",
       "4 0.45966602  1        gene_list_0\n",
       "5 0.93661251  1        gene_list_0\n",
       "6 0.04031131  1        gene_list_0"
      ]
     },
     "metadata": {},
     "output_type": "display_data"
    }
   ],
   "source": [
    "# 列を \"_region_hg19_ext100Kbp\" の部分で分割して、番号部分を抽出\n",
    "merge_df2 <- merge_df %>% \n",
    "  mutate(cell_type2 = gsub(\"_region_hg19_ext100Kbp\", \"\", celltype))\n",
    "\n",
    "# 結果を確認\n",
    "head(merge_df2)"
   ]
  },
  {
   "cell_type": "code",
   "execution_count": 21,
   "id": "428a4dab-a40f-4767-9cc4-d477c60e21e1",
   "metadata": {},
   "outputs": [
    {
     "data": {
      "text/plain": [
       "\n",
       "gene_list_0 gene_list_1 gene_list_2 gene_list_3 gene_list_4 gene_list_5 \n",
       "         10          10          10          10          10          10 \n",
       "gene_list_6 gene_list_7 \n",
       "         10          10 "
      ]
     },
     "metadata": {},
     "output_type": "display_data"
    }
   ],
   "source": [
    "# クラスターごとのデータの概要を確認\n",
    "table(merge_df2$cell_type2)"
   ]
  },
  {
   "cell_type": "code",
   "execution_count": 22,
   "id": "ed83058e-2b08-4c28-aaa0-acb1097575b5",
   "metadata": {},
   "outputs": [
    {
     "data": {
      "text/html": [
       "TRUE"
      ],
      "text/latex": [
       "TRUE"
      ],
      "text/markdown": [
       "TRUE"
      ],
      "text/plain": [
       "[1] TRUE"
      ]
     },
     "metadata": {},
     "output_type": "display_data"
    }
   ],
   "source": [
    "# merge_df が存在するか確認\n",
    "exists(\"merge_df\")"
   ]
  },
  {
   "cell_type": "code",
   "execution_count": 23,
   "id": "0472387b-963d-4eb1-88fd-63f055347e2f",
   "metadata": {},
   "outputs": [
    {
     "data": {
      "text/plain": [
       "   Min. 1st Qu.  Median    Mean 3rd Qu.    Max. \n",
       "0.01027 0.34212 0.83665 1.22275 1.66969 4.22757 "
      ]
     },
     "metadata": {},
     "output_type": "display_data"
    },
    {
     "data": {
      "text/html": [
       "<style>\n",
       ".list-inline {list-style: none; margin:0; padding: 0}\n",
       ".list-inline>li {display: inline-block}\n",
       ".list-inline>li:not(:last-child)::after {content: \"\\00b7\"; padding: 0 .5ex}\n",
       "</style>\n",
       "<ol class=list-inline><li>1.30252929552046</li><li>0.0817096272619551</li><li>0.353500769980874</li><li>0.459666020775291</li><li>0.936612507292934</li><li>0.0403113070415934</li><li>1.1103248137552</li><li>0.238601219539991</li><li>0.468615436321496</li><li>0.214792087069887</li><li>0.497686624213753</li><li>2.20281029971249</li><li>1.49595406436026</li><li>2.12065745884114</li><li>0.767566535864405</li><li>0.329249034515856</li><li>0.874176376315442</li><li>1.33353424432772</li><li>0.492022565488637</li><li>2.45656283274073</li><li>1.48772796637884</li><li>3.05175632802863</li><li>4.18065473231304</li><li>4.22756568944998</li><li>2.66543077592031</li><li>0.0102682625330628</li><li>3.92614043124993</li><li>0.492608375161055</li><li>0.0781067278535167</li><li>3.05911755057746</li><li>1.01222652477114</li><li>3.64435016045444</li><li>3.51815251705455</li><li>3.21242420945607</li><li>0.676637284354567</li><li>0.750168516085676</li><li>3.07969233194361</li><li>0.358108243413323</li><li>0.122053468847499</li><li>3.54269993136704</li><li>1.62795176339366</li><li>1.14398345114749</li><li>1.41826197566396</li><li>2.23498224596221</li><li>1.58501337492627</li><li>0.342936629177847</li><li>2.20421645379314</li><li>0.9812523465003</li><li>0.339669542024856</li><li>1.26544988646341</li><li>0.0126838446891137</li><li>0.607507705703127</li><li>0.577024104575018</li><li>1.79492112125619</li><li>0.0981760249475696</li><li>0.128985489405785</li><li>0.821117959067076</li><li>0.230543675398397</li><li>0.84411169624721</li><li>0.203076677930839</li><li>3.52730691399787</li><li>0.829180281040801</li><li>1.60751911032733</li><li>2.54073317440178</li><li>0.373458009073476</li><li>0.0534151532554889</li><li>2.22482633899721</li><li>0.702754946328432</li><li>0.349345179368912</li><li>0.442775940767348</li><li>0.951942565047946</li><li>0.119031535433887</li><li>0.283091120062584</li><li>0.309268592833251</li><li>0.239375668260144</li><li>0.078026056239822</li><li>0.348166555257017</li><li>1.22686068734849</li><li>1.42135133898636</li><li>0.856614267118921</li></ol>\n"
      ],
      "text/latex": [
       "\\begin{enumerate*}\n",
       "\\item 1.30252929552046\n",
       "\\item 0.0817096272619551\n",
       "\\item 0.353500769980874\n",
       "\\item 0.459666020775291\n",
       "\\item 0.936612507292934\n",
       "\\item 0.0403113070415934\n",
       "\\item 1.1103248137552\n",
       "\\item 0.238601219539991\n",
       "\\item 0.468615436321496\n",
       "\\item 0.214792087069887\n",
       "\\item 0.497686624213753\n",
       "\\item 2.20281029971249\n",
       "\\item 1.49595406436026\n",
       "\\item 2.12065745884114\n",
       "\\item 0.767566535864405\n",
       "\\item 0.329249034515856\n",
       "\\item 0.874176376315442\n",
       "\\item 1.33353424432772\n",
       "\\item 0.492022565488637\n",
       "\\item 2.45656283274073\n",
       "\\item 1.48772796637884\n",
       "\\item 3.05175632802863\n",
       "\\item 4.18065473231304\n",
       "\\item 4.22756568944998\n",
       "\\item 2.66543077592031\n",
       "\\item 0.0102682625330628\n",
       "\\item 3.92614043124993\n",
       "\\item 0.492608375161055\n",
       "\\item 0.0781067278535167\n",
       "\\item 3.05911755057746\n",
       "\\item 1.01222652477114\n",
       "\\item 3.64435016045444\n",
       "\\item 3.51815251705455\n",
       "\\item 3.21242420945607\n",
       "\\item 0.676637284354567\n",
       "\\item 0.750168516085676\n",
       "\\item 3.07969233194361\n",
       "\\item 0.358108243413323\n",
       "\\item 0.122053468847499\n",
       "\\item 3.54269993136704\n",
       "\\item 1.62795176339366\n",
       "\\item 1.14398345114749\n",
       "\\item 1.41826197566396\n",
       "\\item 2.23498224596221\n",
       "\\item 1.58501337492627\n",
       "\\item 0.342936629177847\n",
       "\\item 2.20421645379314\n",
       "\\item 0.9812523465003\n",
       "\\item 0.339669542024856\n",
       "\\item 1.26544988646341\n",
       "\\item 0.0126838446891137\n",
       "\\item 0.607507705703127\n",
       "\\item 0.577024104575018\n",
       "\\item 1.79492112125619\n",
       "\\item 0.0981760249475696\n",
       "\\item 0.128985489405785\n",
       "\\item 0.821117959067076\n",
       "\\item 0.230543675398397\n",
       "\\item 0.84411169624721\n",
       "\\item 0.203076677930839\n",
       "\\item 3.52730691399787\n",
       "\\item 0.829180281040801\n",
       "\\item 1.60751911032733\n",
       "\\item 2.54073317440178\n",
       "\\item 0.373458009073476\n",
       "\\item 0.0534151532554889\n",
       "\\item 2.22482633899721\n",
       "\\item 0.702754946328432\n",
       "\\item 0.349345179368912\n",
       "\\item 0.442775940767348\n",
       "\\item 0.951942565047946\n",
       "\\item 0.119031535433887\n",
       "\\item 0.283091120062584\n",
       "\\item 0.309268592833251\n",
       "\\item 0.239375668260144\n",
       "\\item 0.078026056239822\n",
       "\\item 0.348166555257017\n",
       "\\item 1.22686068734849\n",
       "\\item 1.42135133898636\n",
       "\\item 0.856614267118921\n",
       "\\end{enumerate*}\n"
      ],
      "text/markdown": [
       "1. 1.30252929552046\n",
       "2. 0.0817096272619551\n",
       "3. 0.353500769980874\n",
       "4. 0.459666020775291\n",
       "5. 0.936612507292934\n",
       "6. 0.0403113070415934\n",
       "7. 1.1103248137552\n",
       "8. 0.238601219539991\n",
       "9. 0.468615436321496\n",
       "10. 0.214792087069887\n",
       "11. 0.497686624213753\n",
       "12. 2.20281029971249\n",
       "13. 1.49595406436026\n",
       "14. 2.12065745884114\n",
       "15. 0.767566535864405\n",
       "16. 0.329249034515856\n",
       "17. 0.874176376315442\n",
       "18. 1.33353424432772\n",
       "19. 0.492022565488637\n",
       "20. 2.45656283274073\n",
       "21. 1.48772796637884\n",
       "22. 3.05175632802863\n",
       "23. 4.18065473231304\n",
       "24. 4.22756568944998\n",
       "25. 2.66543077592031\n",
       "26. 0.0102682625330628\n",
       "27. 3.92614043124993\n",
       "28. 0.492608375161055\n",
       "29. 0.0781067278535167\n",
       "30. 3.05911755057746\n",
       "31. 1.01222652477114\n",
       "32. 3.64435016045444\n",
       "33. 3.51815251705455\n",
       "34. 3.21242420945607\n",
       "35. 0.676637284354567\n",
       "36. 0.750168516085676\n",
       "37. 3.07969233194361\n",
       "38. 0.358108243413323\n",
       "39. 0.122053468847499\n",
       "40. 3.54269993136704\n",
       "41. 1.62795176339366\n",
       "42. 1.14398345114749\n",
       "43. 1.41826197566396\n",
       "44. 2.23498224596221\n",
       "45. 1.58501337492627\n",
       "46. 0.342936629177847\n",
       "47. 2.20421645379314\n",
       "48. 0.9812523465003\n",
       "49. 0.339669542024856\n",
       "50. 1.26544988646341\n",
       "51. 0.0126838446891137\n",
       "52. 0.607507705703127\n",
       "53. 0.577024104575018\n",
       "54. 1.79492112125619\n",
       "55. 0.0981760249475696\n",
       "56. 0.128985489405785\n",
       "57. 0.821117959067076\n",
       "58. 0.230543675398397\n",
       "59. 0.84411169624721\n",
       "60. 0.203076677930839\n",
       "61. 3.52730691399787\n",
       "62. 0.829180281040801\n",
       "63. 1.60751911032733\n",
       "64. 2.54073317440178\n",
       "65. 0.373458009073476\n",
       "66. 0.0534151532554889\n",
       "67. 2.22482633899721\n",
       "68. 0.702754946328432\n",
       "69. 0.349345179368912\n",
       "70. 0.442775940767348\n",
       "71. 0.951942565047946\n",
       "72. 0.119031535433887\n",
       "73. 0.283091120062584\n",
       "74. 0.309268592833251\n",
       "75. 0.239375668260144\n",
       "76. 0.078026056239822\n",
       "77. 0.348166555257017\n",
       "78. 1.22686068734849\n",
       "79. 1.42135133898636\n",
       "80. 0.856614267118921\n",
       "\n",
       "\n"
      ],
      "text/plain": [
       " [1] 1.30252930 0.08170963 0.35350077 0.45966602 0.93661251 0.04031131\n",
       " [7] 1.11032481 0.23860122 0.46861544 0.21479209 0.49768662 2.20281030\n",
       "[13] 1.49595406 2.12065746 0.76756654 0.32924903 0.87417638 1.33353424\n",
       "[19] 0.49202257 2.45656283 1.48772797 3.05175633 4.18065473 4.22756569\n",
       "[25] 2.66543078 0.01026826 3.92614043 0.49260838 0.07810673 3.05911755\n",
       "[31] 1.01222652 3.64435016 3.51815252 3.21242421 0.67663728 0.75016852\n",
       "[37] 3.07969233 0.35810824 0.12205347 3.54269993 1.62795176 1.14398345\n",
       "[43] 1.41826198 2.23498225 1.58501337 0.34293663 2.20421645 0.98125235\n",
       "[49] 0.33966954 1.26544989 0.01268384 0.60750771 0.57702410 1.79492112\n",
       "[55] 0.09817602 0.12898549 0.82111796 0.23054368 0.84411170 0.20307668\n",
       "[61] 3.52730691 0.82918028 1.60751911 2.54073317 0.37345801 0.05341515\n",
       "[67] 2.22482634 0.70275495 0.34934518 0.44277594 0.95194257 0.11903154\n",
       "[73] 0.28309112 0.30926859 0.23937567 0.07802606 0.34816656 1.22686069\n",
       "[79] 1.42135134 0.85661427"
      ]
     },
     "metadata": {},
     "output_type": "display_data"
    }
   ],
   "source": [
    "# クラスターごとにp値を確認\n",
    "summary(merge_df2$minuslog10p)\n",
    "\n",
    "# クラスターごとのp値のユニークな値を確認\n",
    "unique(merge_df2$minuslog10p)\n"
   ]
  },
  {
   "cell_type": "code",
   "execution_count": 24,
   "id": "77cb059b-239b-41ea-9f80-5c1c9e467147",
   "metadata": {},
   "outputs": [
    {
     "data": {
      "text/html": [
       "<table class=\"dataframe\">\n",
       "<caption>A data.frame: 6 × 14</caption>\n",
       "<thead>\n",
       "\t<tr><th></th><th scope=col>sumstatsname</th><th scope=col>celltype</th><th scope=col>Prop._SNPs</th><th scope=col>Prop._h2</th><th scope=col>Prop._h2_std_error</th><th scope=col>Enrichment</th><th scope=col>Enrichment_std_error</th><th scope=col>Enrichment_p</th><th scope=col>Coefficient</th><th scope=col>Coefficient_std_error</th><th scope=col>Coefficient_z.score</th><th scope=col>minuslog10p</th><th scope=col>file_num</th><th scope=col>cell_type2</th></tr>\n",
       "\t<tr><th></th><th scope=col>&lt;chr&gt;</th><th scope=col>&lt;chr&gt;</th><th scope=col>&lt;dbl&gt;</th><th scope=col>&lt;dbl&gt;</th><th scope=col>&lt;dbl&gt;</th><th scope=col>&lt;dbl&gt;</th><th scope=col>&lt;dbl&gt;</th><th scope=col>&lt;dbl&gt;</th><th scope=col>&lt;dbl&gt;</th><th scope=col>&lt;dbl&gt;</th><th scope=col>&lt;dbl&gt;</th><th scope=col>&lt;dbl&gt;</th><th scope=col>&lt;chr&gt;</th><th scope=col>&lt;chr&gt;</th></tr>\n",
       "</thead>\n",
       "<tbody>\n",
       "\t<tr><th scope=row>1</th><td>Lupus_langefeld.results                </td><td>gene_list_0_region_hg19_ext100Kbp</td><td>0.09066626</td><td>0.24098542</td><td>0.054973621</td><td>2.657939</td><td>0.6063294</td><td>1.566057e-05</td><td> 5.150601e-08</td><td>3.128161e-08</td><td> 1.6465267</td><td>1.30252930</td><td>1</td><td>gene_list_0</td></tr>\n",
       "\t<tr><th scope=row>2</th><td>Allergy_Eczema.results                 </td><td>gene_list_0_region_hg19_ext100Kbp</td><td>0.09066626</td><td>0.14679271</td><td>0.015512202</td><td>1.619044</td><td>0.1710912</td><td>2.103337e-04</td><td>-2.475659e-09</td><td>2.610798e-09</td><td>-0.9482383</td><td>0.08170963</td><td>1</td><td>gene_list_0</td></tr>\n",
       "\t<tr><th scope=row>3</th><td>Asthma.results                         </td><td>gene_list_0_region_hg19_ext100Kbp</td><td>0.09066626</td><td>0.16862990</td><td>0.021413091</td><td>1.859897</td><td>0.2361749</td><td>3.292922e-04</td><td> 3.410474e-10</td><td>2.382935e-09</td><td> 0.1431207</td><td>0.35350077</td><td>1</td><td>gene_list_0</td></tr>\n",
       "\t<tr><th scope=row>4</th><td>PASS_CD_deLange2017.results            </td><td>gene_list_0_region_hg19_ext100Kbp</td><td>0.09066626</td><td>0.19878953</td><td>0.023971810</td><td>2.192541</td><td>0.2643961</td><td>5.161888e-06</td><td> 8.531248e-09</td><td>2.168468e-08</td><td> 0.3934228</td><td>0.45966602</td><td>1</td><td>gene_list_0</td></tr>\n",
       "\t<tr><th scope=row>5</th><td>PASS_Schizophrenia_Pardinas2018.results</td><td>gene_list_0_region_hg19_ext100Kbp</td><td>0.09066626</td><td>0.12192919</td><td>0.009928893</td><td>1.344813</td><td>0.1095103</td><td>1.724125e-03</td><td> 1.037457e-08</td><td>8.669417e-09</td><td> 1.1966863</td><td>0.93661251</td><td>1</td><td>gene_list_0</td></tr>\n",
       "\t<tr><th scope=row>6</th><td>PASS_BMI1.results                      </td><td>gene_list_0_region_hg19_ext100Kbp</td><td>0.09066626</td><td>0.09398509</td><td>0.011514714</td><td>1.036605</td><td>0.1270011</td><td>7.730427e-01</td><td>-4.229178e-09</td><td>3.134673e-09</td><td>-1.3491608</td><td>0.04031131</td><td>1</td><td>gene_list_0</td></tr>\n",
       "</tbody>\n",
       "</table>\n"
      ],
      "text/latex": [
       "A data.frame: 6 × 14\n",
       "\\begin{tabular}{r|llllllllllllll}\n",
       "  & sumstatsname & celltype & Prop.\\_SNPs & Prop.\\_h2 & Prop.\\_h2\\_std\\_error & Enrichment & Enrichment\\_std\\_error & Enrichment\\_p & Coefficient & Coefficient\\_std\\_error & Coefficient\\_z.score & minuslog10p & file\\_num & cell\\_type2\\\\\n",
       "  & <chr> & <chr> & <dbl> & <dbl> & <dbl> & <dbl> & <dbl> & <dbl> & <dbl> & <dbl> & <dbl> & <dbl> & <chr> & <chr>\\\\\n",
       "\\hline\n",
       "\t1 & Lupus\\_langefeld.results                 & gene\\_list\\_0\\_region\\_hg19\\_ext100Kbp & 0.09066626 & 0.24098542 & 0.054973621 & 2.657939 & 0.6063294 & 1.566057e-05 &  5.150601e-08 & 3.128161e-08 &  1.6465267 & 1.30252930 & 1 & gene\\_list\\_0\\\\\n",
       "\t2 & Allergy\\_Eczema.results                  & gene\\_list\\_0\\_region\\_hg19\\_ext100Kbp & 0.09066626 & 0.14679271 & 0.015512202 & 1.619044 & 0.1710912 & 2.103337e-04 & -2.475659e-09 & 2.610798e-09 & -0.9482383 & 0.08170963 & 1 & gene\\_list\\_0\\\\\n",
       "\t3 & Asthma.results                          & gene\\_list\\_0\\_region\\_hg19\\_ext100Kbp & 0.09066626 & 0.16862990 & 0.021413091 & 1.859897 & 0.2361749 & 3.292922e-04 &  3.410474e-10 & 2.382935e-09 &  0.1431207 & 0.35350077 & 1 & gene\\_list\\_0\\\\\n",
       "\t4 & PASS\\_CD\\_deLange2017.results             & gene\\_list\\_0\\_region\\_hg19\\_ext100Kbp & 0.09066626 & 0.19878953 & 0.023971810 & 2.192541 & 0.2643961 & 5.161888e-06 &  8.531248e-09 & 2.168468e-08 &  0.3934228 & 0.45966602 & 1 & gene\\_list\\_0\\\\\n",
       "\t5 & PASS\\_Schizophrenia\\_Pardinas2018.results & gene\\_list\\_0\\_region\\_hg19\\_ext100Kbp & 0.09066626 & 0.12192919 & 0.009928893 & 1.344813 & 0.1095103 & 1.724125e-03 &  1.037457e-08 & 8.669417e-09 &  1.1966863 & 0.93661251 & 1 & gene\\_list\\_0\\\\\n",
       "\t6 & PASS\\_BMI1.results                       & gene\\_list\\_0\\_region\\_hg19\\_ext100Kbp & 0.09066626 & 0.09398509 & 0.011514714 & 1.036605 & 0.1270011 & 7.730427e-01 & -4.229178e-09 & 3.134673e-09 & -1.3491608 & 0.04031131 & 1 & gene\\_list\\_0\\\\\n",
       "\\end{tabular}\n"
      ],
      "text/markdown": [
       "\n",
       "A data.frame: 6 × 14\n",
       "\n",
       "| <!--/--> | sumstatsname &lt;chr&gt; | celltype &lt;chr&gt; | Prop._SNPs &lt;dbl&gt; | Prop._h2 &lt;dbl&gt; | Prop._h2_std_error &lt;dbl&gt; | Enrichment &lt;dbl&gt; | Enrichment_std_error &lt;dbl&gt; | Enrichment_p &lt;dbl&gt; | Coefficient &lt;dbl&gt; | Coefficient_std_error &lt;dbl&gt; | Coefficient_z.score &lt;dbl&gt; | minuslog10p &lt;dbl&gt; | file_num &lt;chr&gt; | cell_type2 &lt;chr&gt; |\n",
       "|---|---|---|---|---|---|---|---|---|---|---|---|---|---|---|\n",
       "| 1 | Lupus_langefeld.results                 | gene_list_0_region_hg19_ext100Kbp | 0.09066626 | 0.24098542 | 0.054973621 | 2.657939 | 0.6063294 | 1.566057e-05 |  5.150601e-08 | 3.128161e-08 |  1.6465267 | 1.30252930 | 1 | gene_list_0 |\n",
       "| 2 | Allergy_Eczema.results                  | gene_list_0_region_hg19_ext100Kbp | 0.09066626 | 0.14679271 | 0.015512202 | 1.619044 | 0.1710912 | 2.103337e-04 | -2.475659e-09 | 2.610798e-09 | -0.9482383 | 0.08170963 | 1 | gene_list_0 |\n",
       "| 3 | Asthma.results                          | gene_list_0_region_hg19_ext100Kbp | 0.09066626 | 0.16862990 | 0.021413091 | 1.859897 | 0.2361749 | 3.292922e-04 |  3.410474e-10 | 2.382935e-09 |  0.1431207 | 0.35350077 | 1 | gene_list_0 |\n",
       "| 4 | PASS_CD_deLange2017.results             | gene_list_0_region_hg19_ext100Kbp | 0.09066626 | 0.19878953 | 0.023971810 | 2.192541 | 0.2643961 | 5.161888e-06 |  8.531248e-09 | 2.168468e-08 |  0.3934228 | 0.45966602 | 1 | gene_list_0 |\n",
       "| 5 | PASS_Schizophrenia_Pardinas2018.results | gene_list_0_region_hg19_ext100Kbp | 0.09066626 | 0.12192919 | 0.009928893 | 1.344813 | 0.1095103 | 1.724125e-03 |  1.037457e-08 | 8.669417e-09 |  1.1966863 | 0.93661251 | 1 | gene_list_0 |\n",
       "| 6 | PASS_BMI1.results                       | gene_list_0_region_hg19_ext100Kbp | 0.09066626 | 0.09398509 | 0.011514714 | 1.036605 | 0.1270011 | 7.730427e-01 | -4.229178e-09 | 3.134673e-09 | -1.3491608 | 0.04031131 | 1 | gene_list_0 |\n",
       "\n"
      ],
      "text/plain": [
       "  sumstatsname                            celltype                         \n",
       "1 Lupus_langefeld.results                 gene_list_0_region_hg19_ext100Kbp\n",
       "2 Allergy_Eczema.results                  gene_list_0_region_hg19_ext100Kbp\n",
       "3 Asthma.results                          gene_list_0_region_hg19_ext100Kbp\n",
       "4 PASS_CD_deLange2017.results             gene_list_0_region_hg19_ext100Kbp\n",
       "5 PASS_Schizophrenia_Pardinas2018.results gene_list_0_region_hg19_ext100Kbp\n",
       "6 PASS_BMI1.results                       gene_list_0_region_hg19_ext100Kbp\n",
       "  Prop._SNPs Prop._h2   Prop._h2_std_error Enrichment Enrichment_std_error\n",
       "1 0.09066626 0.24098542 0.054973621        2.657939   0.6063294           \n",
       "2 0.09066626 0.14679271 0.015512202        1.619044   0.1710912           \n",
       "3 0.09066626 0.16862990 0.021413091        1.859897   0.2361749           \n",
       "4 0.09066626 0.19878953 0.023971810        2.192541   0.2643961           \n",
       "5 0.09066626 0.12192919 0.009928893        1.344813   0.1095103           \n",
       "6 0.09066626 0.09398509 0.011514714        1.036605   0.1270011           \n",
       "  Enrichment_p Coefficient   Coefficient_std_error Coefficient_z.score\n",
       "1 1.566057e-05  5.150601e-08 3.128161e-08           1.6465267         \n",
       "2 2.103337e-04 -2.475659e-09 2.610798e-09          -0.9482383         \n",
       "3 3.292922e-04  3.410474e-10 2.382935e-09           0.1431207         \n",
       "4 5.161888e-06  8.531248e-09 2.168468e-08           0.3934228         \n",
       "5 1.724125e-03  1.037457e-08 8.669417e-09           1.1966863         \n",
       "6 7.730427e-01 -4.229178e-09 3.134673e-09          -1.3491608         \n",
       "  minuslog10p file_num cell_type2 \n",
       "1 1.30252930  1        gene_list_0\n",
       "2 0.08170963  1        gene_list_0\n",
       "3 0.35350077  1        gene_list_0\n",
       "4 0.45966602  1        gene_list_0\n",
       "5 0.93661251  1        gene_list_0\n",
       "6 0.04031131  1        gene_list_0"
      ]
     },
     "metadata": {},
     "output_type": "display_data"
    },
    {
     "data": {
      "text/html": [
       "<table class=\"dataframe\">\n",
       "<caption>A data.frame: 6 × 14</caption>\n",
       "<thead>\n",
       "\t<tr><th></th><th scope=col>sumstatsname</th><th scope=col>celltype</th><th scope=col>Prop._SNPs</th><th scope=col>Prop._h2</th><th scope=col>Prop._h2_std_error</th><th scope=col>Enrichment</th><th scope=col>Enrichment_std_error</th><th scope=col>Enrichment_p</th><th scope=col>Coefficient</th><th scope=col>Coefficient_std_error</th><th scope=col>Coefficient_z.score</th><th scope=col>minuslog10p</th><th scope=col>file_num</th><th scope=col>cell_type2</th></tr>\n",
       "\t<tr><th></th><th scope=col>&lt;chr&gt;</th><th scope=col>&lt;chr&gt;</th><th scope=col>&lt;dbl&gt;</th><th scope=col>&lt;dbl&gt;</th><th scope=col>&lt;dbl&gt;</th><th scope=col>&lt;dbl&gt;</th><th scope=col>&lt;dbl&gt;</th><th scope=col>&lt;dbl&gt;</th><th scope=col>&lt;dbl&gt;</th><th scope=col>&lt;dbl&gt;</th><th scope=col>&lt;dbl&gt;</th><th scope=col>&lt;dbl&gt;</th><th scope=col>&lt;chr&gt;</th><th scope=col>&lt;chr&gt;</th></tr>\n",
       "</thead>\n",
       "<tbody>\n",
       "\t<tr><th scope=row>1</th><td>Lupus_langefeld.results                </td><td>gene_list_1_region_hg19_ext100Kbp</td><td>0.0186551</td><td>0.05495116</td><td>0.018071649</td><td>2.945638</td><td>0.9687245</td><td>1.909193e-02</td><td>2.809603e-08</td><td>5.933286e-08</td><td>0.47353232</td><td>0.4976866</td><td>2</td><td>gene_list_1</td></tr>\n",
       "\t<tr><th scope=row>2</th><td>Allergy_Eczema.results                 </td><td>gene_list_1_region_hg19_ext100Kbp</td><td>0.0186551</td><td>0.06980471</td><td>0.010979108</td><td>3.741857</td><td>0.5885313</td><td>1.275688e-05</td><td>2.064833e-08</td><td>8.270459e-09</td><td>2.49663616</td><td>2.2028103</td><td>2</td><td>gene_list_1</td></tr>\n",
       "\t<tr><th scope=row>3</th><td>Asthma.results                         </td><td>gene_list_1_region_hg19_ext100Kbp</td><td>0.0186551</td><td>0.07424813</td><td>0.016304368</td><td>3.980045</td><td>0.8739900</td><td>2.126230e-03</td><td>1.759117e-08</td><td>9.491741e-09</td><td>1.85331300</td><td>1.4959541</td><td>2</td><td>gene_list_1</td></tr>\n",
       "\t<tr><th scope=row>4</th><td>PASS_CD_deLange2017.results            </td><td>gene_list_1_region_hg19_ext100Kbp</td><td>0.0186551</td><td>0.08353392</td><td>0.012970891</td><td>4.477807</td><td>0.6953001</td><td>6.898860e-06</td><td>1.343023e-07</td><td>5.529558e-08</td><td>2.42880682</td><td>2.1206575</td><td>2</td><td>gene_list_1</td></tr>\n",
       "\t<tr><th scope=row>5</th><td>PASS_Schizophrenia_Pardinas2018.results</td><td>gene_list_1_region_hg19_ext100Kbp</td><td>0.0186551</td><td>0.02690230</td><td>0.005065708</td><td>1.442089</td><td>0.2715455</td><td>1.047012e-01</td><td>1.742826e-08</td><td>1.832445e-08</td><td>0.95109291</td><td>0.7675665</td><td>2</td><td>gene_list_1</td></tr>\n",
       "\t<tr><th scope=row>6</th><td>PASS_BMI1.results                      </td><td>gene_list_1_region_hg19_ext100Kbp</td><td>0.0186551</td><td>0.02355940</td><td>0.005909873</td><td>1.262893</td><td>0.3167967</td><td>4.075688e-01</td><td>5.633774e-10</td><td>7.137793e-09</td><td>0.07892879</td><td>0.3292490</td><td>2</td><td>gene_list_1</td></tr>\n",
       "</tbody>\n",
       "</table>\n"
      ],
      "text/latex": [
       "A data.frame: 6 × 14\n",
       "\\begin{tabular}{r|llllllllllllll}\n",
       "  & sumstatsname & celltype & Prop.\\_SNPs & Prop.\\_h2 & Prop.\\_h2\\_std\\_error & Enrichment & Enrichment\\_std\\_error & Enrichment\\_p & Coefficient & Coefficient\\_std\\_error & Coefficient\\_z.score & minuslog10p & file\\_num & cell\\_type2\\\\\n",
       "  & <chr> & <chr> & <dbl> & <dbl> & <dbl> & <dbl> & <dbl> & <dbl> & <dbl> & <dbl> & <dbl> & <dbl> & <chr> & <chr>\\\\\n",
       "\\hline\n",
       "\t1 & Lupus\\_langefeld.results                 & gene\\_list\\_1\\_region\\_hg19\\_ext100Kbp & 0.0186551 & 0.05495116 & 0.018071649 & 2.945638 & 0.9687245 & 1.909193e-02 & 2.809603e-08 & 5.933286e-08 & 0.47353232 & 0.4976866 & 2 & gene\\_list\\_1\\\\\n",
       "\t2 & Allergy\\_Eczema.results                  & gene\\_list\\_1\\_region\\_hg19\\_ext100Kbp & 0.0186551 & 0.06980471 & 0.010979108 & 3.741857 & 0.5885313 & 1.275688e-05 & 2.064833e-08 & 8.270459e-09 & 2.49663616 & 2.2028103 & 2 & gene\\_list\\_1\\\\\n",
       "\t3 & Asthma.results                          & gene\\_list\\_1\\_region\\_hg19\\_ext100Kbp & 0.0186551 & 0.07424813 & 0.016304368 & 3.980045 & 0.8739900 & 2.126230e-03 & 1.759117e-08 & 9.491741e-09 & 1.85331300 & 1.4959541 & 2 & gene\\_list\\_1\\\\\n",
       "\t4 & PASS\\_CD\\_deLange2017.results             & gene\\_list\\_1\\_region\\_hg19\\_ext100Kbp & 0.0186551 & 0.08353392 & 0.012970891 & 4.477807 & 0.6953001 & 6.898860e-06 & 1.343023e-07 & 5.529558e-08 & 2.42880682 & 2.1206575 & 2 & gene\\_list\\_1\\\\\n",
       "\t5 & PASS\\_Schizophrenia\\_Pardinas2018.results & gene\\_list\\_1\\_region\\_hg19\\_ext100Kbp & 0.0186551 & 0.02690230 & 0.005065708 & 1.442089 & 0.2715455 & 1.047012e-01 & 1.742826e-08 & 1.832445e-08 & 0.95109291 & 0.7675665 & 2 & gene\\_list\\_1\\\\\n",
       "\t6 & PASS\\_BMI1.results                       & gene\\_list\\_1\\_region\\_hg19\\_ext100Kbp & 0.0186551 & 0.02355940 & 0.005909873 & 1.262893 & 0.3167967 & 4.075688e-01 & 5.633774e-10 & 7.137793e-09 & 0.07892879 & 0.3292490 & 2 & gene\\_list\\_1\\\\\n",
       "\\end{tabular}\n"
      ],
      "text/markdown": [
       "\n",
       "A data.frame: 6 × 14\n",
       "\n",
       "| <!--/--> | sumstatsname &lt;chr&gt; | celltype &lt;chr&gt; | Prop._SNPs &lt;dbl&gt; | Prop._h2 &lt;dbl&gt; | Prop._h2_std_error &lt;dbl&gt; | Enrichment &lt;dbl&gt; | Enrichment_std_error &lt;dbl&gt; | Enrichment_p &lt;dbl&gt; | Coefficient &lt;dbl&gt; | Coefficient_std_error &lt;dbl&gt; | Coefficient_z.score &lt;dbl&gt; | minuslog10p &lt;dbl&gt; | file_num &lt;chr&gt; | cell_type2 &lt;chr&gt; |\n",
       "|---|---|---|---|---|---|---|---|---|---|---|---|---|---|---|\n",
       "| 1 | Lupus_langefeld.results                 | gene_list_1_region_hg19_ext100Kbp | 0.0186551 | 0.05495116 | 0.018071649 | 2.945638 | 0.9687245 | 1.909193e-02 | 2.809603e-08 | 5.933286e-08 | 0.47353232 | 0.4976866 | 2 | gene_list_1 |\n",
       "| 2 | Allergy_Eczema.results                  | gene_list_1_region_hg19_ext100Kbp | 0.0186551 | 0.06980471 | 0.010979108 | 3.741857 | 0.5885313 | 1.275688e-05 | 2.064833e-08 | 8.270459e-09 | 2.49663616 | 2.2028103 | 2 | gene_list_1 |\n",
       "| 3 | Asthma.results                          | gene_list_1_region_hg19_ext100Kbp | 0.0186551 | 0.07424813 | 0.016304368 | 3.980045 | 0.8739900 | 2.126230e-03 | 1.759117e-08 | 9.491741e-09 | 1.85331300 | 1.4959541 | 2 | gene_list_1 |\n",
       "| 4 | PASS_CD_deLange2017.results             | gene_list_1_region_hg19_ext100Kbp | 0.0186551 | 0.08353392 | 0.012970891 | 4.477807 | 0.6953001 | 6.898860e-06 | 1.343023e-07 | 5.529558e-08 | 2.42880682 | 2.1206575 | 2 | gene_list_1 |\n",
       "| 5 | PASS_Schizophrenia_Pardinas2018.results | gene_list_1_region_hg19_ext100Kbp | 0.0186551 | 0.02690230 | 0.005065708 | 1.442089 | 0.2715455 | 1.047012e-01 | 1.742826e-08 | 1.832445e-08 | 0.95109291 | 0.7675665 | 2 | gene_list_1 |\n",
       "| 6 | PASS_BMI1.results                       | gene_list_1_region_hg19_ext100Kbp | 0.0186551 | 0.02355940 | 0.005909873 | 1.262893 | 0.3167967 | 4.075688e-01 | 5.633774e-10 | 7.137793e-09 | 0.07892879 | 0.3292490 | 2 | gene_list_1 |\n",
       "\n"
      ],
      "text/plain": [
       "  sumstatsname                            celltype                         \n",
       "1 Lupus_langefeld.results                 gene_list_1_region_hg19_ext100Kbp\n",
       "2 Allergy_Eczema.results                  gene_list_1_region_hg19_ext100Kbp\n",
       "3 Asthma.results                          gene_list_1_region_hg19_ext100Kbp\n",
       "4 PASS_CD_deLange2017.results             gene_list_1_region_hg19_ext100Kbp\n",
       "5 PASS_Schizophrenia_Pardinas2018.results gene_list_1_region_hg19_ext100Kbp\n",
       "6 PASS_BMI1.results                       gene_list_1_region_hg19_ext100Kbp\n",
       "  Prop._SNPs Prop._h2   Prop._h2_std_error Enrichment Enrichment_std_error\n",
       "1 0.0186551  0.05495116 0.018071649        2.945638   0.9687245           \n",
       "2 0.0186551  0.06980471 0.010979108        3.741857   0.5885313           \n",
       "3 0.0186551  0.07424813 0.016304368        3.980045   0.8739900           \n",
       "4 0.0186551  0.08353392 0.012970891        4.477807   0.6953001           \n",
       "5 0.0186551  0.02690230 0.005065708        1.442089   0.2715455           \n",
       "6 0.0186551  0.02355940 0.005909873        1.262893   0.3167967           \n",
       "  Enrichment_p Coefficient  Coefficient_std_error Coefficient_z.score\n",
       "1 1.909193e-02 2.809603e-08 5.933286e-08          0.47353232         \n",
       "2 1.275688e-05 2.064833e-08 8.270459e-09          2.49663616         \n",
       "3 2.126230e-03 1.759117e-08 9.491741e-09          1.85331300         \n",
       "4 6.898860e-06 1.343023e-07 5.529558e-08          2.42880682         \n",
       "5 1.047012e-01 1.742826e-08 1.832445e-08          0.95109291         \n",
       "6 4.075688e-01 5.633774e-10 7.137793e-09          0.07892879         \n",
       "  minuslog10p file_num cell_type2 \n",
       "1 0.4976866   2        gene_list_1\n",
       "2 2.2028103   2        gene_list_1\n",
       "3 1.4959541   2        gene_list_1\n",
       "4 2.1206575   2        gene_list_1\n",
       "5 0.7675665   2        gene_list_1\n",
       "6 0.3292490   2        gene_list_1"
      ]
     },
     "metadata": {},
     "output_type": "display_data"
    }
   ],
   "source": [
    "# 各クラスターのデータを確認\n",
    "head(merge_df2 %>% filter(cell_type2 == \"gene_list_0\"))\n",
    "head(merge_df2 %>% filter(cell_type2 == \"gene_list_1\"))"
   ]
  },
  {
   "cell_type": "code",
   "execution_count": 25,
   "id": "3bb5c200-c7a3-4c6f-915c-a159338ec939",
   "metadata": {},
   "outputs": [
    {
     "data": {
      "text/html": [
       "<table class=\"dataframe\">\n",
       "<caption>A data.frame: 6 × 14</caption>\n",
       "<thead>\n",
       "\t<tr><th></th><th scope=col>sumstatsname</th><th scope=col>celltype</th><th scope=col>Prop._SNPs</th><th scope=col>Prop._h2</th><th scope=col>Prop._h2_std_error</th><th scope=col>Enrichment</th><th scope=col>Enrichment_std_error</th><th scope=col>Enrichment_p</th><th scope=col>Coefficient</th><th scope=col>Coefficient_std_error</th><th scope=col>Coefficient_z.score</th><th scope=col>minuslog10p</th><th scope=col>file_num</th><th scope=col>cell_type2</th></tr>\n",
       "\t<tr><th></th><th scope=col>&lt;chr&gt;</th><th scope=col>&lt;chr&gt;</th><th scope=col>&lt;dbl&gt;</th><th scope=col>&lt;dbl&gt;</th><th scope=col>&lt;dbl&gt;</th><th scope=col>&lt;dbl&gt;</th><th scope=col>&lt;dbl&gt;</th><th scope=col>&lt;dbl&gt;</th><th scope=col>&lt;dbl&gt;</th><th scope=col>&lt;dbl&gt;</th><th scope=col>&lt;dbl&gt;</th><th scope=col>&lt;dbl&gt;</th><th scope=col>&lt;chr&gt;</th><th scope=col>&lt;chr&gt;</th></tr>\n",
       "</thead>\n",
       "<tbody>\n",
       "\t<tr><th scope=row>1</th><td>Lupus_langefeld.results                </td><td>gene_list_0_region_hg19_ext100Kbp</td><td>0.09066626</td><td>0.24098542</td><td>0.054973621</td><td>2.657939</td><td>0.6063294</td><td>1.566057e-05</td><td> 5.150601e-08</td><td>3.128161e-08</td><td> 1.6465267</td><td>1.30252930</td><td>1</td><td>gene_list_0</td></tr>\n",
       "\t<tr><th scope=row>2</th><td>Allergy_Eczema.results                 </td><td>gene_list_0_region_hg19_ext100Kbp</td><td>0.09066626</td><td>0.14679271</td><td>0.015512202</td><td>1.619044</td><td>0.1710912</td><td>2.103337e-04</td><td>-2.475659e-09</td><td>2.610798e-09</td><td>-0.9482383</td><td>0.08170963</td><td>1</td><td>gene_list_0</td></tr>\n",
       "\t<tr><th scope=row>3</th><td>Asthma.results                         </td><td>gene_list_0_region_hg19_ext100Kbp</td><td>0.09066626</td><td>0.16862990</td><td>0.021413091</td><td>1.859897</td><td>0.2361749</td><td>3.292922e-04</td><td> 3.410474e-10</td><td>2.382935e-09</td><td> 0.1431207</td><td>0.35350077</td><td>1</td><td>gene_list_0</td></tr>\n",
       "\t<tr><th scope=row>4</th><td>PASS_CD_deLange2017.results            </td><td>gene_list_0_region_hg19_ext100Kbp</td><td>0.09066626</td><td>0.19878953</td><td>0.023971810</td><td>2.192541</td><td>0.2643961</td><td>5.161888e-06</td><td> 8.531248e-09</td><td>2.168468e-08</td><td> 0.3934228</td><td>0.45966602</td><td>1</td><td>gene_list_0</td></tr>\n",
       "\t<tr><th scope=row>5</th><td>PASS_Schizophrenia_Pardinas2018.results</td><td>gene_list_0_region_hg19_ext100Kbp</td><td>0.09066626</td><td>0.12192919</td><td>0.009928893</td><td>1.344813</td><td>0.1095103</td><td>1.724125e-03</td><td> 1.037457e-08</td><td>8.669417e-09</td><td> 1.1966863</td><td>0.93661251</td><td>1</td><td>gene_list_0</td></tr>\n",
       "\t<tr><th scope=row>6</th><td>PASS_BMI1.results                      </td><td>gene_list_0_region_hg19_ext100Kbp</td><td>0.09066626</td><td>0.09398509</td><td>0.011514714</td><td>1.036605</td><td>0.1270011</td><td>7.730427e-01</td><td>-4.229178e-09</td><td>3.134673e-09</td><td>-1.3491608</td><td>0.04031131</td><td>1</td><td>gene_list_0</td></tr>\n",
       "</tbody>\n",
       "</table>\n"
      ],
      "text/latex": [
       "A data.frame: 6 × 14\n",
       "\\begin{tabular}{r|llllllllllllll}\n",
       "  & sumstatsname & celltype & Prop.\\_SNPs & Prop.\\_h2 & Prop.\\_h2\\_std\\_error & Enrichment & Enrichment\\_std\\_error & Enrichment\\_p & Coefficient & Coefficient\\_std\\_error & Coefficient\\_z.score & minuslog10p & file\\_num & cell\\_type2\\\\\n",
       "  & <chr> & <chr> & <dbl> & <dbl> & <dbl> & <dbl> & <dbl> & <dbl> & <dbl> & <dbl> & <dbl> & <dbl> & <chr> & <chr>\\\\\n",
       "\\hline\n",
       "\t1 & Lupus\\_langefeld.results                 & gene\\_list\\_0\\_region\\_hg19\\_ext100Kbp & 0.09066626 & 0.24098542 & 0.054973621 & 2.657939 & 0.6063294 & 1.566057e-05 &  5.150601e-08 & 3.128161e-08 &  1.6465267 & 1.30252930 & 1 & gene\\_list\\_0\\\\\n",
       "\t2 & Allergy\\_Eczema.results                  & gene\\_list\\_0\\_region\\_hg19\\_ext100Kbp & 0.09066626 & 0.14679271 & 0.015512202 & 1.619044 & 0.1710912 & 2.103337e-04 & -2.475659e-09 & 2.610798e-09 & -0.9482383 & 0.08170963 & 1 & gene\\_list\\_0\\\\\n",
       "\t3 & Asthma.results                          & gene\\_list\\_0\\_region\\_hg19\\_ext100Kbp & 0.09066626 & 0.16862990 & 0.021413091 & 1.859897 & 0.2361749 & 3.292922e-04 &  3.410474e-10 & 2.382935e-09 &  0.1431207 & 0.35350077 & 1 & gene\\_list\\_0\\\\\n",
       "\t4 & PASS\\_CD\\_deLange2017.results             & gene\\_list\\_0\\_region\\_hg19\\_ext100Kbp & 0.09066626 & 0.19878953 & 0.023971810 & 2.192541 & 0.2643961 & 5.161888e-06 &  8.531248e-09 & 2.168468e-08 &  0.3934228 & 0.45966602 & 1 & gene\\_list\\_0\\\\\n",
       "\t5 & PASS\\_Schizophrenia\\_Pardinas2018.results & gene\\_list\\_0\\_region\\_hg19\\_ext100Kbp & 0.09066626 & 0.12192919 & 0.009928893 & 1.344813 & 0.1095103 & 1.724125e-03 &  1.037457e-08 & 8.669417e-09 &  1.1966863 & 0.93661251 & 1 & gene\\_list\\_0\\\\\n",
       "\t6 & PASS\\_BMI1.results                       & gene\\_list\\_0\\_region\\_hg19\\_ext100Kbp & 0.09066626 & 0.09398509 & 0.011514714 & 1.036605 & 0.1270011 & 7.730427e-01 & -4.229178e-09 & 3.134673e-09 & -1.3491608 & 0.04031131 & 1 & gene\\_list\\_0\\\\\n",
       "\\end{tabular}\n"
      ],
      "text/markdown": [
       "\n",
       "A data.frame: 6 × 14\n",
       "\n",
       "| <!--/--> | sumstatsname &lt;chr&gt; | celltype &lt;chr&gt; | Prop._SNPs &lt;dbl&gt; | Prop._h2 &lt;dbl&gt; | Prop._h2_std_error &lt;dbl&gt; | Enrichment &lt;dbl&gt; | Enrichment_std_error &lt;dbl&gt; | Enrichment_p &lt;dbl&gt; | Coefficient &lt;dbl&gt; | Coefficient_std_error &lt;dbl&gt; | Coefficient_z.score &lt;dbl&gt; | minuslog10p &lt;dbl&gt; | file_num &lt;chr&gt; | cell_type2 &lt;chr&gt; |\n",
       "|---|---|---|---|---|---|---|---|---|---|---|---|---|---|---|\n",
       "| 1 | Lupus_langefeld.results                 | gene_list_0_region_hg19_ext100Kbp | 0.09066626 | 0.24098542 | 0.054973621 | 2.657939 | 0.6063294 | 1.566057e-05 |  5.150601e-08 | 3.128161e-08 |  1.6465267 | 1.30252930 | 1 | gene_list_0 |\n",
       "| 2 | Allergy_Eczema.results                  | gene_list_0_region_hg19_ext100Kbp | 0.09066626 | 0.14679271 | 0.015512202 | 1.619044 | 0.1710912 | 2.103337e-04 | -2.475659e-09 | 2.610798e-09 | -0.9482383 | 0.08170963 | 1 | gene_list_0 |\n",
       "| 3 | Asthma.results                          | gene_list_0_region_hg19_ext100Kbp | 0.09066626 | 0.16862990 | 0.021413091 | 1.859897 | 0.2361749 | 3.292922e-04 |  3.410474e-10 | 2.382935e-09 |  0.1431207 | 0.35350077 | 1 | gene_list_0 |\n",
       "| 4 | PASS_CD_deLange2017.results             | gene_list_0_region_hg19_ext100Kbp | 0.09066626 | 0.19878953 | 0.023971810 | 2.192541 | 0.2643961 | 5.161888e-06 |  8.531248e-09 | 2.168468e-08 |  0.3934228 | 0.45966602 | 1 | gene_list_0 |\n",
       "| 5 | PASS_Schizophrenia_Pardinas2018.results | gene_list_0_region_hg19_ext100Kbp | 0.09066626 | 0.12192919 | 0.009928893 | 1.344813 | 0.1095103 | 1.724125e-03 |  1.037457e-08 | 8.669417e-09 |  1.1966863 | 0.93661251 | 1 | gene_list_0 |\n",
       "| 6 | PASS_BMI1.results                       | gene_list_0_region_hg19_ext100Kbp | 0.09066626 | 0.09398509 | 0.011514714 | 1.036605 | 0.1270011 | 7.730427e-01 | -4.229178e-09 | 3.134673e-09 | -1.3491608 | 0.04031131 | 1 | gene_list_0 |\n",
       "\n"
      ],
      "text/plain": [
       "  sumstatsname                            celltype                         \n",
       "1 Lupus_langefeld.results                 gene_list_0_region_hg19_ext100Kbp\n",
       "2 Allergy_Eczema.results                  gene_list_0_region_hg19_ext100Kbp\n",
       "3 Asthma.results                          gene_list_0_region_hg19_ext100Kbp\n",
       "4 PASS_CD_deLange2017.results             gene_list_0_region_hg19_ext100Kbp\n",
       "5 PASS_Schizophrenia_Pardinas2018.results gene_list_0_region_hg19_ext100Kbp\n",
       "6 PASS_BMI1.results                       gene_list_0_region_hg19_ext100Kbp\n",
       "  Prop._SNPs Prop._h2   Prop._h2_std_error Enrichment Enrichment_std_error\n",
       "1 0.09066626 0.24098542 0.054973621        2.657939   0.6063294           \n",
       "2 0.09066626 0.14679271 0.015512202        1.619044   0.1710912           \n",
       "3 0.09066626 0.16862990 0.021413091        1.859897   0.2361749           \n",
       "4 0.09066626 0.19878953 0.023971810        2.192541   0.2643961           \n",
       "5 0.09066626 0.12192919 0.009928893        1.344813   0.1095103           \n",
       "6 0.09066626 0.09398509 0.011514714        1.036605   0.1270011           \n",
       "  Enrichment_p Coefficient   Coefficient_std_error Coefficient_z.score\n",
       "1 1.566057e-05  5.150601e-08 3.128161e-08           1.6465267         \n",
       "2 2.103337e-04 -2.475659e-09 2.610798e-09          -0.9482383         \n",
       "3 3.292922e-04  3.410474e-10 2.382935e-09           0.1431207         \n",
       "4 5.161888e-06  8.531248e-09 2.168468e-08           0.3934228         \n",
       "5 1.724125e-03  1.037457e-08 8.669417e-09           1.1966863         \n",
       "6 7.730427e-01 -4.229178e-09 3.134673e-09          -1.3491608         \n",
       "  minuslog10p file_num cell_type2 \n",
       "1 1.30252930  1        gene_list_0\n",
       "2 0.08170963  1        gene_list_0\n",
       "3 0.35350077  1        gene_list_0\n",
       "4 0.45966602  1        gene_list_0\n",
       "5 0.93661251  1        gene_list_0\n",
       "6 0.04031131  1        gene_list_0"
      ]
     },
     "metadata": {},
     "output_type": "display_data"
    },
    {
     "data": {
      "text/html": [
       "<table class=\"dataframe\">\n",
       "<caption>A data.frame: 6 × 14</caption>\n",
       "<thead>\n",
       "\t<tr><th></th><th scope=col>sumstatsname</th><th scope=col>celltype</th><th scope=col>Prop._SNPs</th><th scope=col>Prop._h2</th><th scope=col>Prop._h2_std_error</th><th scope=col>Enrichment</th><th scope=col>Enrichment_std_error</th><th scope=col>Enrichment_p</th><th scope=col>Coefficient</th><th scope=col>Coefficient_std_error</th><th scope=col>Coefficient_z.score</th><th scope=col>minuslog10p</th><th scope=col>file_num</th><th scope=col>cell_type2</th></tr>\n",
       "\t<tr><th></th><th scope=col>&lt;chr&gt;</th><th scope=col>&lt;chr&gt;</th><th scope=col>&lt;dbl&gt;</th><th scope=col>&lt;dbl&gt;</th><th scope=col>&lt;dbl&gt;</th><th scope=col>&lt;dbl&gt;</th><th scope=col>&lt;dbl&gt;</th><th scope=col>&lt;dbl&gt;</th><th scope=col>&lt;dbl&gt;</th><th scope=col>&lt;dbl&gt;</th><th scope=col>&lt;dbl&gt;</th><th scope=col>&lt;dbl&gt;</th><th scope=col>&lt;chr&gt;</th><th scope=col>&lt;chr&gt;</th></tr>\n",
       "</thead>\n",
       "<tbody>\n",
       "\t<tr><th scope=row>1</th><td>Lupus_langefeld.results                </td><td>gene_list_1_region_hg19_ext100Kbp</td><td>0.0186551</td><td>0.05495116</td><td>0.018071649</td><td>2.945638</td><td>0.9687245</td><td>1.909193e-02</td><td>2.809603e-08</td><td>5.933286e-08</td><td>0.47353232</td><td>0.4976866</td><td>2</td><td>gene_list_1</td></tr>\n",
       "\t<tr><th scope=row>2</th><td>Allergy_Eczema.results                 </td><td>gene_list_1_region_hg19_ext100Kbp</td><td>0.0186551</td><td>0.06980471</td><td>0.010979108</td><td>3.741857</td><td>0.5885313</td><td>1.275688e-05</td><td>2.064833e-08</td><td>8.270459e-09</td><td>2.49663616</td><td>2.2028103</td><td>2</td><td>gene_list_1</td></tr>\n",
       "\t<tr><th scope=row>3</th><td>Asthma.results                         </td><td>gene_list_1_region_hg19_ext100Kbp</td><td>0.0186551</td><td>0.07424813</td><td>0.016304368</td><td>3.980045</td><td>0.8739900</td><td>2.126230e-03</td><td>1.759117e-08</td><td>9.491741e-09</td><td>1.85331300</td><td>1.4959541</td><td>2</td><td>gene_list_1</td></tr>\n",
       "\t<tr><th scope=row>4</th><td>PASS_CD_deLange2017.results            </td><td>gene_list_1_region_hg19_ext100Kbp</td><td>0.0186551</td><td>0.08353392</td><td>0.012970891</td><td>4.477807</td><td>0.6953001</td><td>6.898860e-06</td><td>1.343023e-07</td><td>5.529558e-08</td><td>2.42880682</td><td>2.1206575</td><td>2</td><td>gene_list_1</td></tr>\n",
       "\t<tr><th scope=row>5</th><td>PASS_Schizophrenia_Pardinas2018.results</td><td>gene_list_1_region_hg19_ext100Kbp</td><td>0.0186551</td><td>0.02690230</td><td>0.005065708</td><td>1.442089</td><td>0.2715455</td><td>1.047012e-01</td><td>1.742826e-08</td><td>1.832445e-08</td><td>0.95109291</td><td>0.7675665</td><td>2</td><td>gene_list_1</td></tr>\n",
       "\t<tr><th scope=row>6</th><td>PASS_BMI1.results                      </td><td>gene_list_1_region_hg19_ext100Kbp</td><td>0.0186551</td><td>0.02355940</td><td>0.005909873</td><td>1.262893</td><td>0.3167967</td><td>4.075688e-01</td><td>5.633774e-10</td><td>7.137793e-09</td><td>0.07892879</td><td>0.3292490</td><td>2</td><td>gene_list_1</td></tr>\n",
       "</tbody>\n",
       "</table>\n"
      ],
      "text/latex": [
       "A data.frame: 6 × 14\n",
       "\\begin{tabular}{r|llllllllllllll}\n",
       "  & sumstatsname & celltype & Prop.\\_SNPs & Prop.\\_h2 & Prop.\\_h2\\_std\\_error & Enrichment & Enrichment\\_std\\_error & Enrichment\\_p & Coefficient & Coefficient\\_std\\_error & Coefficient\\_z.score & minuslog10p & file\\_num & cell\\_type2\\\\\n",
       "  & <chr> & <chr> & <dbl> & <dbl> & <dbl> & <dbl> & <dbl> & <dbl> & <dbl> & <dbl> & <dbl> & <dbl> & <chr> & <chr>\\\\\n",
       "\\hline\n",
       "\t1 & Lupus\\_langefeld.results                 & gene\\_list\\_1\\_region\\_hg19\\_ext100Kbp & 0.0186551 & 0.05495116 & 0.018071649 & 2.945638 & 0.9687245 & 1.909193e-02 & 2.809603e-08 & 5.933286e-08 & 0.47353232 & 0.4976866 & 2 & gene\\_list\\_1\\\\\n",
       "\t2 & Allergy\\_Eczema.results                  & gene\\_list\\_1\\_region\\_hg19\\_ext100Kbp & 0.0186551 & 0.06980471 & 0.010979108 & 3.741857 & 0.5885313 & 1.275688e-05 & 2.064833e-08 & 8.270459e-09 & 2.49663616 & 2.2028103 & 2 & gene\\_list\\_1\\\\\n",
       "\t3 & Asthma.results                          & gene\\_list\\_1\\_region\\_hg19\\_ext100Kbp & 0.0186551 & 0.07424813 & 0.016304368 & 3.980045 & 0.8739900 & 2.126230e-03 & 1.759117e-08 & 9.491741e-09 & 1.85331300 & 1.4959541 & 2 & gene\\_list\\_1\\\\\n",
       "\t4 & PASS\\_CD\\_deLange2017.results             & gene\\_list\\_1\\_region\\_hg19\\_ext100Kbp & 0.0186551 & 0.08353392 & 0.012970891 & 4.477807 & 0.6953001 & 6.898860e-06 & 1.343023e-07 & 5.529558e-08 & 2.42880682 & 2.1206575 & 2 & gene\\_list\\_1\\\\\n",
       "\t5 & PASS\\_Schizophrenia\\_Pardinas2018.results & gene\\_list\\_1\\_region\\_hg19\\_ext100Kbp & 0.0186551 & 0.02690230 & 0.005065708 & 1.442089 & 0.2715455 & 1.047012e-01 & 1.742826e-08 & 1.832445e-08 & 0.95109291 & 0.7675665 & 2 & gene\\_list\\_1\\\\\n",
       "\t6 & PASS\\_BMI1.results                       & gene\\_list\\_1\\_region\\_hg19\\_ext100Kbp & 0.0186551 & 0.02355940 & 0.005909873 & 1.262893 & 0.3167967 & 4.075688e-01 & 5.633774e-10 & 7.137793e-09 & 0.07892879 & 0.3292490 & 2 & gene\\_list\\_1\\\\\n",
       "\\end{tabular}\n"
      ],
      "text/markdown": [
       "\n",
       "A data.frame: 6 × 14\n",
       "\n",
       "| <!--/--> | sumstatsname &lt;chr&gt; | celltype &lt;chr&gt; | Prop._SNPs &lt;dbl&gt; | Prop._h2 &lt;dbl&gt; | Prop._h2_std_error &lt;dbl&gt; | Enrichment &lt;dbl&gt; | Enrichment_std_error &lt;dbl&gt; | Enrichment_p &lt;dbl&gt; | Coefficient &lt;dbl&gt; | Coefficient_std_error &lt;dbl&gt; | Coefficient_z.score &lt;dbl&gt; | minuslog10p &lt;dbl&gt; | file_num &lt;chr&gt; | cell_type2 &lt;chr&gt; |\n",
       "|---|---|---|---|---|---|---|---|---|---|---|---|---|---|---|\n",
       "| 1 | Lupus_langefeld.results                 | gene_list_1_region_hg19_ext100Kbp | 0.0186551 | 0.05495116 | 0.018071649 | 2.945638 | 0.9687245 | 1.909193e-02 | 2.809603e-08 | 5.933286e-08 | 0.47353232 | 0.4976866 | 2 | gene_list_1 |\n",
       "| 2 | Allergy_Eczema.results                  | gene_list_1_region_hg19_ext100Kbp | 0.0186551 | 0.06980471 | 0.010979108 | 3.741857 | 0.5885313 | 1.275688e-05 | 2.064833e-08 | 8.270459e-09 | 2.49663616 | 2.2028103 | 2 | gene_list_1 |\n",
       "| 3 | Asthma.results                          | gene_list_1_region_hg19_ext100Kbp | 0.0186551 | 0.07424813 | 0.016304368 | 3.980045 | 0.8739900 | 2.126230e-03 | 1.759117e-08 | 9.491741e-09 | 1.85331300 | 1.4959541 | 2 | gene_list_1 |\n",
       "| 4 | PASS_CD_deLange2017.results             | gene_list_1_region_hg19_ext100Kbp | 0.0186551 | 0.08353392 | 0.012970891 | 4.477807 | 0.6953001 | 6.898860e-06 | 1.343023e-07 | 5.529558e-08 | 2.42880682 | 2.1206575 | 2 | gene_list_1 |\n",
       "| 5 | PASS_Schizophrenia_Pardinas2018.results | gene_list_1_region_hg19_ext100Kbp | 0.0186551 | 0.02690230 | 0.005065708 | 1.442089 | 0.2715455 | 1.047012e-01 | 1.742826e-08 | 1.832445e-08 | 0.95109291 | 0.7675665 | 2 | gene_list_1 |\n",
       "| 6 | PASS_BMI1.results                       | gene_list_1_region_hg19_ext100Kbp | 0.0186551 | 0.02355940 | 0.005909873 | 1.262893 | 0.3167967 | 4.075688e-01 | 5.633774e-10 | 7.137793e-09 | 0.07892879 | 0.3292490 | 2 | gene_list_1 |\n",
       "\n"
      ],
      "text/plain": [
       "  sumstatsname                            celltype                         \n",
       "1 Lupus_langefeld.results                 gene_list_1_region_hg19_ext100Kbp\n",
       "2 Allergy_Eczema.results                  gene_list_1_region_hg19_ext100Kbp\n",
       "3 Asthma.results                          gene_list_1_region_hg19_ext100Kbp\n",
       "4 PASS_CD_deLange2017.results             gene_list_1_region_hg19_ext100Kbp\n",
       "5 PASS_Schizophrenia_Pardinas2018.results gene_list_1_region_hg19_ext100Kbp\n",
       "6 PASS_BMI1.results                       gene_list_1_region_hg19_ext100Kbp\n",
       "  Prop._SNPs Prop._h2   Prop._h2_std_error Enrichment Enrichment_std_error\n",
       "1 0.0186551  0.05495116 0.018071649        2.945638   0.9687245           \n",
       "2 0.0186551  0.06980471 0.010979108        3.741857   0.5885313           \n",
       "3 0.0186551  0.07424813 0.016304368        3.980045   0.8739900           \n",
       "4 0.0186551  0.08353392 0.012970891        4.477807   0.6953001           \n",
       "5 0.0186551  0.02690230 0.005065708        1.442089   0.2715455           \n",
       "6 0.0186551  0.02355940 0.005909873        1.262893   0.3167967           \n",
       "  Enrichment_p Coefficient  Coefficient_std_error Coefficient_z.score\n",
       "1 1.909193e-02 2.809603e-08 5.933286e-08          0.47353232         \n",
       "2 1.275688e-05 2.064833e-08 8.270459e-09          2.49663616         \n",
       "3 2.126230e-03 1.759117e-08 9.491741e-09          1.85331300         \n",
       "4 6.898860e-06 1.343023e-07 5.529558e-08          2.42880682         \n",
       "5 1.047012e-01 1.742826e-08 1.832445e-08          0.95109291         \n",
       "6 4.075688e-01 5.633774e-10 7.137793e-09          0.07892879         \n",
       "  minuslog10p file_num cell_type2 \n",
       "1 0.4976866   2        gene_list_1\n",
       "2 2.2028103   2        gene_list_1\n",
       "3 1.4959541   2        gene_list_1\n",
       "4 2.1206575   2        gene_list_1\n",
       "5 0.7675665   2        gene_list_1\n",
       "6 0.3292490   2        gene_list_1"
      ]
     },
     "metadata": {},
     "output_type": "display_data"
    }
   ],
   "source": [
    "# 各クラスターのデータを確認\n",
    "head(merge_df2 %>% filter(cell_type2 == \"gene_list_0\"))\n",
    "head(merge_df2 %>% filter(cell_type2 == \"gene_list_1\"))"
   ]
  },
  {
   "cell_type": "code",
   "execution_count": null,
   "id": "45d1d46e-d32f-4740-a59f-f4fd1d3daed4",
   "metadata": {},
   "outputs": [],
   "source": [
    "Lupus_langefeld.results（ループス）\n",
    "RA_ishigaki.results（関節リウマチ）\n",
    "2. アレルギー・アトピー関連疾患\n",
    "Allergy_Eczema.results（アレルギー・湿疹）\n",
    "Asthma.results（喘息）\n",
    "AdultOnsetAsthma_Ferreira2019.results（成人発症喘息）\n",
    "3. 精神疾患\n",
    "PASS_Schizophrenia_Pardinas2018.results（統合失調症）\n",
    "4. メタボリックおよび生活習慣関連\n",
    "PASS_BMI1.results（BMI）\n",
    "PASS_SleepDuration_Dashti2019.results（睡眠時間）\n",
    "PASS_Type_2_Diabetes.results（2型糖尿病）\n",
    "5. その他\n",
    "PASS_CD_deLange2017.results（クローン病）"
   ]
  },
  {
   "cell_type": "code",
   "execution_count": 26,
   "id": "64a2936a-88a9-4e82-b117-a04f81407041",
   "metadata": {},
   "outputs": [
    {
     "data": {
      "text/html": [
       "<style>\n",
       ".list-inline {list-style: none; margin:0; padding: 0}\n",
       ".list-inline>li {display: inline-block}\n",
       ".list-inline>li:not(:last-child)::after {content: \"\\00b7\"; padding: 0 .5ex}\n",
       "</style>\n",
       "<ol class=list-inline><li>'Allergy_Eczema.results'</li><li>'Asthma.results'</li><li>'AdultOnsetAsthma_Ferreira2019.results'</li><li>'Lupus_langefeld.results'</li><li>'RA_ishigaki.results'</li><li>'PASS_CD_deLange2017.results'</li><li>'PASS_Schizophrenia_Pardinas2018.results'</li><li>'PASS_BMI1.results'</li><li>'PASS_SleepDuration_Dashti2019.results'</li><li>'PASS_Type_2_Diabetes.results'</li></ol>\n"
      ],
      "text/latex": [
       "\\begin{enumerate*}\n",
       "\\item 'Allergy\\_Eczema.results'\n",
       "\\item 'Asthma.results'\n",
       "\\item 'AdultOnsetAsthma\\_Ferreira2019.results'\n",
       "\\item 'Lupus\\_langefeld.results'\n",
       "\\item 'RA\\_ishigaki.results'\n",
       "\\item 'PASS\\_CD\\_deLange2017.results'\n",
       "\\item 'PASS\\_Schizophrenia\\_Pardinas2018.results'\n",
       "\\item 'PASS\\_BMI1.results'\n",
       "\\item 'PASS\\_SleepDuration\\_Dashti2019.results'\n",
       "\\item 'PASS\\_Type\\_2\\_Diabetes.results'\n",
       "\\end{enumerate*}\n"
      ],
      "text/markdown": [
       "1. 'Allergy_Eczema.results'\n",
       "2. 'Asthma.results'\n",
       "3. 'AdultOnsetAsthma_Ferreira2019.results'\n",
       "4. 'Lupus_langefeld.results'\n",
       "5. 'RA_ishigaki.results'\n",
       "6. 'PASS_CD_deLange2017.results'\n",
       "7. 'PASS_Schizophrenia_Pardinas2018.results'\n",
       "8. 'PASS_BMI1.results'\n",
       "9. 'PASS_SleepDuration_Dashti2019.results'\n",
       "10. 'PASS_Type_2_Diabetes.results'\n",
       "\n",
       "\n"
      ],
      "text/plain": [
       " [1] \"Allergy_Eczema.results\"                 \n",
       " [2] \"Asthma.results\"                         \n",
       " [3] \"AdultOnsetAsthma_Ferreira2019.results\"  \n",
       " [4] \"Lupus_langefeld.results\"                \n",
       " [5] \"RA_ishigaki.results\"                    \n",
       " [6] \"PASS_CD_deLange2017.results\"            \n",
       " [7] \"PASS_Schizophrenia_Pardinas2018.results\"\n",
       " [8] \"PASS_BMI1.results\"                      \n",
       " [9] \"PASS_SleepDuration_Dashti2019.results\"  \n",
       "[10] \"PASS_Type_2_Diabetes.results\"           "
      ]
     },
     "metadata": {},
     "output_type": "display_data"
    }
   ],
   "source": [
    "# 指定された順番で並べ替え\n",
    "sorted_sumstats_list <- c(\n",
    "  'Allergy_Eczema.results',\n",
    "  'Asthma.results',\n",
    "  'AdultOnsetAsthma_Ferreira2019.results',\n",
    "  'Lupus_langefeld.results',\n",
    "  'RA_ishigaki.results',\n",
    "  'PASS_CD_deLange2017.results',\n",
    "  'PASS_Schizophrenia_Pardinas2018.results',\n",
    "  'PASS_BMI1.results',\n",
    "  'PASS_SleepDuration_Dashti2019.results',\n",
    "  'PASS_Type_2_Diabetes.results'\n",
    ")\n",
    "\n",
    "sorted_sumstats_list"
   ]
  },
  {
   "cell_type": "code",
   "execution_count": 30,
   "id": "538fedfe-1304-45e1-a79a-b9ef70963e0d",
   "metadata": {},
   "outputs": [
    {
     "data": {
      "image/png": "[encoded data removed]",
      "text/plain": [
       "plot without title"
      ]
     },
     "metadata": {
      "image/png": {
       "height": 420,
       "width": 420
      }
     },
     "output_type": "display_data"
    }
   ],
   "source": [
    "# 指定した順番で並べ替えるリスト\n",
    "sumstats_list <- c(\n",
    "  'Allergy_Eczema.results',\n",
    "  'Asthma.results',\n",
    "  'AdultOnsetAsthma_Ferreira2019.results',\n",
    "  'Lupus_langefeld.results',\n",
    "  'RA_ishigaki.results',\n",
    "  'PASS_CD_deLange2017.results',\n",
    "  'PASS_Schizophrenia_Pardinas2018.results',\n",
    "  'PASS_BMI1.results',\n",
    "  'PASS_SleepDuration_Dashti2019.results',\n",
    "  'PASS_Type_2_Diabetes.results'\n",
    ")\n",
    "\n",
    "# sumstatsname をファクター化（指定された順番）\n",
    "merge_df2$sumstatsname <- factor(merge_df2$sumstatsname, levels = sumstats_list)\n",
    "\n",
    "# ggplotで棒グラフを描画\n",
    "library(ggplot2)\n",
    "ggplot(merge_df2, aes(x = minuslog10p, y = cell_type2, fill = cell_type2)) + \n",
    "  geom_bar(stat = \"identity\") + \n",
    "  facet_wrap(~sumstatsname) +\n",
    "  theme_minimal() +\n",
    "  labs(x = \"-log10(p)\", y = \"Gene List\", title = \"Cluster-wise -log10(p) across Sumstats\") +\n",
    "  theme(\n",
    "    strip.text.x = element_text(size = 6),  # ファセットタイトルのフォントサイズを調整\n",
    "    strip.text.y = element_text(angle = 0)  # ファセットタイトルの角度を調整\n",
    "  ) +\n",
    "  geom_vline(xintercept = -log10(0.05/7), color = 'red')  # 有意閾値のラインを追加\n",
    "\n",
    "# グラフを保存\n",
    "ggsave(paste0(out_f, \"/barplot_minuslog10p_all_sumstats.png\"), width = 10, height = 10)\n"
   ]
  }
 ],
 "metadata": {
  "kernelspec": {
   "display_name": "R",
   "language": "R",
   "name": "ir"
  },
  "language_info": {
   "codemirror_mode": "r",
   "file_extension": ".r",
   "mimetype": "text/x-r-source",
   "name": "R",
   "pygments_lexer": "r",
   "version": "4.3.3"
  }
 },
 "nbformat": 4,
 "nbformat_minor": 5
}
