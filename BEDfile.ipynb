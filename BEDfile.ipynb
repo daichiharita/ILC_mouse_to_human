{
 "cells": [
  {
   "cell_type": "code",
   "execution_count": 1,
   "id": "6646766d-9874-4d27-9f62-e16bd7e8a0b4",
   "metadata": {},
   "outputs": [
    {
     "name": "stderr",
     "output_type": "stream",
     "text": [
      "\n",
      " 次のパッケージを付け加えます: ‘dplyr’ \n",
      "\n",
      "\n",
      " 以下のオブジェクトは ‘package:stats’ からマスクされています:\n",
      "\n",
      "    filter, lag\n",
      "\n",
      "\n",
      " 以下のオブジェクトは ‘package:base’ からマスクされています:\n",
      "\n",
      "    intersect, setdiff, setequal, union\n",
      "\n",
      "\n"
     ]
    },
    {
     "name": "stdout",
     "output_type": "stream",
     "text": [
      "gene_list.txtにGene_stableNAIDのリストを作成しました。\n"
     ]
    }
   ],
   "source": [
    "# 必要なライブラリを読み込む（もし未インストールなら、install.packages()でインストール）\n",
    "library(dplyr)\n",
    "\n",
    "# ファイルが保存されているディレクトリのパス\n",
    "directory <- \"~/work/scRNA-seq/result/mousetohuman4/\"\n",
    "\n",
    "# geneリストを格納するためのデータフレーム\n",
    "gene_list <- data.frame(gene = character())\n",
    "\n",
    "# gene_cluster_0.txt から gene_cluster_7.txt までのファイルを処理\n",
    "for (i in 0:7) {\n",
    "  file_path <- paste0(directory, \"gene_cluster_\", i, \".txt\")\n",
    "  \n",
    "  # ファイルの読み込み\n",
    "  data <- read.table(file_path, header = TRUE, sep = \"\\t\", stringsAsFactors = FALSE)\n",
    "  \n",
    "  # Gene_stableNAID列（3列目）を抽出し、重複を削除\n",
    "  gene_list <- bind_rows(gene_list, data.frame(gene = data$Gene_stableNAID)) %>%\n",
    "    distinct()\n",
    "}\n",
    "\n",
    "# gene_listをファイルに書き込む\n",
    "write.table(gene_list, file = \"gene_list.txt\", quote = FALSE, sep = \"\\t\", row.names = FALSE, col.names = TRUE)\n",
    "\n",
    "cat(\"gene_list.txtにGene_stableNAIDのリストを作成しました。\\n\")"
   ]
  },
  {
   "cell_type": "code",
   "execution_count": 5,
   "id": "fd08717a-a21b-4042-8630-c39facd75ac9",
   "metadata": {},
   "outputs": [
    {
     "name": "stdout",
     "output_type": "stream",
     "text": [
      "8つのgenelistがdatalistディレクトリに保存されました。\n"
     ]
    }
   ],
   "source": [
    "# 必要なライブラリを読み込み\n",
    "library(dplyr)\n",
    "\n",
    "# ファイルが保存されているディレクトリのパス\n",
    "directory <- \"~/work/scRNA-seq/result/mousetohuman4/\"\n",
    "\n",
    "# 保存先のディレクトリ（datalist）を作成\n",
    "datalist_dir <- paste0(directory, \"datalist/\")\n",
    "if (!dir.exists(datalist_dir)) {\n",
    "  dir.create(datalist_dir)\n",
    "}\n",
    "\n",
    "# gene_cluster_0.txt から gene_cluster_7.txt までのファイルを処理\n",
    "for (i in 0:7) {\n",
    "  file_path <- paste0(directory, \"gene_cluster_\", i, \".txt\")\n",
    "  \n",
    "  # ファイルの読み込み\n",
    "  data <- read.table(file_path, header = TRUE, sep = \"\\t\", stringsAsFactors = FALSE)\n",
    "  \n",
    "  # Gene_stableNAID列（3列目）を抽出し、重複を削除\n",
    "  gene_list <- data.frame(gene = data$Gene_stableNAID) %>%\n",
    "    distinct()\n",
    "  \n",
    "  # 各ファイルを個別に保存（gene_list_0.txt ~ gene_list_7.txt）\n",
    "  output_file <- paste0(datalist_dir, \"gene_list_\", i, \".txt\")\n",
    "  write.table(gene_list, file = output_file, quote = FALSE, sep = \"\\t\", row.names = FALSE, col.names = TRUE)\n",
    "}\n",
    "\n",
    "cat(\"8つのgenelistがdatalistディレクトリに保存されました。\\n\")\n"
   ]
  },
  {
   "cell_type": "code",
   "execution_count": 6,
   "id": "83cf8a37",
   "metadata": {},
   "outputs": [
    {
     "name": "stderr",
     "output_type": "stream",
     "text": [
      "── \u001b[1mAttaching core tidyverse packages\u001b[22m ──────────────────────────────────────────────────────────────── tidyverse 2.0.0 ──\n",
      "\u001b[32m✔\u001b[39m \u001b[34mforcats  \u001b[39m 1.0.0     \u001b[32m✔\u001b[39m \u001b[34mreadr    \u001b[39m 2.1.5\n",
      "\u001b[32m✔\u001b[39m \u001b[34mggplot2  \u001b[39m 3.5.1     \u001b[32m✔\u001b[39m \u001b[34mstringr  \u001b[39m 1.5.1\n",
      "\u001b[32m✔\u001b[39m \u001b[34mlubridate\u001b[39m 1.9.3     \u001b[32m✔\u001b[39m \u001b[34mtibble   \u001b[39m 3.2.1\n",
      "\u001b[32m✔\u001b[39m \u001b[34mpurrr    \u001b[39m 1.0.2     \u001b[32m✔\u001b[39m \u001b[34mtidyr    \u001b[39m 1.3.1\n",
      "── \u001b[1mConflicts\u001b[22m ────────────────────────────────────────────────────────────────────────────────── tidyverse_conflicts() ──\n",
      "\u001b[31m✖\u001b[39m \u001b[34mdplyr\u001b[39m::\u001b[32mfilter()\u001b[39m masks \u001b[34mstats\u001b[39m::filter()\n",
      "\u001b[31m✖\u001b[39m \u001b[34mdplyr\u001b[39m::\u001b[32mlag()\u001b[39m    masks \u001b[34mstats\u001b[39m::lag()\n",
      "\u001b[36mℹ\u001b[39m Use the conflicted package (\u001b[3m\u001b[34m<http://conflicted.r-lib.org/>\u001b[39m\u001b[23m) to force all conflicts to become errors\n"
     ]
    }
   ],
   "source": [
    "library(tidyverse)\n",
    "library(dplyr)"
   ]
  },
  {
   "cell_type": "code",
   "execution_count": 7,
   "id": "14e460b7",
   "metadata": {},
   "outputs": [
    {
     "data": {
      "text/html": [
       "59936"
      ],
      "text/latex": [
       "59936"
      ],
      "text/markdown": [
       "59936"
      ],
      "text/plain": [
       "[1] 59936"
      ]
     },
     "metadata": {},
     "output_type": "display_data"
    }
   ],
   "source": [
    "gft_df=read.table(\"/home/k1_taka/reference/gencode/gene_region.bed\")\n",
    "colnames(gft_df)=c(\"CHR\", \"START\", \"END\",\"genes\")\n",
    "nrow(gft_df) #58288"
   ]
  },
  {
   "cell_type": "code",
   "execution_count": 8,
   "id": "1333ef92",
   "metadata": {},
   "outputs": [],
   "source": [
    "gft_df2=gft_df %>% separate(genes, c(\"gene\", \"ver\"), \"\\\\.\") %>% select(c(\"gene\", \"CHR\", \"START\", \"END\"))"
   ]
  },
  {
   "cell_type": "code",
   "execution_count": 4,
   "id": "642bb11e",
   "metadata": {},
   "outputs": [],
   "source": [
    "dir_path=\"~/LDSC/S_LDSC_tutorial/20241011_tutorial\"\n",
    "gene_list=\"test_gene_list.txt\""
   ]
  },
  {
   "cell_type": "code",
   "execution_count": 5,
   "id": "dc8c2472",
   "metadata": {},
   "outputs": [],
   "source": [
    "gft_df3=gft_df2[!(duplicated(gft_df2$gene) | duplicated(gft_df2$gene, fromLast = TRUE)),] "
   ]
  },
  {
   "cell_type": "code",
   "execution_count": 6,
   "id": "f510fc00",
   "metadata": {},
   "outputs": [],
   "source": [
    "rownames(gft_df3)=gft_df3$gene"
   ]
  },
  {
   "cell_type": "code",
   "execution_count": null,
   "id": "a128f9fa",
   "metadata": {},
   "outputs": [],
   "source": [
    "##修正20241017 bed_dfファイルにNAが含まれる場合も対応できるようにした\n",
    "df=read.table(paste0(dir_path,\"/\", gene_list), header=1)\n",
    "\n",
    "bed_df=gft_df3[df$gene,] %>% select(c(\"CHR\", \"START\", \"END\"))\n",
    "bed_df_woNA=na.omit(bed_df)\n",
    "out_f=paste0(dir_path, \"/gene_region_v26\")\n",
    "dir.create(out_f)\n",
    "data_name=strsplit(gene_list, \"\\\\.\")\n",
    "write.table(bed_df_woNA,paste0(out_f, \"/\", data_name[[1]][1], \"_region.bed\"),row.names=FALSE,col.names=FALSE, sep=\"\\t\", append=F, quote=F)\n",
    "\n",
    "## output：\n",
    "#dir_pathフォルダ内のgene_region_v26フォルダに「gene_listの拡張子まで+\"_region.bed\"」というファイルができている。\n",
    "#ex. gene_list=\"gene_name.txt\"としたら、\"gene_name_region.bed\"というファイルができている"
   ]
  },
  {
   "cell_type": "code",
   "execution_count": 10,
   "id": "017011d5-d837-4bc9-a434-db33942232d1",
   "metadata": {},
   "outputs": [
    {
     "name": "stdout",
     "output_type": "stream",
     "text": [
      "~/LDSC/S_LDSC_tutorial5/gene_region_v26/gene_list_0_region.bed が作成されました。\n",
      "~/LDSC/S_LDSC_tutorial5/gene_region_v26/gene_list_1_region.bed が作成されました。\n",
      "~/LDSC/S_LDSC_tutorial5/gene_region_v26/gene_list_2_region.bed が作成されました。\n",
      "~/LDSC/S_LDSC_tutorial5/gene_region_v26/gene_list_3_region.bed が作成されました。\n",
      "~/LDSC/S_LDSC_tutorial5/gene_region_v26/gene_list_4_region.bed が作成されました。\n",
      "~/LDSC/S_LDSC_tutorial5/gene_region_v26/gene_list_5_region.bed が作成されました。\n",
      "~/LDSC/S_LDSC_tutorial5/gene_region_v26/gene_list_6_region.bed が作成されました。\n",
      "~/LDSC/S_LDSC_tutorial5/gene_region_v26/gene_list_7_region.bed が作成されました。\n"
     ]
    }
   ],
   "source": [
    "library(dplyr)\n",
    "\n",
    "# 基本設定\n",
    "dir_path <- \"~/LDSC/S_LDSC_tutorial5\"\n",
    "datalist_dir <- \"~/work/scRNA-seq/result/mousetohuman4/datalist/\"\n",
    "\n",
    "# gft_df2 データフレームが既に存在している前提で進める\n",
    "gft_df3 <- gft_df2[!(duplicated(gft_df2$gene) | duplicated(gft_df2$gene, fromLast = TRUE)),] \n",
    "rownames(gft_df3) <- gft_df3$gene\n",
    "\n",
    "# 8つのgenelistを処理するループ\n",
    "for (i in 0:7) {\n",
    "  # gene_listファイルを指定\n",
    "  gene_list <- paste0(\"gene_list_\", i, \".txt\")\n",
    "  \n",
    "  # gene_listファイルを読み込み\n",
    "  df <- read.table(paste0(datalist_dir, gene_list), header = TRUE)\n",
    "  \n",
    "  # 必要な情報をgft_df3から抽出\n",
    "  bed_df <- gft_df3[df$gene,] %>% select(c(\"CHR\", \"START\", \"END\"))\n",
    "  \n",
    "  # NAの行を削除\n",
    "  bed_df_woNA <- na.omit(bed_df)\n",
    "  \n",
    "  # 出力ディレクトリの作成\n",
    "  out_f <- paste0(dir_path, \"/gene_region_v26\")\n",
    "  if (!dir.exists(out_f)) {\n",
    "    dir.create(out_f)\n",
    "  }\n",
    "  \n",
    "  # 出力ファイル名を設定\n",
    "  data_name <- strsplit(gene_list, \"\\\\.\")\n",
    "  output_file <- paste0(out_f, \"/\", data_name[[1]][1], \"_region.bed\")\n",
    "  \n",
    "  # Bedファイルに書き込み\n",
    "  write.table(bed_df_woNA, output_file, row.names = FALSE, col.names = FALSE, sep = \"\\t\", append = FALSE, quote = FALSE)\n",
    "  \n",
    "  cat(output_file, \"が作成されました。\\n\")\n",
    "}\n"
   ]
  },
  {
   "cell_type": "code",
   "execution_count": null,
   "id": "ff79e97d",
   "metadata": {},
   "outputs": [],
   "source": [
    "##オプション gene領域の前後100kBを含むように延長する\n",
    "\n",
    "dir_path=\"LDSC/S_LDSC_tutorial/20241011_tutorial\"\n",
    "gene_list=\"test_gene_list.txt\"\n",
    "out_f2=${dir_path}/gene_region_v26_100KB_ext\n",
    "mkdir ${out_f2}\n",
    "\n",
    "filename=`echo $gene_list | cut -d \".\" -f 1`\n",
    "export PATH=/home/k1_taka/miniconda3/envs/renv/bin:${PATH}\n",
    "bedtools slop -i ${dir_path}/gene_region_v26/${filename}_region.bed -g /home/k1_taka/reference/chrom.sizes -b 100000 > ${out_f2}/${filename}_region_hg19_ext100Kbp.bed\n",
    "\n",
    "##output###\n",
    "#${dir_path}/gene_region_v26_100KB_extファイルに「gene_listの拡張子まで+\"_region_hg19_ext100Kbp.bed\"」というファイルができる"
   ]
  },
  {
   "cell_type": "code",
   "execution_count": 14,
   "id": "d97b7c14-abb5-41e7-933a-3a37ec9c50cb",
   "metadata": {},
   "outputs": [
    {
     "name": "stdout",
     "output_type": "stream",
     "text": [
      "~/LDSC/S_LDSC_tutorial5/gene_region_v26/gene_list_0_region.bed が作成されました。\n",
      "~/LDSC/S_LDSC_tutorial5/gene_region_v26_100KB_ext / gene_list_0 _region_hg19_ext100Kbp.bed が作成されました。\n",
      "~/LDSC/S_LDSC_tutorial5/gene_region_v26/gene_list_1_region.bed が作成されました。\n",
      "~/LDSC/S_LDSC_tutorial5/gene_region_v26_100KB_ext / gene_list_1 _region_hg19_ext100Kbp.bed が作成されました。\n",
      "~/LDSC/S_LDSC_tutorial5/gene_region_v26/gene_list_2_region.bed が作成されました。\n",
      "~/LDSC/S_LDSC_tutorial5/gene_region_v26_100KB_ext / gene_list_2 _region_hg19_ext100Kbp.bed が作成されました。\n",
      "~/LDSC/S_LDSC_tutorial5/gene_region_v26/gene_list_3_region.bed が作成されました。\n",
      "~/LDSC/S_LDSC_tutorial5/gene_region_v26_100KB_ext / gene_list_3 _region_hg19_ext100Kbp.bed が作成されました。\n",
      "~/LDSC/S_LDSC_tutorial5/gene_region_v26/gene_list_4_region.bed が作成されました。\n",
      "~/LDSC/S_LDSC_tutorial5/gene_region_v26_100KB_ext / gene_list_4 _region_hg19_ext100Kbp.bed が作成されました。\n",
      "~/LDSC/S_LDSC_tutorial5/gene_region_v26/gene_list_5_region.bed が作成されました。\n",
      "~/LDSC/S_LDSC_tutorial5/gene_region_v26_100KB_ext / gene_list_5 _region_hg19_ext100Kbp.bed が作成されました。\n",
      "~/LDSC/S_LDSC_tutorial5/gene_region_v26/gene_list_6_region.bed が作成されました。\n",
      "~/LDSC/S_LDSC_tutorial5/gene_region_v26_100KB_ext / gene_list_6 _region_hg19_ext100Kbp.bed が作成されました。\n",
      "~/LDSC/S_LDSC_tutorial5/gene_region_v26/gene_list_7_region.bed が作成されました。\n",
      "~/LDSC/S_LDSC_tutorial5/gene_region_v26_100KB_ext / gene_list_7 _region_hg19_ext100Kbp.bed が作成されました。\n"
     ]
    }
   ],
   "source": [
    "library(dplyr)\n",
    "\n",
    "# 基本設定\n",
    "dir_path <- \"~/LDSC/S_LDSC_tutorial5\"\n",
    "datalist_dir <- \"~/work/scRNA-seq/result/mousetohuman4/datalist/\"\n",
    "\n",
    "# gft_df2 データフレームが既に存在している前提で進める\n",
    "gft_df3 <- gft_df2[!(duplicated(gft_df2$gene) | duplicated(gft_df2$gene, fromLast = TRUE)),]\n",
    "rownames(gft_df3) <- gft_df3$gene\n",
    "\n",
    "# 8つのgenelistを処理するループ\n",
    "for (i in 0:7) {\n",
    "  # gene_listファイルを指定\n",
    "  gene_list <- paste0(\"gene_list_\", i, \".txt\")\n",
    "  \n",
    "  # gene_listファイルを読み込み\n",
    "  df <- read.table(paste0(datalist_dir, gene_list), header = TRUE)\n",
    "  \n",
    "  # 必要な情報をgft_df3から抽出\n",
    "  bed_df <- gft_df3[df$gene,] %>% select(c(\"CHR\", \"START\", \"END\"))\n",
    "  \n",
    "  # NAの行を削除\n",
    "  bed_df_woNA <- na.omit(bed_df)\n",
    "  \n",
    "  # 出力ディレクトリの作成\n",
    "  out_f <- paste0(dir_path, \"/gene_region_v26\")\n",
    "  if (!dir.exists(out_f)) {\n",
    "    dir.create(out_f)\n",
    "  }\n",
    "  \n",
    "  # 出力ファイル名を設定\n",
    "  data_name <- strsplit(gene_list, \"\\\\.\")\n",
    "  output_file <- paste0(out_f, \"/\", data_name[[1]][1], \"_region.bed\")\n",
    "  \n",
    "  # Bedファイルに書き込み\n",
    "  write.table(bed_df_woNA, output_file, row.names = FALSE, col.names = FALSE, sep = \"\\t\", append = FALSE, quote = FALSE)\n",
    "  \n",
    "  cat(output_file, \"が作成されました。\\n\")\n",
    "  \n",
    "  ### 100kB拡張用の処理 ###\n",
    "  # 100kB拡張の出力ディレクトリ作成\n",
    "  out_f2 <- paste0(dir_path, \"/gene_region_v26_100KB_ext\")\n",
    "  if (!dir.exists(out_f2)) {\n",
    "    dir.create(out_f2)\n",
    "  }\n",
    "  \n",
    "  # bedtoolsを使って前後100kBを含む領域を拡張\n",
    "  system(paste0(\"bedtools slop -i \", output_file,\n",
    "                \" -g /home/k1_taka/reference/chrom.sizes -b 100000 > \",\n",
    "                out_f2, \"/\", data_name[[1]][1], \"_region_hg19_ext100Kbp.bed\"))\n",
    "  \n",
    "  cat(out_f2, \"/\", data_name[[1]][1], \"_region_hg19_ext100Kbp.bed が作成されました。\\n\")\n",
    "}\n"
   ]
  }
 ],
 "metadata": {
  "kernelspec": {
   "display_name": "R 4.3_khat1",
   "language": "R",
   "name": "ir43_khat1"
  },
  "language_info": {
   "codemirror_mode": "r",
   "file_extension": ".r",
   "mimetype": "text/x-r-source",
   "name": "R",
   "pygments_lexer": "r",
   "version": "4.3.3"
  }
 },
 "nbformat": 4,
 "nbformat_minor": 5
}
